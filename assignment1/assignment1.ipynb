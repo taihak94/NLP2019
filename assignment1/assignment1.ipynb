{
 "cells": [
  {
   "cell_type": "markdown",
   "metadata": {},
   "source": [
    "# Assignment 1"
   ]
  },
  {
   "cell_type": "markdown",
   "metadata": {},
   "source": [
    "submitted by :\n",
    "Tair Hakman & Yaniv Bin "
   ]
  },
  {
   "cell_type": "markdown",
   "metadata": {},
   "source": [
    "## Part 1 "
   ]
  },
  {
   "cell_type": "markdown",
   "metadata": {},
   "source": [
    "### part 1.1"
   ]
  },
  {
   "cell_type": "markdown",
   "metadata": {},
   "source": [
    "First We'd like to start with importing all the modules we're going to use in this notebook:"
   ]
  },
  {
   "cell_type": "code",
   "execution_count": 2,
   "metadata": {},
   "outputs": [],
   "source": [
    "import nltk\n",
    "import os\n",
    "import re, pprint, collections\n",
    "from urllib import request\n",
    "from nltk import word_tokenize\n",
    "from nltk.tokenize import RegexpTokenizer\n",
    "from nltk.util import ngrams\n",
    "import numpy as np\n",
    "from os.path import abspath, dirname, join\n",
    "import inspect\n",
    "import matplotlib.pyplot as plt\n",
    "import matplotlib\n",
    "import math, statistics\n",
    "from math import log\n",
    "import random\n",
    "from collections import *\n",
    "import zipfile, tarfile\n",
    "import string"
   ]
  },
  {
   "cell_type": "markdown",
   "metadata": {},
   "source": [
    "and preparing the ptb set given in the file:"
   ]
  },
  {
   "cell_type": "code",
   "execution_count": 46,
   "metadata": {},
   "outputs": [
    {
     "ename": "FileNotFoundError",
     "evalue": "[Errno 2] No such file or directory: 'simple-examples.tgz'",
     "output_type": "error",
     "traceback": [
      "\u001b[1;31m---------------------------------------------------------------------------\u001b[0m",
      "\u001b[1;31mFileNotFoundError\u001b[0m                         Traceback (most recent call last)",
      "\u001b[1;32m<ipython-input-46-c746760ee8d5>\u001b[0m in \u001b[0;36m<module>\u001b[1;34m()\u001b[0m\n\u001b[0;32m      1\u001b[0m \u001b[1;31m#!wget http://www.fit.vutbr.cz/~imikolov/rnnlm/simple-examples.tgz\u001b[0m\u001b[1;33m\u001b[0m\u001b[1;33m\u001b[0m\u001b[0m\n\u001b[0;32m      2\u001b[0m \u001b[1;33m\u001b[0m\u001b[0m\n\u001b[1;32m----> 3\u001b[1;33m \u001b[0mtar\u001b[0m \u001b[1;33m=\u001b[0m \u001b[0mtarfile\u001b[0m\u001b[1;33m.\u001b[0m\u001b[0mopen\u001b[0m\u001b[1;33m(\u001b[0m\u001b[1;34m\"simple-examples.tgz\"\u001b[0m\u001b[1;33m,\u001b[0m\u001b[1;34m\"r\"\u001b[0m\u001b[1;33m)\u001b[0m\u001b[1;33m\u001b[0m\u001b[0m\n\u001b[0m\u001b[0;32m      4\u001b[0m \u001b[1;32mfor\u001b[0m \u001b[0mitem\u001b[0m \u001b[1;32min\u001b[0m \u001b[0mtar\u001b[0m\u001b[1;33m:\u001b[0m\u001b[1;33m\u001b[0m\u001b[0m\n\u001b[0;32m      5\u001b[0m     \u001b[0mtar\u001b[0m\u001b[1;33m.\u001b[0m\u001b[0mextract\u001b[0m\u001b[1;33m(\u001b[0m\u001b[0mitem\u001b[0m\u001b[1;33m,\u001b[0m \u001b[1;34m\"ptb\"\u001b[0m\u001b[1;33m)\u001b[0m\u001b[1;33m\u001b[0m\u001b[0m\n",
      "\u001b[1;32m~\\Anaconda3\\lib\\tarfile.py\u001b[0m in \u001b[0;36mopen\u001b[1;34m(cls, name, mode, fileobj, bufsize, **kwargs)\u001b[0m\n\u001b[0;32m   1566\u001b[0m                     \u001b[0msaved_pos\u001b[0m \u001b[1;33m=\u001b[0m \u001b[0mfileobj\u001b[0m\u001b[1;33m.\u001b[0m\u001b[0mtell\u001b[0m\u001b[1;33m(\u001b[0m\u001b[1;33m)\u001b[0m\u001b[1;33m\u001b[0m\u001b[0m\n\u001b[0;32m   1567\u001b[0m                 \u001b[1;32mtry\u001b[0m\u001b[1;33m:\u001b[0m\u001b[1;33m\u001b[0m\u001b[0m\n\u001b[1;32m-> 1568\u001b[1;33m                     \u001b[1;32mreturn\u001b[0m \u001b[0mfunc\u001b[0m\u001b[1;33m(\u001b[0m\u001b[0mname\u001b[0m\u001b[1;33m,\u001b[0m \u001b[1;34m\"r\"\u001b[0m\u001b[1;33m,\u001b[0m \u001b[0mfileobj\u001b[0m\u001b[1;33m,\u001b[0m \u001b[1;33m**\u001b[0m\u001b[0mkwargs\u001b[0m\u001b[1;33m)\u001b[0m\u001b[1;33m\u001b[0m\u001b[0m\n\u001b[0m\u001b[0;32m   1569\u001b[0m                 \u001b[1;32mexcept\u001b[0m \u001b[1;33m(\u001b[0m\u001b[0mReadError\u001b[0m\u001b[1;33m,\u001b[0m \u001b[0mCompressionError\u001b[0m\u001b[1;33m)\u001b[0m\u001b[1;33m:\u001b[0m\u001b[1;33m\u001b[0m\u001b[0m\n\u001b[0;32m   1570\u001b[0m                     \u001b[1;32mif\u001b[0m \u001b[0mfileobj\u001b[0m \u001b[1;32mis\u001b[0m \u001b[1;32mnot\u001b[0m \u001b[1;32mNone\u001b[0m\u001b[1;33m:\u001b[0m\u001b[1;33m\u001b[0m\u001b[0m\n",
      "\u001b[1;32m~\\Anaconda3\\lib\\tarfile.py\u001b[0m in \u001b[0;36mgzopen\u001b[1;34m(cls, name, mode, fileobj, compresslevel, **kwargs)\u001b[0m\n\u001b[0;32m   1631\u001b[0m \u001b[1;33m\u001b[0m\u001b[0m\n\u001b[0;32m   1632\u001b[0m         \u001b[1;32mtry\u001b[0m\u001b[1;33m:\u001b[0m\u001b[1;33m\u001b[0m\u001b[0m\n\u001b[1;32m-> 1633\u001b[1;33m             \u001b[0mfileobj\u001b[0m \u001b[1;33m=\u001b[0m \u001b[0mgzip\u001b[0m\u001b[1;33m.\u001b[0m\u001b[0mGzipFile\u001b[0m\u001b[1;33m(\u001b[0m\u001b[0mname\u001b[0m\u001b[1;33m,\u001b[0m \u001b[0mmode\u001b[0m \u001b[1;33m+\u001b[0m \u001b[1;34m\"b\"\u001b[0m\u001b[1;33m,\u001b[0m \u001b[0mcompresslevel\u001b[0m\u001b[1;33m,\u001b[0m \u001b[0mfileobj\u001b[0m\u001b[1;33m)\u001b[0m\u001b[1;33m\u001b[0m\u001b[0m\n\u001b[0m\u001b[0;32m   1634\u001b[0m         \u001b[1;32mexcept\u001b[0m \u001b[0mOSError\u001b[0m\u001b[1;33m:\u001b[0m\u001b[1;33m\u001b[0m\u001b[0m\n\u001b[0;32m   1635\u001b[0m             \u001b[1;32mif\u001b[0m \u001b[0mfileobj\u001b[0m \u001b[1;32mis\u001b[0m \u001b[1;32mnot\u001b[0m \u001b[1;32mNone\u001b[0m \u001b[1;32mand\u001b[0m \u001b[0mmode\u001b[0m \u001b[1;33m==\u001b[0m \u001b[1;34m'r'\u001b[0m\u001b[1;33m:\u001b[0m\u001b[1;33m\u001b[0m\u001b[0m\n",
      "\u001b[1;32m~\\Anaconda3\\lib\\gzip.py\u001b[0m in \u001b[0;36m__init__\u001b[1;34m(self, filename, mode, compresslevel, fileobj, mtime)\u001b[0m\n\u001b[0;32m    161\u001b[0m             \u001b[0mmode\u001b[0m \u001b[1;33m+=\u001b[0m \u001b[1;34m'b'\u001b[0m\u001b[1;33m\u001b[0m\u001b[0m\n\u001b[0;32m    162\u001b[0m         \u001b[1;32mif\u001b[0m \u001b[0mfileobj\u001b[0m \u001b[1;32mis\u001b[0m \u001b[1;32mNone\u001b[0m\u001b[1;33m:\u001b[0m\u001b[1;33m\u001b[0m\u001b[0m\n\u001b[1;32m--> 163\u001b[1;33m             \u001b[0mfileobj\u001b[0m \u001b[1;33m=\u001b[0m \u001b[0mself\u001b[0m\u001b[1;33m.\u001b[0m\u001b[0mmyfileobj\u001b[0m \u001b[1;33m=\u001b[0m \u001b[0mbuiltins\u001b[0m\u001b[1;33m.\u001b[0m\u001b[0mopen\u001b[0m\u001b[1;33m(\u001b[0m\u001b[0mfilename\u001b[0m\u001b[1;33m,\u001b[0m \u001b[0mmode\u001b[0m \u001b[1;32mor\u001b[0m \u001b[1;34m'rb'\u001b[0m\u001b[1;33m)\u001b[0m\u001b[1;33m\u001b[0m\u001b[0m\n\u001b[0m\u001b[0;32m    164\u001b[0m         \u001b[1;32mif\u001b[0m \u001b[0mfilename\u001b[0m \u001b[1;32mis\u001b[0m \u001b[1;32mNone\u001b[0m\u001b[1;33m:\u001b[0m\u001b[1;33m\u001b[0m\u001b[0m\n\u001b[0;32m    165\u001b[0m             \u001b[0mfilename\u001b[0m \u001b[1;33m=\u001b[0m \u001b[0mgetattr\u001b[0m\u001b[1;33m(\u001b[0m\u001b[0mfileobj\u001b[0m\u001b[1;33m,\u001b[0m \u001b[1;34m'name'\u001b[0m\u001b[1;33m,\u001b[0m \u001b[1;34m''\u001b[0m\u001b[1;33m)\u001b[0m\u001b[1;33m\u001b[0m\u001b[0m\n",
      "\u001b[1;31mFileNotFoundError\u001b[0m: [Errno 2] No such file or directory: 'simple-examples.tgz'"
     ]
    }
   ],
   "source": [
    "#!wget http://www.fit.vutbr.cz/~imikolov/rnnlm/simple-examples.tgz\n",
    "\n",
    "tar = tarfile.open(\"simple-examples.tgz\",\"r\") \n",
    "for item in tar:\n",
    "    tar.extract(item, \"ptb\")"
   ]
  },
  {
   "cell_type": "markdown",
   "metadata": {},
   "source": [
    "We use the following code in order to tokenize the data based on the ptb method:"
   ]
  },
  {
   "cell_type": "code",
   "execution_count": 50,
   "metadata": {},
   "outputs": [],
   "source": [
    "def replace_numbers(tokens):\n",
    "    return [x if not x.isdigit() else 'N' for x in tokens]\n",
    "\n",
    "def find_most_common(tokens, top):\n",
    "    counter = collections.Counter(tokens)\n",
    "    most_common = counter.most_common(top)\n",
    "    return [a for a, b in most_common]\n",
    "\n",
    "def replace_noncommon_tokens(sentences, most_common):\n",
    "    res = []\n",
    "    for sentence in sentences:\n",
    "        res.append([x if (x in most_common) else '<unk>' for x in sentence])\n",
    "    return res\n",
    "\n",
    "def ptb_preprocess(filenames, top=10000):\n",
    "    for single_file in filenames:\n",
    "        path = nltk.data.find(single_file)\n",
    "        raw = open(path, 'r').read()\n",
    "        segments = raw.split(\"\\n\")\n",
    "        sentences = []\n",
    "        for segment in segments:\n",
    "            tokens = word_tokenize(segment)\n",
    "            # remove punctuation\n",
    "            tokens = [x for x in tokens if x not in string.punctuation]\n",
    "            # to lowercase\n",
    "            words = [w.lower() for w in tokens]\n",
    "            # filter numbers\n",
    "            sentence = replace_numbers(words)            \n",
    "            sentences.append(sentence)\n",
    "       \n",
    "        # get most common words and replace all other words with unk\n",
    "        common_tokens = find_most_common([word for sentence in sentences for word in sentence], top)\n",
    "        sentences = replace_noncommon_tokens(sentences, common_tokens)\n",
    "        \n",
    "        # write out the new data into a file \n",
    "        new_filename = single_file + \".out\"\n",
    "        with open(new_filename, 'w') as f:\n",
    "            for sentence in sentences:\n",
    "                for word in sentence:\n",
    "                    f.write(\"%s \" % word)\n",
    "                f.write(\"\\n\")"
   ]
  },
  {
   "cell_type": "markdown",
   "metadata": {},
   "source": [
    "We want to test the above code on a few example files:"
   ]
  },
  {
   "cell_type": "code",
   "execution_count": 57,
   "metadata": {},
   "outputs": [],
   "source": [
    "path_to_first_file = abspath(join(dirname(\"__file__\"), \"segmentationExample.txt\"))\n",
    "path_to_second_file = abspath(join(dirname(\"__file__\"), \"SplitAndPuncExample.txt\"))\n",
    "path_to_third_file = abspath(join(dirname(\"__file__\"), \"numbersExample.txt\"))\n",
    "path_to_file_four = abspath(join(dirname(\"__file__\"), \"uncommonExample.txt\"))\n",
    "\n",
    "ptb_preprocess([path_to_first_file, path_to_second_file, path_to_third_file], 10000)"
   ]
  },
  {
   "cell_type": "markdown",
   "metadata": {},
   "source": [
    "For example the file \"segmentationExample.text\" which contains the following lines:"
   ]
  },
  {
   "cell_type": "code",
   "execution_count": null,
   "metadata": {
    "collapsed": true
   },
   "outputs": [],
   "source": [
    "with open(path_to_first_file) as f:\n",
    "    print(f.read())"
   ]
  },
  {
   "cell_type": "markdown",
   "metadata": {},
   "source": [
    "Will result in the file \"segmentationExample.text.out\":"
   ]
  },
  {
   "cell_type": "code",
   "execution_count": null,
   "metadata": {
    "collapsed": true
   },
   "outputs": [],
   "source": [
    "path_to_first_result = abspath(join(dirname(\"__file__\"), \"segmentationExample.txt.out\"))\n",
    "with open(path_to_first_result) as f:\n",
    "    print(f.read())"
   ]
  },
  {
   "cell_type": "markdown",
   "metadata": {},
   "source": [
    "The file \"SplitAndPuncExample.txt\" :"
   ]
  },
  {
   "cell_type": "code",
   "execution_count": null,
   "metadata": {
    "collapsed": true
   },
   "outputs": [],
   "source": [
    "with open(path_to_second_file) as f:\n",
    "    print(f.read())"
   ]
  },
  {
   "cell_type": "markdown",
   "metadata": {},
   "source": [
    "Will result in the files \"SplitAndPuncExample.txt.out\""
   ]
  },
  {
   "cell_type": "code",
   "execution_count": null,
   "metadata": {
    "collapsed": true
   },
   "outputs": [],
   "source": [
    "path_to_second_result = abspath(join(dirname(\"__file__\"), \"SplitAndPuncExample.txt.out\"))\n",
    "with open(path_to_second_result) as f:\n",
    "    print(f.read())"
   ]
  },
  {
   "cell_type": "markdown",
   "metadata": {},
   "source": [
    "The file \"numbersExample.txt\":"
   ]
  },
  {
   "cell_type": "code",
   "execution_count": null,
   "metadata": {
    "collapsed": true
   },
   "outputs": [],
   "source": [
    "with open(path_to_third_file) as f:\n",
    "    print(f.read())"
   ]
  },
  {
   "cell_type": "markdown",
   "metadata": {},
   "source": [
    "Will result in the files \"numbersExample.txt.out\":"
   ]
  },
  {
   "cell_type": "code",
   "execution_count": null,
   "metadata": {
    "collapsed": true
   },
   "outputs": [],
   "source": [
    "path_to_third_result = abspath(join(dirname(\"__file__\"), \"numbersExample.txt.out\"))\n",
    "with open(path_to_third_result) as f:\n",
    "    print(f.read())"
   ]
  },
  {
   "cell_type": "markdown",
   "metadata": {},
   "source": [
    "to show uncommon words filtering we will reduce the size of filtering (indtead of a 10000) to 10:"
   ]
  },
  {
   "cell_type": "code",
   "execution_count": null,
   "metadata": {
    "collapsed": true
   },
   "outputs": [],
   "source": [
    "ptb_preprocess([path_to_file_four], 10)"
   ]
  },
  {
   "cell_type": "markdown",
   "metadata": {},
   "source": [
    "if we test it with the file \"uncommonExample.txt\":"
   ]
  },
  {
   "cell_type": "code",
   "execution_count": null,
   "metadata": {
    "collapsed": true
   },
   "outputs": [],
   "source": [
    "with open(path_to_file_four) as f:\n",
    "    print(f.read())"
   ]
  },
  {
   "cell_type": "markdown",
   "metadata": {},
   "source": [
    "we get:"
   ]
  },
  {
   "cell_type": "code",
   "execution_count": null,
   "metadata": {
    "collapsed": true
   },
   "outputs": [],
   "source": [
    "path_to_file_four_result = abspath(join(dirname(\"__file__\"), \"uncommonExample.txt.out\"))\n",
    "with open(path_to_file_four_result) as f:\n",
    "    print(f.read())"
   ]
  },
  {
   "cell_type": "markdown",
   "metadata": {},
   "source": [
    "the results for running our tokenizer on shakespears work:"
   ]
  },
  {
   "cell_type": "code",
   "execution_count": null,
   "metadata": {
    "collapsed": true
   },
   "outputs": [],
   "source": [
    "path_to_shakespear = abspath(join(dirname(\"__file__\"), \"shakespear.txt\"))\n",
    "ptb_preprocess([path_to_shakespear], 10000)"
   ]
  },
  {
   "cell_type": "markdown",
   "metadata": {},
   "source": [
    "can be found under a file called \"shakespear.txt.out\" attached to the assignment"
   ]
  },
  {
   "cell_type": "markdown",
   "metadata": {},
   "source": [
    "#### part 1.1.2 "
   ]
  },
  {
   "cell_type": "markdown",
   "metadata": {
    "collapsed": true
   },
   "source": [
    "Now we'll be using the code of the previous part on the PTB dataset:"
   ]
  },
  {
   "cell_type": "code",
   "execution_count": 80,
   "metadata": {},
   "outputs": [],
   "source": [
    "ptb_train_path = abspath(join(dirname(\"__file__\"), \"ptb.train.txt\"))\n",
    "ptb_test_path = abspath(join(dirname(\"__file__\"), \"ptb.test.txt\"))\n",
    "with open(ptb_train_path) as f:\n",
    "    ptb_train = f.read()\n",
    "with open(ptb_test_path) as f:\n",
    "    ptb_test = f.read()"
   ]
  },
  {
   "cell_type": "markdown",
   "metadata": {},
   "source": [
    "Now it's time to report some basic statistics on the training data:"
   ]
  },
  {
   "cell_type": "code",
   "execution_count": 81,
   "metadata": {},
   "outputs": [
    {
     "name": "stdout",
     "output_type": "stream",
     "text": [
      "Number of tokens: 978726\n",
      "Number of characters: 5108686\n",
      "Number of distinct tokens: 9996\n",
      "Total number of tokens corresponding to the top-N most frequent words in the vocabulary: 785187\n",
      "Type distribution: \n",
      "unk:  0.045998573655956825\n",
      "numbers:  0.033187020677901684\n",
      "rest:  0.9208144056661415\n",
      "Average number and standard deviation of characters per token: 4.2197315694075765 2.705652415851888\n",
      "Distinct n-grams of words of length 2 : 277419\n",
      "Distinct n-grams of words of length 3 : 598666\n",
      "Distinct n-grams of words of length 4 : 754993\n",
      "Distinct n-grams of characters of length 2 : 763\n",
      "Distinct n-grams of characters of length 3 : 6246\n",
      "Distinct n-grams of characters of length 4 : 29334\n",
      "Distinct n-grams of characters of length 5 : 105574\n",
      "Distinct n-grams of characters of length 6 : 291396\n",
      "Distinct n-grams of characters of length 7 : 600865\n"
     ]
    },
    {
     "data": {
      "image/png": "[encoded data removed]",
      "text/plain": [
       "<matplotlib.figure.Figure at 0x21bc178add8>"
      ]
     },
     "metadata": {},
     "output_type": "display_data"
    }
   ],
   "source": [
    "def gather_stats (text, n):\n",
    "    tokens = word_tokenize(text)\n",
    "    text = \" \".join(tokens)\n",
    "    corpus_counts = nltk.FreqDist(tokens)\n",
    "    common = find_most_common (tokens, n)\n",
    "    words_len = [len(x) for x in tokens]\n",
    "    print (\"Number of tokens:\", len(tokens))\n",
    "    print (\"Number of characters:\", len(text))\n",
    "    print (\"Number of distinct tokens:\", len(corpus_counts))\n",
    "    print (\"Total number of tokens corresponding to the top-N most frequent words in the vocabulary:\",\n",
    "           len([x for x in tokens if x in common]))\n",
    "    \n",
    "    print (\"Type distribution: \")\n",
    "    unk_count, num_count = corpus_counts.get(\"unk\"), corpus_counts.get(\"N\")\n",
    "    print (\"unk: \", unk_count / len(tokens))\n",
    "    print (\"numbers: \", num_count / len(tokens))\n",
    "    print (\"rest: \", (len(tokens) - unk_count - num_count) / len(tokens))\n",
    "\n",
    "    print (\"Average number and standard deviation of characters per token:\", \n",
    "           statistics.mean(words_len), statistics.stdev(words_len))\n",
    "    \n",
    "    wordGrams=[]\n",
    "    for i in range (2,5):\n",
    "        ng = generate_ngrams (tokens, i)\n",
    "        gramCount = nltk.FreqDist(ng)\n",
    "        print (\"Distinct n-grams of words of length\", i, \":\", len(gramCount))\n",
    "        wordGrams.append([i, len(gramCount)])    \n",
    "    \n",
    "    chars = [c for c in text]\n",
    "    for i in range (2,8):\n",
    "        ng = generate_ngrams (chars, i)\n",
    "        gramCount = nltk.FreqDist(ng)\n",
    "        print (\"Distinct n-grams of characters of length\", i, \":\", len(gramCount))\n",
    "        \n",
    "    plt.loglog([val for word,val in corpus_counts.most_common(4000)])\n",
    "    plt.xlabel('rank')\n",
    "    plt.ylabel('frequency');\n",
    "    \n",
    "def generate_ngrams (tokens, n):\n",
    "    g = ngrams(tokens, n)\n",
    "    return [x for x in g]\n",
    "\n",
    "gather_stats(ptb_train, 1000)"
   ]
  },
  {
   "cell_type": "markdown",
   "metadata": {},
   "source": [
    "The graph confirms our assumption, that word count distributions in the PTB dataset indeed do follow power law distributions."
   ]
  },
  {
   "cell_type": "markdown",
   "metadata": {},
   "source": [
    "## part 1.2"
   ]
  },
  {
   "cell_type": "markdown",
   "metadata": {},
   "source": [
    "the following is an implementation of the ngram model:"
   ]
  },
  {
   "cell_type": "code",
   "execution_count": 87,
   "metadata": {},
   "outputs": [],
   "source": [
    "class NgramModel(object):\n",
    "    def __init__(self, n, train, smoothing=False, estimator=None):\n",
    "        self._n = n\n",
    "        self.is_unigram_model = (n == 1)\n",
    "        self.is_smooth = smoothing\n",
    "        \n",
    "        cfd = nltk.ConditionalFreqDist((\" \".join(train[i : i + n - 1]), \"\".join(train[i + n - 1])) for i in range(len(train) - n + 1))\n",
    "        self._probdist = nltk.ConditionalProbDist(cfd, estimator)\n",
    "        \n",
    "        # if we are not using smoothing we should implement a backoff model and keep all the seen ngrams\n",
    "        if not self.is_smooth:\n",
    "            self._ngramsData = ngrams(train, n)\n",
    "            self._ngrams = set()\n",
    "            for ngram in self._ngramsData:\n",
    "                self._ngrams.add(ngram)\n",
    "        \n",
    "        if not self.is_unigram_model:\n",
    "            if not self.is_smooth:\n",
    "                self._backoff = NgramModel(n - 1, train, estimator=estimator)\n",
    "                self._lambda = 1\n",
    "    \n",
    "    def prob(self, word, context):\n",
    "        if (self.is_smooth and self._probdist[context].logprob(word) != 0):\n",
    "            return self._probdist[context].logprob(word)\n",
    "        \n",
    "        # if we are not using smoothing we need to use a different method for avoiding 0 probability \n",
    "        elif (tuple(context.split()) + (word, ) in self._ngrams) or (self.is_unigram_model):\n",
    "            return self._probdist[context].logprob(word)\n",
    "        else:\n",
    "            new_context = \" \".join(context.split()[1:])\n",
    "            backoff = self._backoff.prob(word, new_context)\n",
    "            return self._lambda * backoff\n",
    "        \n",
    "    def logprob(self, word, context):\n",
    "        return - self.prob(word, context)\n",
    "    \n",
    "    def get_seed(self):\n",
    "        return random.choice(self._probdist.conditions())\n",
    "    \n",
    "    def generate(self, seed, length):\n",
    "        out = []\n",
    "        curr = seed\n",
    "        end = self._probdist.conditions()[-1]\n",
    "        i = 0\n",
    "        while (i <= length and (not curr == end)):\n",
    "          i += 1\n",
    "          word = self._probdist[curr].generate()\n",
    "          curr = \" \".join((curr.split())[1:] + [word])\n",
    "          out.append(word)\n",
    "        return out"
   ]
  },
  {
   "cell_type": "code",
   "execution_count": 88,
   "metadata": {},
   "outputs": [],
   "source": [
    "def train_word_lm(dataset, n=2):\n",
    "    model = NgramModel(n, dataset, estimator=nltk.MLEProbDist)\n",
    "    return model"
   ]
  },
  {
   "cell_type": "markdown",
   "metadata": {},
   "source": [
    "The data structure required to build the model is - a dictionary of size at most the number of N-grams multiplied by the size of the vocabulary - so we get:"
   ]
  },
  {
   "cell_type": "code",
   "execution_count": null,
   "metadata": {
    "collapsed": true
   },
   "outputs": [],
   "source": [
    "%%latex\n",
    "\\begin{align}\n",
    "{\\mathbf{dictSize}} & = \\frac{{\\mathbf{Vocabulary}}}{N} * \\mathbf{Vocabulary}\n",
    "\\end{align}"
   ]
  },
  {
   "cell_type": "markdown",
   "metadata": {},
   "source": [
    "Aside from that we also save an array of all possible ngrams, and the backoff in case we don't use a smoothing technique.\n",
    "To save the backoff - that is in order to use the backoff technique over the perplexity calculations - the data structure is similar and defined recursively.\n",
    "One can also note we did not implement a smoothing as a Katz backoff using alpha - but a more accturate results would have been preduced if we did so. \n",
    "\n",
    "As we can see in the given class implementation - the model should export methods for evaluating itself, for generating random text, and for calculating the probabilty and entropy of a word given a context. \n",
    "\n",
    "the memory required for holding the model(non smoothing) is therefore at most: "
   ]
  },
  {
   "cell_type": "code",
   "execution_count": 18,
   "metadata": {},
   "outputs": [
    {
     "data": {
      "text/latex": [
       "\\begin{align}\n",
       "{\\mathbf{dictSize_N}} & = \\frac{{\\mathbf{Vocabulary}}}{N} * \\mathbf{Vocabulary} \\\\\n",
       "{\\mathbf{Memory}} & = {\\mathbf{dictSize_N}} + {\\mathbf{dictSize_(N + 1)}} + \\dots + {\\mathbf{dictSize_1}} + {\\mathbf(size-of-ngrams)}\n",
       "\\end{align}"
      ],
      "text/plain": [
       "<IPython.core.display.Latex object>"
      ]
     },
     "metadata": {},
     "output_type": "display_data"
    }
   ],
   "source": [
    "%%latex\n",
    "\\begin{align}\n",
    "{\\mathbf{dictSize_N}} & = \\frac{{\\mathbf{Vocabulary}}}{N} * \\mathbf{Vocabulary} \\\\\n",
    "{\\mathbf{Memory}} & = {\\mathbf{dictSize_N}} + {\\mathbf{dictSize_(N + 1)}} + \\dots + {\\mathbf{dictSize_1}} + {\\mathbf(size-of-ngrams)}\n",
    "\\end{align}"
   ]
  },
  {
   "cell_type": "markdown",
   "metadata": {},
   "source": [
    "for a smoothing using model - we don't need to save anything other than the initial ngram dictionary (no need to build it using recursion or keeping all seen ngrams), in that case it takes a much smaller memory of at most: "
   ]
  },
  {
   "cell_type": "code",
   "execution_count": 14,
   "metadata": {},
   "outputs": [
    {
     "data": {
      "text/latex": [
       "\\begin{align}\n",
       "{\\mathbf{dictSize_N}} & = \\frac{{\\mathbf{Vocabulary}}}{N} * \\mathbf{Vocabulary} \\\\\n",
       "\\end{align}"
      ],
      "text/plain": [
       "<IPython.core.display.Latex object>"
      ]
     },
     "metadata": {},
     "output_type": "display_data"
    }
   ],
   "source": [
    "%%latex\n",
    "\\begin{align}\n",
    "{\\mathbf{dictSize_N}} & = \\frac{{\\mathbf{Vocabulary}}}{N} * \\mathbf{Vocabulary} \\\\\n",
    "\\end{align}"
   ]
  },
  {
   "cell_type": "markdown",
   "metadata": {},
   "source": [
    "## part 1.3"
   ]
  },
  {
   "cell_type": "markdown",
   "metadata": {},
   "source": [
    "We'd like to measure how well our model is doing, we can do so by using a measure called perplexity - a model perplexity can be evaluated as followed:"
   ]
  },
  {
   "cell_type": "code",
   "execution_count": 90,
   "metadata": {},
   "outputs": [],
   "source": [
    "def model_entropy(model, text, n=2):\n",
    "    H = 0.0\n",
    "    for i in range(n - 1, len(text)):\n",
    "        context, word = tuple(text[i - n + 1:i]), text[i]\n",
    "        context = \" \".join(context)\n",
    "        H += model.logprob(word, context)\n",
    "    return H / float(len(text) - (n - 1))\n",
    "\n",
    "def calc_preplexity(model, text, n=2):\n",
    "    text_entropy = model_entropy(model, text, n)\n",
    "    return 2 ** (text_entropy)"
   ]
  },
  {
   "cell_type": "markdown",
   "metadata": {},
   "source": [
    "The lower the perplexity - the better the model."
   ]
  },
  {
   "cell_type": "markdown",
   "metadata": {},
   "source": [
    "When testing the above implemented model on the ptb training and validation data we get:"
   ]
  },
  {
   "cell_type": "code",
   "execution_count": 85,
   "metadata": {},
   "outputs": [],
   "source": [
    "ptb_train_tokenized = ptb_train.split()\n",
    "ptb_test_tokenized = ptb_test.split()"
   ]
  },
  {
   "cell_type": "code",
   "execution_count": 91,
   "metadata": {},
   "outputs": [
    {
     "name": "stdout",
     "output_type": "stream",
     "text": [
      "107.32412922857847\n"
     ]
    }
   ],
   "source": [
    "# Train the ngram model with n = 3\n",
    "n = 3\n",
    "lm_MLE = train_word_lm(ptb_train_tokenized, n)\n",
    "\n",
    "print(calc_preplexity(lm_MLE, ptb_test_tokenized, n))"
   ]
  },
  {
   "cell_type": "markdown",
   "metadata": {},
   "source": [
    "As mentioned, we can always use a different estimator in order to change our model perplexity, for example, the following model is using the Lidstone estimator with a gamma instead of the MLE one:"
   ]
  },
  {
   "cell_type": "code",
   "execution_count": 6,
   "metadata": {
    "collapsed": true
   },
   "outputs": [],
   "source": [
    "def train_word_lm_lidstone(dataset, n=2, gamma=0.01):\n",
    "    lidstone_estimator = lambda fd: nltk.LidstoneProbDist(fd, gamma, fd.B() + 100)\n",
    "    model = NgramModel(n, dataset,smoothing=True, estimator=lidstone_estimator)\n",
    "    return model"
   ]
  },
  {
   "cell_type": "markdown",
   "metadata": {},
   "source": [
    "In this case we don't need to use the backoff technique because the lidstone estimator provides a smoothing over the probabilities - instead of using regular MLE it's like creating \"bins\" and the depositing an initial amount into each bin, and then add to that all the actual probabilities. By doing so we will never reach a point where the probability is 0 (unless gamma is 0).\n",
    "The formula it uses to do so is described as (for an experiment with count c, B bins and N outcomes) - "
   ]
  },
  {
   "cell_type": "code",
   "execution_count": null,
   "metadata": {
    "collapsed": true
   },
   "outputs": [],
   "source": [
    "%%latex\n",
    "\\begin{align}\n",
    "\\frac{{\\mathbf{c + gamma}}}{\\mathbf{N + B * gamma}} \\\\\n",
    "\\end{align}"
   ]
  },
  {
   "cell_type": "markdown",
   "metadata": {},
   "source": [
    "Notice how selecting the size of B can change the probability - We chose this value after some trial and error with the values, intending to not create a too sparse result. "
   ]
  },
  {
   "cell_type": "markdown",
   "metadata": {},
   "source": [
    "We get the following perplexity:"
   ]
  },
  {
   "cell_type": "code",
   "execution_count": 10,
   "metadata": {},
   "outputs": [
    {
     "name": "stdout",
     "output_type": "stream",
     "text": [
      "131.03836275826552\n"
     ]
    }
   ],
   "source": [
    "n = 3\n",
    "gamma = 0.01\n",
    "lm_LIDSTONE = train_word_lm_lidstone(ptb_train_tokenized, n, gamma)\n",
    "print(calc_preplexity(lm_LIDSTONE, ptb_test_tokenized, n))"
   ]
  },
  {
   "cell_type": "markdown",
   "metadata": {},
   "source": [
    "The following graph shows how differnt gamma values in such model change the results of the function:"
   ]
  },
  {
   "cell_type": "code",
   "execution_count": 13,
   "metadata": {
    "collapsed": true
   },
   "outputs": [],
   "source": [
    "gammas = np.linspace(0.01, 1, 20)\n",
    "n = 3\n",
    "perplexities_l = list(range(20))\n",
    "i = 0\n",
    "for gamma in gammas:\n",
    "    lm_LIDSTONE = train_word_lm_lidstone(ptb_train_tokenized, n, gamma)\n",
    "    perplexities_l[i] = calc_preplexity(lm_LIDSTONE, ptb_test_tokenized, n)\n",
    "    i += 1"
   ]
  },
  {
   "cell_type": "code",
   "execution_count": 19,
   "metadata": {},
   "outputs": [
    {
     "data": {
      "image/png": "[encoded data removed]",
      "text/plain": [
       "<matplotlib.figure.Figure at 0x7fa33b299438>"
      ]
     },
     "metadata": {},
     "output_type": "display_data"
    }
   ],
   "source": [
    "plt.plot(gammas, perplexities_l)\n",
    "plt.axis([0, 1, 0, 150])\n",
    "plt.ylabel(\"perplexity\")\n",
    "plt.show()"
   ]
  },
  {
   "cell_type": "markdown",
   "metadata": {},
   "source": [
    "another way is to change the value of the n-grams , and that results in different perplexity - an example of the difference can be seen in the following graph:"
   ]
  },
  {
   "cell_type": "code",
   "execution_count": 11,
   "metadata": {},
   "outputs": [
    {
     "name": "stdout",
     "output_type": "stream",
     "text": [
      "222.34568792531184\n",
      "131.03836275826552\n",
      "92.68189306321692\n",
      "86.8073309910055\n",
      "88.1396212035187\n",
      "90.23579833162498\n",
      "91.866887156757\n",
      "92.98319580473813\n",
      "93.75392937489524\n",
      "94.32844819478187\n",
      "94.75903430473937\n",
      "95.16790589088733\n",
      "95.44106148718808\n",
      "95.66883524570639\n",
      "95.82513499124981\n",
      "95.96614348993651\n",
      "96.1112564570859\n",
      "96.22072195944745\n"
     ]
    }
   ],
   "source": [
    "perplexities_m = list(range(2, 20))\n",
    "gamma = 0.01\n",
    "\n",
    "for n in range(2, 20):\n",
    "    lm_LIDSTONE = train_word_lm_lidstone(ptb_train_tokenized, n, gamma)    \n",
    "    perp = calc_preplexity(lm_LIDSTONE, ptb_test_tokenized, n)\n",
    "    perplexities_m[n - 2] = perp"
   ]
  },
  {
   "cell_type": "code",
   "execution_count": 12,
   "metadata": {},
   "outputs": [
    {
     "data": {
      "image/png": "[encoded data removed]",
      "text/plain": [
       "<matplotlib.figure.Figure at 0x7fa3309d1128>"
      ]
     },
     "metadata": {},
     "output_type": "display_data"
    }
   ],
   "source": [
    "n_vals = list(range(2, 20))\n",
    "\n",
    "plt.plot(n_vals, perplexities_m)\n",
    "plt.axis([2, 20, 1, 250])\n",
    "plt.ylabel(\"perplexity\")\n",
    "plt.show()"
   ]
  },
  {
   "cell_type": "markdown",
   "metadata": {},
   "source": [
    "One can see starting with a low value of n we get really high perplexity(bad) and as we increase the value the perplexity gets better, that is until it reaches 7, that is because the ngrams are getting too large so most of them become unseen ngrams (a 7 words sentence is too long to be frequently repeated in the text) So the ideal size for n is at about n=6. "
   ]
  },
  {
   "cell_type": "markdown",
   "metadata": {},
   "source": [
    "based on the two models above and the two graphs, we can now compose the \"ideal\" model:"
   ]
  },
  {
   "cell_type": "code",
   "execution_count": 20,
   "metadata": {},
   "outputs": [
    {
     "name": "stdout",
     "output_type": "stream",
     "text": [
      "89.92074266919535\n"
     ]
    }
   ],
   "source": [
    "n = 6\n",
    "gamma = 0.2\n",
    "lm_IDEAL = train_word_lm_lidstone(ptb_train_tokenized, n, gamma)\n",
    "print(calc_preplexity(lm_IDEAL, ptb_test_tokenized, n))"
   ]
  },
  {
   "cell_type": "markdown",
   "metadata": {},
   "source": [
    "compared to the results from <TODO> "
   ]
  },
  {
   "cell_type": "markdown",
   "metadata": {},
   "source": [
    "### part 1.3.2 "
   ]
  },
  {
   "cell_type": "markdown",
   "metadata": {},
   "source": [
    "Another way of using the model is by generating text using it, the following method generates text given a model and a seed(a starting prefix):"
   ]
  },
  {
   "cell_type": "code",
   "execution_count": 21,
   "metadata": {
    "collapsed": true
   },
   "outputs": [],
   "source": [
    "def generate(model, seed):\n",
    "    out = model.generate(seed, 100)\n",
    "    out = seed + \" \" + \" \".join(out)\n",
    "\n",
    "    print(out)"
   ]
  },
  {
   "cell_type": "markdown",
   "metadata": {},
   "source": [
    "One can note this method is not ideal if the seed length is smaller than the ngram size we used to train the model, a way to avoid such problem is to find a matching ngram starting with the seed and running the method from there ) or just making sure the seed is big enough. Another way is the issue of halting - here I gave it a number of iteration or forced it to halt when it sees the last possible ngram. \n",
    "Another issue that might arise is if the model run into an unknown history, in my case the code will break, so one must make sure no unknown history will occure - to do so we have the condition in the while loop, another way to avoid it is similar to the backoff we can also reduce the ngram size down and go back a step with the probability (selecting next word based on that). \n",
    "I made this generator limited to 100 iterations if possible because I didn't want to make it generate to big of a file given a large model, but one can easily change that number to anything. "
   ]
  },
  {
   "cell_type": "markdown",
   "metadata": {},
   "source": [
    "Here are a few different examples of using the previously trained model with different seeds:"
   ]
  },
  {
   "cell_type": "code",
   "execution_count": 22,
   "metadata": {},
   "outputs": [
    {
     "name": "stdout",
     "output_type": "stream",
     "text": [
      "SEED: government its people its newspapers\n",
      "government its people its newspapers does not have the capacity to fight this battle successfully all <unk> countries must jointly decide to combat and punish the consumers and distributors of drugs the u.s. as the major drug consumer should lead this joint effort reduction if not the total <unk> of drug consumption is the requirement for victory much is being done in colombia to fight the drug <unk> mafia <unk> homes and <unk> have been <unk> by the military authorities and sophisticated and powerful communications equipment have been seized more than N planes and <unk> have been <unk> at airports and a large number of vehicles\n"
     ]
    }
   ],
   "source": [
    "seed = lm_IDEAL.get_seed()\n",
    "print(\"SEED:\", seed)\n",
    "generate(lm_IDEAL, seed)"
   ]
  },
  {
   "cell_type": "code",
   "execution_count": 23,
   "metadata": {},
   "outputs": [
    {
     "name": "stdout",
     "output_type": "stream",
     "text": [
      "SEED: among other things would exempt\n",
      "among other things would exempt many <unk> executives from reporting trades in their own companies ' shares the proposed changes also would allow executives to report exercises of options later and less often many of the letters maintain that investor confidence has been so shaken by the N stock market crash head the list of reasons in addition competition has <unk> the market with both <unk> and coats driving prices down the <unk> movement has n't helped sales warm <unk> over the past two years he said the company expects to conclude negotiations with other creditors within N days color systems which <unk> black-and-white film to\n"
     ]
    }
   ],
   "source": [
    "seed = lm_IDEAL.get_seed()\n",
    "print(\"SEED:\", seed)\n",
    "generate(lm_IDEAL, seed)"
   ]
  },
  {
   "cell_type": "code",
   "execution_count": 24,
   "metadata": {},
   "outputs": [
    {
     "name": "stdout",
     "output_type": "stream",
     "text": [
      "SEED: claims adjustments for insurance companies\n",
      "claims adjustments for insurance companies also beginning trading today on the big board are el paso refinery limited partnership el paso texas <unk> and franklin <unk> trust san mateo calif. <unk> el paso owns and operates a petroleum refinery franklin is a closed-end management investment company on the nasdaq over-the-counter system allied capital corp. washington d.c. <unk> began trading last thursday allied capital is a closed-end management investment company on the nasdaq over-the-counter system allied capital corp. washington d.c. <unk> began trading last thursday allied capital is a closed-end management investment company that will operate as a business development concern the yale political union does n't\n"
     ]
    }
   ],
   "source": [
    "seed = lm_IDEAL.get_seed()\n",
    "print(\"SEED:\", seed)\n",
    "generate(lm_IDEAL, seed)"
   ]
  },
  {
   "cell_type": "code",
   "execution_count": 25,
   "metadata": {},
   "outputs": [
    {
     "name": "stdout",
     "output_type": "stream",
     "text": [
      "SEED: works several times faster than\n",
      "works several times faster than previously available chips hewlett-packard co. became the first company world-wide to announce a product based on the chip earlier this month but it wo n't start shipping the computers until early next year an olivetti spokesman said the company 's factories are already beginning to produce the machine and that it should be available in europe by december what this means is that europeans will have these machines in their offices before americans do the spokesman said the new chip is a very big step in computing and it is important that olivetti be one of the first out on the\n"
     ]
    }
   ],
   "source": [
    "seed = lm_IDEAL.get_seed()\n",
    "print(\"SEED:\", seed)\n",
    "generate(lm_IDEAL, seed)"
   ]
  },
  {
   "cell_type": "code",
   "execution_count": 28,
   "metadata": {},
   "outputs": [
    {
     "name": "stdout",
     "output_type": "stream",
     "text": [
      "SEED: senate convicted u.s. district judge\n",
      "senate convicted u.s. district judge <unk> hastings of florida of eight impeachment articles removing the <unk> judge from his $ <unk> lifetime job mr. hastings 's case was particularly <unk> because it marked the first time a u.s. official was <unk> on charges of which a jury had acquitted him in N mr. hastings was found not guilty of accepting a $ N bribe in a case before him the central charge on which the senate convicted him he was only the sixth federal judge ever ousted from office after an impeachment trial with no floor debate the senate on friday voted N to <unk> mr.\n"
     ]
    }
   ],
   "source": [
    "seed = lm_IDEAL.get_seed()\n",
    "print(\"SEED:\", seed)\n",
    "generate(lm_IDEAL, seed)"
   ]
  },
  {
   "cell_type": "markdown",
   "metadata": {},
   "source": [
    "As mentioned, this is a deterministic method that will always result in the same (or very similar in case of an equal probabilty) results. In order to create a more random generator the Temprature parameter was introduced to the generator. \n",
    "\n",
    "Temperature sampling uses a parameter t to determine how “strong” the change will be. We use the parameter to calculate a new probability to every option,it will generally be a number between 0 and  1, and once we set it we sample with it. \n",
    "the new probability will then be defined by :"
   ]
  },
  {
   "cell_type": "code",
   "execution_count": 55,
   "metadata": {},
   "outputs": [
    {
     "data": {
      "text/latex": [
       "\\begin{align}\n",
       "\\tilde{p_i} & = f_{\\mathcal{T}}(p)_i & =  \\frac{p_i ^ {\\frac{1}{\\mathcal{T}}}}{\\sum_{j}p_i} \\\\\n",
       "\\end{align}"
      ],
      "text/plain": [
       "<IPython.core.display.Latex object>"
      ]
     },
     "metadata": {},
     "output_type": "display_data"
    }
   ],
   "source": [
    "%%latex\n",
    "\\begin{align}\n",
    "\n",
    "\\end{align}"
   ]
  },
  {
   "cell_type": "markdown",
   "metadata": {},
   "source": [
    "We can now examine this - we note that for t = 1, the probability stays identical. For t = 0.5 we are squaring the probabilities and renormalizing.\n",
    "Let's take an example of two probabilities, p1=0.6, p2=0.4, and see how this formula affects them for t=0.5 and t=0.1:"
   ]
  },
  {
   "cell_type": "markdown",
   "metadata": {},
   "source": [
    "\n",
    "$\\tilde{p_1}_{(\\mathcal{T}=0.5)} =  \\frac{0.36}{0.52} \\sim 0.69 $\n",
    "<br>$\\tilde{p_2}_{(\\mathcal{T}=0.5)} =  \\frac{0.16}{0.52} \\sim 0.30 $\n",
    "<br>$\\tilde{p_1}_{(\\mathcal{T}=0.1)} \\sim 0.98 $\n",
    "<br>$\\tilde{p_2}_{(\\mathcal{T}=0.1)} \\sim 0.02$"
   ]
  },
  {
   "cell_type": "markdown",
   "metadata": {},
   "source": [
    "In this example, we can observe how the change in t affect the result. A lower t value gives the \"stronger\" values an even higher probability, and when t approaches 0 the strongest option is becoming certain, effectively going back to deterministic input.\n",
    "We can use the temperature parameter to express how much we ‘trust’ the model, and to add controlled amounts of randomness to our generations."
   ]
  },
  {
   "cell_type": "markdown",
   "metadata": {},
   "source": [
    "Now lets take a look at the code by Sameer Sing. He chose to work with log probabilities in order to achieve the same results.\n",
    "The first part of his code does two things:\n",
    "- Create a list called ‘wps’. Each element in his list is a pair of a word w, and the log probability of w divided by temp $\\frac{\\log (p(w))}{t}$.\n",
    "- Sums the total of the $\\frac{\\log (p(w))}{t}$ values, so he can use it as a normalizing factor. By the time the loop finishes, tot is equal to:"
   ]
  },
  {
   "cell_type": "markdown",
   "metadata": {},
   "source": [
    "tot = $\\log_2(2^{\\frac{\\log (p(w_1)}{t}} + 2^{\\frac{\\log (p(w_2)}{t}}+ \\dots + 2^{\\frac{\\log (p(w_n))}{t}})$"
   ]
  },
  {
   "cell_type": "markdown",
   "metadata": {},
   "source": [
    "Now after he assigned weighted log probabilities, it’s time to choose a random word based on the new probability. This is how it's done:"
   ]
  },
  {
   "cell_type": "markdown",
   "metadata": {},
   "source": [
    "At first a random number p $(0<p<1)$ is chosen. Now for every possible word, he perform the following steps:\n",
    "- Sum the logs probabilities so far $s$.\n",
    "- Subtract $s$ from the total we counted in the first part, and calculate $2^{ourResult}$.\n",
    "- if $p$ is smaller than the answer, the word is chosen."
   ]
  },
  {
   "cell_type": "markdown",
   "metadata": {},
   "source": [
    "To understand why it works, lets continue with our example:"
   ]
  },
  {
   "cell_type": "markdown",
   "metadata": {},
   "source": [
    "$p_1 = -1.473$ . This is the only log we’ve encountered yet, so $s = p_1$.\n",
    "<br>$2^{s-tot} = 0.69$ "
   ]
  },
  {
   "cell_type": "markdown",
   "metadata": {},
   "source": [
    "One can note this is the __exact same probability we calculated in the first part.__\n",
    "How did this happen?\n",
    "- In the first part we computed $p^{\\frac{1}{t}}$\n",
    "- In the second part we computer $2^{\\log \\frac{p}{t}}$\n",
    "<br>But those expressions are equivalent :\n",
    "$2^{\\frac{\\log_2{p}}{t}} = 2^{\\log_2{p} * \\frac{1}{t}} = p^{\\frac{1}{t}}"
   ]
  },
  {
   "cell_type": "markdown",
   "metadata": {},
   "source": [
    "The same applies to the normalizing sum below. And obviously, our random number p has a probability of 0.69 to be smaller than 0.69, hence giving the same word an 0.69 chance to be chosen.\n",
    "So as we see, the code by Sameer Sing effectively uses the exact same mathematical idea of temperature expressed by Russel Stewart, but implemented using logs.\n"
   ]
  },
  {
   "cell_type": "markdown",
   "metadata": {},
   "source": [
    "## part 1.4"
   ]
  },
  {
   "cell_type": "markdown",
   "metadata": {},
   "source": [
    "We were asked to read and summarize two articles about RNNs. \n",
    "The first article, by Andrej Karpathy, provides a general introduction and description of RNNs. Here is the summary:"
   ]
  },
  {
   "cell_type": "markdown",
   "metadata": {},
   "source": [
    "\"Unlike normal Neural Networks, Recurrent Neural Networks (RNNs) allow us to operate over __sequences of vectors.__, and not just one. Considering it is still a Neural Network, it operates similarly to any other - it has a “step” function that gets an input vector x and returns an output vector y. But RNN's have one major difference – they keep a hidden vector h, whose value are updated in every computation and are used to generate the output. So the output depends not only on the current input vector, but also on the entire history of vectors it ever computed.\n",
    "\n",
    "More precisely, the RNN keeps three matrices: W_xh (input to hidden),  W_hh (hidden to hidden), W_hy (hidden to output). We first initialized them to random matrices and every time “step” is called, we use them to update h and calculate the output.\n",
    "\n",
    "When constructing a language char-based model using RNN, Karpathy gets pretty good results (even for surprising things like Linux source code). In order to better understand the process, Karpathy samples it in different stages to see how it “learns”. In the first iterations it composes gibberish, by the 700 iteration it learns words, and by 2000 it can write full complex sentences. Karpathy also visualize values in neurons, and observe how certain neurons are used for certain tasks, even though it wasn’t coded by humans – the network ‘decided’ upon it.\n",
    "\n",
    "RNN’s are a growing field that is widely used for models of NLP, Computer Vision and other fields.\n",
    "They still have flaws (like being good at memorizing but not always in generalization, or using a very large computations in each step), but there is a lot of progress and they are evolving daily\". "
   ]
  },
  {
   "cell_type": "markdown",
   "metadata": {},
   "source": [
    "The second article, by Yoav Goldberg, discusses using char-based language models for the same task, and discusses the differences between the results."
   ]
  },
  {
   "cell_type": "markdown",
   "metadata": {},
   "source": [
    "\"Replying to the previous article, Goldberg points out that text generation can also be achieved in a much simpler method: Unsmoothed Maximum Likelihood Character Level Language Model. This is a simple model that “learns” by reading texts. It has a fixed parameter n called “order”, and for every string of n characters the model encounters, it keeps a count of what the next character was. Hence, for a combination of n chars (ngram), the model can give us a distribution of the probability of the next char, and answer about the likelihood of a specific char to be next. If the model never saw a character after a given ngram, the probability will be 0.\n",
    "\n",
    "After training the model on Shakespeare texts, we now test it in text generation. Lower orders are gibberish, but the higher the order is, the results are getting better and are looking more like convincing Shakespeare text. However, this model has limitations – it isn't aware of context, or anything beyond the last n characters. For example, when generating Linux code, the RNN model is able to generate code that is well indented, with correctly nested brackets. The language model isn’t capable of doing that, even when choosing high orders. Of course, it’s possible to update the model to support it; but what’s so impressive about RNN is, it learned to do it on it’s own, without being specifically coded to do so\"."
   ]
  },
  {
   "cell_type": "markdown",
   "metadata": {},
   "source": [
    "So now, it's time to start working on the recipe databse. We'll be using Yoav Goldberg's model, adapted to Python3 and NLTK, with Lindstone estimator in order to avoid zero probabilites:"
   ]
  },
  {
   "cell_type": "code",
   "execution_count": 92,
   "metadata": {},
   "outputs": [],
   "source": [
    "def create_lm_Lidstone(data, order=4, gamma = 0.01):\n",
    "    pad = '*' * order\n",
    "    data = pad + data\n",
    "    cfd = nltk.ConditionalFreqDist((data[i : i + order], data[i + order]) for i in range(len(data) - order))\n",
    "    cpd = nltk.ConditionalProbDist(cfd, nltk.LidstoneProbDist, gamma, bins=1000)\n",
    "    return cpd"
   ]
  },
  {
   "cell_type": "markdown",
   "metadata": {},
   "source": [
    "We would like to use new model and train it on the cooking recipes.\n",
    "First we need to gather the data:"
   ]
  },
  {
   "cell_type": "code",
   "execution_count": 93,
   "metadata": {},
   "outputs": [],
   "source": [
    "#!wget http://www.ffts.com/recipes/lg/lg32965.zip\n",
    "\n",
    "#with zipfile.ZipFile(\"lg32965.zip\",\"r\") as zip_ref:\n",
    "#    zip_ref.extractall(\"recipes\")\n",
    "\n",
    "file_list = os.listdir(\"recipes\")\n",
    "enc = 'iso-8859-15'\n",
    "recipes = \"\"\n",
    "for file in file_list:\n",
    "    recipes_from_file = open(\"recipes/\" + file, 'r', encoding=enc).read()\n",
    "    recipes_from_file.translate(string.punctuation)\n",
    "    recipes += recipes_from_file"
   ]
  },
  {
   "cell_type": "markdown",
   "metadata": {},
   "source": [
    "We want to gather some statistics on them. We'll split the file to recipes using the string \"MMMMM----- Recipe via Meal-Master (tm) v8.05\", which seperates strings in the file."
   ]
  },
  {
   "cell_type": "code",
   "execution_count": 24,
   "metadata": {},
   "outputs": [
    {
     "name": "stdout",
     "output_type": "stream",
     "text": [
      "number of recipes: 32963\n",
      "number of tokens: 7238876\n",
      "number of characters: 38110009\n",
      "size of vocabulary: 91682\n",
      "distribution of size of recipes in chars:\n"
     ]
    },
    {
     "data": {
      "image/png": "[encoded data removed]",
      "text/plain": [
       "<matplotlib.figure.Figure at 0x21a0c09c208>"
      ]
     },
     "metadata": {},
     "output_type": "display_data"
    },
    {
     "name": "stdout",
     "output_type": "stream",
     "text": [
      "distribution of size of recipes in tokens:\n"
     ]
    },
    {
     "data": {
      "image/png": "[encoded data removed]",
      "text/plain": [
       "<matplotlib.figure.Figure at 0x21a14f726a0>"
      ]
     },
     "metadata": {},
     "output_type": "display_data"
    },
    {
     "name": "stdout",
     "output_type": "stream",
     "text": [
      "distribution of length of words:\n"
     ]
    },
    {
     "data": {
      "image/png": "[encoded data removed]",
      "text/plain": [
       "<matplotlib.figure.Figure at 0x21a3951a0b8>"
      ]
     },
     "metadata": {},
     "output_type": "display_data"
    }
   ],
   "source": [
    "def get_stats(recipes):\n",
    "    #(number of recipes, tokens, characters, vocabulary size, \n",
    "    #distribution of the size of recipes in words and in chars, distribution of length of words).\n",
    "    recipes_list = recipes.split(\"MMMMM----- Recipe via Meal-Master (tm) v8.05\")[1:]\n",
    "    all_tokens = word_tokenize(recipes)\n",
    "    print (\"number of recipes:\", len(recipes_list))\n",
    "    print (\"number of tokens:\", len(all_tokens))\n",
    "    print (\"number of characters:\", len (recipes))\n",
    "    print (\"size of vocabulary:\", len (set(all_tokens)))\n",
    "    print (\"distribution of size of recipes in chars:\")\n",
    "    print_char_dist (recipes_list)\n",
    "    print (\"distribution of size of recipes in tokens:\")\n",
    "    print_words_dist (recipes_list)\n",
    "    print (\"distribution of length of words:\")\n",
    "    print_words_length (all_tokens)\n",
    "    \n",
    "def print_char_dist (recipes_list):\n",
    "    recipes_chars_len = [len(i) for i in recipes_list]\n",
    "    plt.hist(recipes_chars_len, bins=100)\n",
    "    plt.xlabel (\"Number of chars in recipe\")\n",
    "    plt.ylabel (\"Amount\")\n",
    "    plt.show()\n",
    "    \n",
    "def print_words_dist (recipes_list):\n",
    "    tokened_recipes = [word_tokenize(r) for r in recipes_list]\n",
    "    recipes_words_len = [len(i) for i in tokened_recipes]\n",
    "    plt.hist(recipes_words_len, bins=100)\n",
    "    plt.xlabel (\"Number of tokens in recipe\")\n",
    "    plt.ylabel (\"Amount\")\n",
    "    plt.show()\n",
    "\n",
    "def print_words_length (all_tokens):\n",
    "    words_len = [len(i) for i in all_tokens]\n",
    "    plt.hist(words_len, bins=100)\n",
    "    plt.xlabel (\"Word length\")\n",
    "    plt.ylabel (\"Amount\")\n",
    "    plt.show()\n",
    "    \n",
    "get_stats(recipes)"
   ]
  },
  {
   "cell_type": "markdown",
   "metadata": {},
   "source": [
    "Note: the one long word in the recipes dataset is a string of 70 \"+\" characters in a row, used as a delimiter in the text.\n",
    "\n",
    "Our next step will be to split the dataset. The Python interface chosen is a dictionary with three keys: train, dev and test, so we can easily access every set."
   ]
  },
  {
   "cell_type": "code",
   "execution_count": 26,
   "metadata": {},
   "outputs": [],
   "source": [
    "def split_data (recipes):\n",
    "    #returns a dictionary of train, dev, test\n",
    "    eighty_per = round(len(recipes) * 0.8)\n",
    "    ten_per = round(len(recipes) * 0.1)\n",
    "    return {\"train\": recipes[:eighty_per], \n",
    "            \"dev\": recipes[eighty_per : eighty_per + ten_per],\n",
    "            \"test\": recipes[eighty_per + ten_per:]}\n",
    "\n",
    "sets = split_data (recipes)"
   ]
  },
  {
   "cell_type": "markdown",
   "metadata": {},
   "source": [
    "Now let's train the model on our data. We'll try with order 4."
   ]
  },
  {
   "cell_type": "code",
   "execution_count": 28,
   "metadata": {},
   "outputs": [],
   "source": [
    "lm4 = create_lm_Lidstone (sets.get(\"train\"), 4)"
   ]
  },
  {
   "cell_type": "markdown",
   "metadata": {},
   "source": [
    "We need to modify our perplexity method from earlier to fit a character model:"
   ]
  },
  {
   "cell_type": "code",
   "execution_count": 30,
   "metadata": {},
   "outputs": [],
   "source": [
    "def char_model_entropy(model, text, n=2):\n",
    "    H = 0.0\n",
    "    for i in range(n - 1, len(text)):\n",
    "        context, char = text[i - n:i], text[i]\n",
    "        H += model[context].logprob(char)\n",
    "    return -(H / (len(text) - (n - 1)))\n",
    "\n",
    "def calc_perplexity_char(model, text, n=2):\n",
    "    text_entropy = char_model_entropy(model, text, n)\n",
    "    return 2 ** (text_entropy)"
   ]
  },
  {
   "cell_type": "markdown",
   "metadata": {},
   "source": [
    "And the perplexity of such model is:"
   ]
  },
  {
   "cell_type": "code",
   "execution_count": 32,
   "metadata": {},
   "outputs": [
    {
     "data": {
      "text/plain": [
       "3.0989853710976076"
      ]
     },
     "execution_count": 32,
     "metadata": {},
     "output_type": "execute_result"
    }
   ],
   "source": [
    "calc_perplexity_char(lm4, sets.get(\"dev\"), 4)"
   ]
  },
  {
   "cell_type": "markdown",
   "metadata": {},
   "source": [
    "So we observe that the perplexity is very low. Let's try other orders:"
   ]
  },
  {
   "cell_type": "code",
   "execution_count": 34,
   "metadata": {},
   "outputs": [
    {
     "data": {
      "text/plain": [
       "3.880365144980602"
      ]
     },
     "execution_count": 34,
     "metadata": {},
     "output_type": "execute_result"
    }
   ],
   "source": [
    "lm7 = create_lm_Lidstone (sets.get(\"train\"), 7)\n",
    "calc_perplexity_char(lm7, sets.get(\"dev\"), 7)"
   ]
  },
  {
   "cell_type": "code",
   "execution_count": 38,
   "metadata": {},
   "outputs": [
    {
     "data": {
      "text/plain": [
       "8.102358953258964"
      ]
     },
     "execution_count": 38,
     "metadata": {},
     "output_type": "execute_result"
    }
   ],
   "source": [
    "lm10 = create_lm_Lidstone (sets.get(\"train\"), 10)\n",
    "calc_perplexity_char(lm10, sets.get(\"dev\"), 10)"
   ]
  },
  {
   "cell_type": "markdown",
   "metadata": {},
   "source": [
    "So for order 7 the results are still low. For order 10, it gets a big higher, but still very low compared to the values we've witnessed at the previous part. How is it possible? Let's examine the probabilities (rather than the log probabilities) and calculate their average:"
   ]
  },
  {
   "cell_type": "code",
   "execution_count": 99,
   "metadata": {},
   "outputs": [
    {
     "name": "stdout",
     "output_type": "stream",
     "text": [
      "order 4: 0.5647759164180626\n",
      "order 7: 0.5727409242753136\n"
     ]
    }
   ],
   "source": [
    "def get_average_prob (model, text, n, isWordsModel):\n",
    "    s = 0\n",
    "    for i in range(n - 1, len(text)):\n",
    "        context, char = text[i - n:i], text[i]\n",
    "        if isWordsModel:\n",
    "            context = \" \".join(context)\n",
    "        s += model[context].prob(char)\n",
    "    return (s / (len(text) - (n - 1)))\n",
    "\n",
    "print (\"order 4:\", get_average_prob (lm4, sets.get(\"dev\"), 4, False))\n",
    "print (\"order 7:\", get_average_prob (lm7, sets.get(\"dev\"), 7, False))"
   ]
  },
  {
   "cell_type": "markdown",
   "metadata": {},
   "source": [
    "We see that in both cases, the average probability is very high. For comparison, in the example we've discussed in previous questions (based on ptb model), the average (after smoothing) was about 0.06. There are two possible reasons for it:\n",
    "\n",
    "-The recipe database is a lot easier to predict. It is limited to one subject and one types of texts, all of whom are formatted similarly and using similar expressions. The text isn't diverse, so it's easier to predict.\n",
    "\n",
    "-The use of a character-based model, rather than a words-based model, might cause lower perplexity - there are less options to predict each way.\n",
    "\n",
    "So which of those observations are correct? Let's try and test the PTB dataset on a character model, and the recipes dataset on a word model."
   ]
  },
  {
   "cell_type": "code",
   "execution_count": 100,
   "metadata": {},
   "outputs": [
    {
     "name": "stdout",
     "output_type": "stream",
     "text": [
      "ptb perplexity: 3.3206478141495595\n",
      "ptb average probability: 0.5097739275337272\n"
     ]
    }
   ],
   "source": [
    "ptb_char = create_lm_Lidstone (ptb_train, 4)\n",
    "print (\"ptb perplexity:\", calc_perplexity_char(ptb_char, ptb_test, 4))\n",
    "print (\"ptb average probability:\", get_average_prob(ptb_char, ptb_test, 4, False))"
   ]
  },
  {
   "cell_type": "code",
   "execution_count": null,
   "metadata": {},
   "outputs": [],
   "source": [
    "recipes_words_lm = train_word_lm(word_tokenize(sets.get(\"train\")),4)\n",
    "dev_tokenized = sets.get(\"dev\").words_tokenize\n",
    "print (\"recipes word perplexity:\", calc_preplexity(recipes_words_lm._probdist, dev_tokenized, 4))\n",
    "print (\"recipes word average probability:\", get_average_prob(recipes_words_lm, dev_tokenized, 4, True))"
   ]
  },
  {
   "cell_type": "code",
   "execution_count": null,
   "metadata": {},
   "outputs": [],
   "source": [
    "recipes_words_lm = train_word_lm(word_tokenize(sets.get(\"train\")),4)"
   ]
  },
  {
   "cell_type": "markdown",
   "metadata": {},
   "source": [
    "So our conclusion is: it seems that for the character model, the results for the ptb dataser are similar to the recipes database - a very low perplexity, and a very high average probability (0.5 is a bit lower than 0.57, perhaps because of the subject variety in ptb, but still relatively very high).\n",
    "\n",
    "Now we'll generate a few samples from those langauge models, and see how they turn out. We'll be using different orders to see which one brings the best results."
   ]
  },
  {
   "cell_type": "code",
   "execution_count": 39,
   "metadata": {},
   "outputs": [],
   "source": [
    "def generate_letter(lm, history, order):\n",
    "    history = history[-order:]\n",
    "    return lm[history].generate()\n",
    "\n",
    "            \n",
    "def generate_text(lm, order, nletters=1000):\n",
    "    history = \"~\" * order\n",
    "    out = []\n",
    "    for i in range(nletters):\n",
    "        c = generate_letter(lm, history, order)\n",
    "        history = history[-order:] + c\n",
    "        out.append(c)\n",
    "    return \"\".join(out)"
   ]
  },
  {
   "cell_type": "code",
   "execution_count": 42,
   "metadata": {},
   "outputs": [
    {
     "name": "stdout",
     "output_type": "stream",
     "text": [
      "~~~~~~~~~~~sauce\n",
      "  \n",
      "  Let remaining well, washews, pepper\n",
      "         1/4 c  Firm fat\n",
      "      10 minutes. NANNY'S (RESERVESTO SOURCE: _From the mushroom The fillet stir in heat. Sticks);\n",
      "  soymilk in a cleaned\n",
      "     1 c  Place to beans, covernightly steaks out 15 minutes. Add 1 table on a wet\n",
      "     1 qt Cider vinegar\n",
      "             Yield: 8 Serve with some separed paper Oats\n",
      "  \n",
      "  NOTE: foods finely\n",
      "            1 ts Szecho molds-\n",
      "  1/2 cups of\n",
      "  then on bake cook, until toss until tender the cook over and chick pepper, beans, stir shrimp of\n",
      "  yolks, as a minutes.\n",
      "  \n",
      "  Red winning carves of\n",
      "  milk, stirring dish\n",
      "  electric\n",
      "            Slurrent with 1 md Accompletely.\n",
      "  \n",
      "         1            FOR Melted low heat weeks, bake for\n",
      "       1      1 c  Celery, dark plums, ground baking from the leftover meat overed -- finely head crumbs. melt and cookies, Appetizer flat\n",
      "    1/3 c  Sugar\n",
      "  shred to 1 1/2 c  WELL GRUYERE CREAM DIPPERSON) Onions\n",
      "     -diced\n",
      "               Title: GREEN PIED FIGS\n",
      " Categories\n"
     ]
    }
   ],
   "source": [
    "print(generate_text(lm4, 4, 1000))"
   ]
  },
  {
   "cell_type": "code",
   "execution_count": 41,
   "metadata": {
    "scrolled": true
   },
   "outputs": [
    {
     "name": "stdout",
     "output_type": "stream",
     "text": [
      "~~ Copyrighted by SANDEE EVELAND on C-Cooking\" Dallas, TX\n",
      " \n",
      "MMMMM\n",
      " \n",
      "MMMMM\n",
      " \n",
      "MMMMM-------------\n",
      "      1 tb Sherry\n",
      "\n",
      "MMMMM----- Recipe via Meal-Master (tm) v8.05\n",
      " \n",
      "      3 oz Pine Nuts throws you, to form\n",
      "  pan loosely with white, then into ungreased cookies.\n",
      " \n",
      "MMMMM----- Recipe via Meal-Master (tm) v8.05\n",
      " \n",
      "      2    Egg\n",
      "  1 1/2 c  Granulated sugar and salt\n",
      "      3 c  Diced green\n",
      "  beat in reg. burritos are widely. Much more chicken, a few dollar-sized mixing well after\n",
      "  gets.\n",
      "  \n",
      "  4)_ Add the\n",
      "  fridge will be real tastes.\n",
      " \n",
      "MMMMM\n",
      " \n",
      "MMMMM----- Recipe via Meal-Master (tm) v8.05\n",
      " \n",
      "    2/3 c  Walnuts were so many whole wheat flour and cook on hot\n",
      "  pepper sauce\n",
      "      3 tb Butter Flavor, from Syria is a spicy\n",
      "  Vinaigrette. Divide the cheese, pickled baby formulate ice crystals\n",
      "               Serrano\n",
      "    inches above\n",
      "  sides of\n",
      "  garnish\n",
      " \n",
      "  Cocoa\n",
      "    1/2 c  Oregon States:  12 Grams of\n",
      "  Picuris Pueblo taught a big\n",
      "  ware, or until meat besides, heated manchego, panela, or\n",
      "      3    Eggs\n",
      " \n"
     ]
    }
   ],
   "source": [
    "print(generate_text(lm7, 7, 1000))"
   ]
  },
  {
   "cell_type": "code",
   "execution_count": 43,
   "metadata": {},
   "outputs": [
    {
     "name": "stdout",
     "output_type": "stream",
     "text": [
      "~~~~~~~~~~~~~~~~~~~~~~~~~~~\n",
      "    Tostada with a wire whip up batter.) 5. Place 4\n",
      "  tabls. at a time, take 6 to 8.\n",
      " \n",
      "MMMMM----- Recipe via Meal-Master (tm) v8.05\n",
      " \n",
      "      3 c  Chick Peel and second piont\n",
      "  raspberries and toss to completely.\n",
      "  \n",
      "  These light golden brown.\n",
      " \n",
      "MMMMM\n",
      " \n",
      "MMMMM\n",
      " \n",
      "MMMMM\n",
      " \n",
      "MMMMM----- Recipe via Meal-Master (tm) v8.05\n",
      " \n",
      "      2 lb Fish fillet when\n",
      "  cook until browned. Stir in SPAM, bell pepper in a large bowl.\n",
      "  Simmer,\n",
      "  combine all ingredients. Bring\n",
      "  constantly along- side up, be\n",
      "      3 c  Hot water format by\n",
      "  Fredlum Paaluhi, Janifer Salvacion, Chopped purple-black. Add onion\n",
      "    1/2 ts Yeast\n",
      " \n",
      "  DIRECTLY FROM THE CHILI & BEANS\n",
      " Categories: Main dish, if\n",
      "  desired. More created bread taken its fresh bread, or strips   See Recipe via Meal-Master (tm) v8.05\n",
      " \n",
      "           Title: CHICKEN WITH FLANK STEAK\n",
      " \n",
      "  CRUSHED BEAN SOUP\n",
      " Categories: Pies, Desserts\n",
      "      Title: GRANDMA'S OATMEAL COOKIES\n",
      " \n",
      "MMMMM\n",
      " \n",
      "MMMMM----- Recipe via Meal-Master (tm) v8.05\n",
      " \n",
      "    1/4 c  cho\n"
     ]
    }
   ],
   "source": [
    "print(generate_text(lm7, 7, 1000))"
   ]
  },
  {
   "cell_type": "code",
   "execution_count": 44,
   "metadata": {},
   "outputs": [
    {
     "name": "stdout",
     "output_type": "stream",
     "text": [
      "~~~ Combine all ingredients. Set side in a\n",
      "  9x13 pan. In a cup, mix thyme, parsley, oregano, cumin, 1/2 tsp. cold water. Heavy on egg whites (3/4 cup)\n",
      "      1 c  Raspberries & blueberries OR 1 c\n",
      "           EQUIVALENTS-----------NORMA WRENN-----------COUS COUS----------------------------\n",
      "      1 c  Herb-seasoned\n",
      " \n",
      "  MIX THE OIL WITH SUMAC\n",
      " Categories: Appetizers\n",
      "                -to ferment in\n",
      "  which you have a whole small\n",
      "  saucepan.\n",
      "  Heat, cover, and margarine\n",
      "          Lemon pepper\n",
      "      3 tb Olive oil\n",
      "      2 tb Olive oil\n",
      "        2 c  Warm water in large skillet over medium coals;broil 30 to 40\n",
      "  turns. Pour the chocolate chips.\n",
      "  \n",
      "  From an article by Jay Harlow, The San Francisco Chronicle Typed by Bob Stein. Courtesy of Karen Mintzias\n",
      " \n",
      "MMMMM\n",
      " \n",
      "MMMMM----- Recipe via Meal-Master (tm) v8.05\n",
      " \n",
      "      Title: ESCOVITCH\n",
      " Categories: Salads, Cheese, Labels, Main dish\n",
      "      Yield: 1 Servings\n",
      " \n",
      "      2    Starfruit; sliced crosswise cuts forming on it.  You will need help here.\n",
      "  \n",
      "  [Thi\n"
     ]
    }
   ],
   "source": [
    "print(generate_text(lm10, 10, 1000))"
   ]
  },
  {
   "cell_type": "code",
   "execution_count": 45,
   "metadata": {},
   "outputs": [
    {
     "name": "stdout",
     "output_type": "stream",
     "text": [
      "~~~ Melt\n",
      "  the butter in a stainless steel, five feet tall with salt and\n",
      "  pepper flakes\n",
      "    1/4 c  Dry wine\n",
      "      2 tb Oil\n",
      "  1 1/4 c  Butter -- microwave on high for 1 minute on a very well. Rub in margarine\n",
      "  :          -tail) or pig's foot, and 1\n",
      "  cup salsa per serving: 281 cal. (11 percent from\n",
      "  process until nuts\n",
      "  around each cherry in the north). Add\n",
      "  cumin and other ingredients.  Roll out again to boil, simmer cherries,w/stem\n",
      "           -pineapple juice-honey\n",
      "  mixture. RHUBARB SOUFFLE\n",
      " Categories: Ethnic, Italian\n",
      "      Yield: 8 Servings\n",
      " \n",
      "      3 lg Tart apple pectin gives a great recipes.\n",
      "  \n",
      "  Pour boiled water, chopped\n",
      "    2/3 c  Butter or margarine\n",
      "      1 tb Salad oil\n",
      "          Grated Romano Cheese; Grated\n",
      "    1/4 c  Butter or vegan\n",
      "  margarine\" and \"No.\n",
      "  15 chicken\"...\n",
      "  \n",
      "  Posted by FAYLEN\n",
      " \n",
      "MMMMM\n",
      " \n",
      "MMMMM----- Recipe via Meal-Master (tm) v8.05\n",
      " \n",
      "      Title: IMPOSSIBLE CHOCOLATE ZABAGLIONE (ZABAGLIONE (ZABAGLIONE (ZABAGLIONE\n",
      " Categories: Candies\n",
      "      Yield: 2 servin\n"
     ]
    }
   ],
   "source": [
    "print(generate_text(lm10, 10, 1000))"
   ]
  },
  {
   "cell_type": "markdown",
   "metadata": {},
   "source": [
    "A few observations about those generations:\n",
    "\n",
    "-All models create mostly existing, and relevant words. Order 4 occasionally creates gibberish words (such as \"DIPPERSON\"), but this seems to become much rarer in orders 7 and 10.\n",
    "\n",
    "-The recipe delimiter (\"MMMMM...\") appears frequently in generations. Sometimes the complete phrase (including \"Recipe via...\") appears too. In order 7, the delimiter seems to appear fairly randomly. However, in order 10, his positions makes sense: it appears after the end of a recipe (after \"Posted by\", \"Courtesy of\") and immediately followed by the beginning of a new recipe (\"Title: \").\n",
    "\n",
    "-Both order 10 and order 7 seems to keep some basic formatting. \"Title:\" will be followed by an uppercase recipe name, \"Categories:\" will be followed by a list of one or more categories, separated by commas, where every item begins with a cpital letter. \"Yield:\" is always followed by the number of servings.\n",
    "\n",
    "-List of ingredients seems to somewhat stick together. The formatting remains: number, unit, and name of ingredient, and usually several of those lines appear in a row. However, all ingredients lists seem to suffer from fairly random indentations. \n",
    "\n",
    "-It seems that only order 10 is capable of forming full sentences that makes sense, such as \"Add cumin and other ingredients. Roll out again to boil\". Credit lines seem to be written correctly (\"From an article by Jay Harlow, The San Francisco Chronicle Typed by Bob Stein\"), presumably because they always appear in the same formatting.\n"
   ]
  },
  {
   "cell_type": "markdown",
   "metadata": {
    "collapsed": true
   },
   "source": [
    "## Part 2"
   ]
  },
  {
   "cell_type": "markdown",
   "metadata": {},
   "source": [
    "We want to generate a dataset of N points for some function y(x).\n",
    "We will start by writing a function that generates x and t such that - t_i = y(x_i) + N(mu, sigma):"
   ]
  },
  {
   "cell_type": "code",
   "execution_count": 3,
   "metadata": {},
   "outputs": [
    {
     "data": {
      "image/png": "[encoded data removed]",
      "text/plain": [
       "<matplotlib.figure.Figure at 0x2e4a72de7b8>"
      ]
     },
     "metadata": {},
     "output_type": "display_data"
    }
   ],
   "source": [
    "def generateDataset(N, f, sigma):\n",
    "    mu = 0\n",
    "    s = np.array(np.random.normal(mu, sigma, N))\n",
    "    x = np.array(np.linspace(0.0, 1.0, N))\n",
    "    vf = np.vectorize(f)\n",
    "    t = np.add(vf(x), s)\n",
    "    return (x, t)\n",
    "\n",
    "sigma = 0.03\n",
    "def f(x): return math.sin(2 * math.pi * x)\n",
    "N = 100\n",
    "\n",
    "x, t = generateDataset(N, f, sigma)\n",
    "plt.scatter(x, t)\n",
    "plt.show()"
   ]
  },
  {
   "cell_type": "markdown",
   "metadata": {},
   "source": [
    "### part 2.2"
   ]
  },
  {
   "cell_type": "markdown",
   "metadata": {},
   "source": [
    "We now want to learn the function y by using x and t using a least squares estimator:"
   ]
  },
  {
   "cell_type": "code",
   "execution_count": 4,
   "metadata": {},
   "outputs": [],
   "source": [
    "def OptimizeLS(x, t, M):\n",
    "    phi = np.vstack([np.power(x_i, m) for m in range(M)] for x_i in x)\n",
    "    prod = np.dot(phi.T, phi)\n",
    "    i = np.linalg.inv(prod)\n",
    "    phi_mults = np.dot(i, phi.T)\n",
    "    w = np.dot(phi_mults, t)\n",
    "    return w"
   ]
  },
  {
   "cell_type": "markdown",
   "metadata": {},
   "source": [
    "and we shall test it using the sin function from earlier:"
   ]
  },
  {
   "cell_type": "code",
   "execution_count": 76,
   "metadata": {},
   "outputs": [
    {
     "data": {
      "image/png": "[encoded data removed]",
      "text/plain": [
       "<matplotlib.figure.Figure at 0x2e4a81534a8>"
      ]
     },
     "metadata": {},
     "output_type": "display_data"
    }
   ],
   "source": [
    "def applyXW (x, w):\n",
    "#given a vector w and a number x, computes y(x) = w0 + w1x + w2x2 + ... + wMxM\n",
    "    sum = w[0]\n",
    "    for i in range (1,len(w)):\n",
    "        sum+= (pow(x,i) * w[i])\n",
    "    return sum\n",
    "\n",
    "sigma = 0.03\n",
    "N = 10\n",
    "def f(x): return math.sin(2 * math.pi * x)\n",
    "\n",
    "x, t = generateDataset(N, f, sigma)\n",
    "plt.figure(figsize=(8, 10))\n",
    "plt.subplot(5 ,1, 1)\n",
    "plt.scatter(x, t)\n",
    "\n",
    "M = [1, 3, 5, 10]\n",
    "j = 2\n",
    "for m in M:\n",
    "    w = OptimizeLS(x, t, m)\n",
    "    res =  [applyXW(xi,w) for xi in x]\n",
    "    subp = plt.subplot(5, 1, j)    \n",
    "    j += 1\n",
    "    subp.set_title('M = {}'.format(m))\n",
    "    subp.scatter(x, res)\n",
    "plt.tight_layout(pad=0.5, w_pad=0.5, h_pad=0.8)\n",
    "plt.show()"
   ]
  },
  {
   "cell_type": "markdown",
   "metadata": {},
   "source": [
    "### Part 2.3"
   ]
  },
  {
   "cell_type": "markdown",
   "metadata": {},
   "source": [
    "Now, instead of least squares we would like to estimate y using polynomial curve fitting:"
   ]
  },
  {
   "cell_type": "code",
   "execution_count": 6,
   "metadata": {},
   "outputs": [],
   "source": [
    "def optimizePLS(x, t, M, l):\n",
    "    phi = np.vstack([np.power(x_i, m) for m in range(M)] for x_i in x)\n",
    "    prod = np.dot(phi.T, phi)\n",
    "    l_i = np.dot(l, np.identity(prod.shape[0]))\n",
    "    fixed = np.add(prod, l_i)\n",
    "    i = np.linalg.inv(fixed)\n",
    "    phi_mults = np.dot(i, phi.T)\n",
    "    w = np.dot(phi_mults, t)\n",
    "    return w"
   ]
  },
  {
   "cell_type": "markdown",
   "metadata": {},
   "source": [
    "First we will test our function with a random value of lambda:"
   ]
  },
  {
   "cell_type": "code",
   "execution_count": 75,
   "metadata": {},
   "outputs": [
    {
     "data": {
      "image/png": "[encoded data removed]",
      "text/plain": [
       "<matplotlib.figure.Figure at 0x2e4a81533c8>"
      ]
     },
     "metadata": {},
     "output_type": "display_data"
    }
   ],
   "source": [
    "sigma = 0.03\n",
    "N = 10\n",
    "def f(x): return math.sin(2 * math.pi * x)\n",
    "\n",
    "x, t = generateDataset(N, f, sigma)\n",
    "M = 5\n",
    "l = 0.05\n",
    "w = optimizePLS(x, t, M, l)\n",
    "\n",
    "plt.figure(figsize=(8, 10))\n",
    "plt.subplot(2 ,1, 1)\n",
    "plt.scatter(x, t)\n",
    "\n",
    "res = applyXW (x, w)\n",
    "subp = plt.subplot(2, 1, 2)\n",
    "subp.scatter(x, res)\n",
    "plt.show()"
   ]
  },
  {
   "cell_type": "markdown",
   "metadata": {},
   "source": [
    "As we can see, adding the lambda didn't result in the best outcome- \n",
    "We want to optimize the lambda value, to do so we will firstly need to construct a training set, a dataset and a validation set in order to optimize it. \n",
    "to do so we will extend the function we created earlier:"
   ]
  },
  {
   "cell_type": "code",
   "execution_count": 15,
   "metadata": {
    "scrolled": true
   },
   "outputs": [],
   "source": [
    "def generateDataset3(N, f, sigma):\n",
    "    mu = 0\n",
    "    s = np.array(np.random.normal(mu, sigma, N))\n",
    "    \n",
    "    x_1 = np.array(np.linspace(0.0, 1.0, N))\n",
    "    x_2 = np.copy(x_1)\n",
    "    x_3 = np.copy(x_1)\n",
    "    np.random.shuffle(x_2)\n",
    "    np.random.shuffle(x_3)\n",
    "    \n",
    "    vf = np.vectorize(f)\n",
    "    \n",
    "    t_1 = np.add(vf(x_1), s)\n",
    "    t_2 = np.add(vf(x_2), s)\n",
    "    t_3 = np.add(vf(x_3), s)\n",
    "    \n",
    "    return [(x_1, t_1), (x_2, t_2), (x_3, t_3)]"
   ]
  },
  {
   "cell_type": "markdown",
   "metadata": {},
   "source": [
    "and testing this function:"
   ]
  },
  {
   "cell_type": "code",
   "execution_count": 74,
   "metadata": {},
   "outputs": [
    {
     "data": {
      "image/png": "[encoded data removed]",
      "text/plain": [
       "<matplotlib.figure.Figure at 0x2e4a84a3208>"
      ]
     },
     "metadata": {},
     "output_type": "display_data"
    }
   ],
   "source": [
    "sigma = 0.03\n",
    "N = 100\n",
    "def f(x): return math.sin(2 * math.pi * x)\n",
    "\n",
    "res = generateDataset3(N, f, sigma)\n",
    "x_1, t_1 = res[0]\n",
    "x_2, t_2 = res[1]\n",
    "x_3, t_3 = res[2]\n",
    "plt.scatter(x_1, t_1)\n",
    "plt.scatter(x_2, t_2)\n",
    "plt.scatter(x_3, t_3)\n",
    "plt.show()"
   ]
  },
  {
   "cell_type": "markdown",
   "metadata": {},
   "source": [
    "We first need to estimate the error of a model from the real thing, so we define the normalized error:"
   ]
  },
  {
   "cell_type": "code",
   "execution_count": 20,
   "metadata": {},
   "outputs": [],
   "source": [
    "def normalized_error (x,t,w):\n",
    "    n = len(x)\n",
    "    sig = 0\n",
    "    for i in range(n):\n",
    "        sig+= (t[i] - applyXW(x[i],w))**2\n",
    "    return (1/n) * sig**0.5"
   ]
  },
  {
   "cell_type": "markdown",
   "metadata": {},
   "source": [
    "and for example, for the previously generates results we get:"
   ]
  },
  {
   "cell_type": "code",
   "execution_count": 25,
   "metadata": {
    "scrolled": true
   },
   "outputs": [
    {
     "name": "stdout",
     "output_type": "stream",
     "text": [
      "0.026811331626031012\n"
     ]
    }
   ],
   "source": [
    "sigma = 0.03\n",
    "N = 100\n",
    "\n",
    "x, t = generateDataset(N, f, sigma)\n",
    "M = 5\n",
    "l = 0.05\n",
    "w = optimizePLS(x, t, M, l)\n",
    "\n",
    "print(normalized_error(x, t, w))"
   ]
  },
  {
   "cell_type": "markdown",
   "metadata": {},
   "source": [
    "We wanna show how different lambda values will give different result - the following graph plots will show the normalized error on different lambda value for all x types:"
   ]
  },
  {
   "cell_type": "code",
   "execution_count": 24,
   "metadata": {},
   "outputs": [
    {
     "data": {
      "image/png": "[encoded data removed]",
      "text/plain": [
       "<matplotlib.figure.Figure at 0x2e4a8376b00>"
      ]
     },
     "metadata": {},
     "output_type": "display_data"
    }
   ],
   "source": [
    "sigma = 0.03\n",
    "def f(x): return math.sin(2 * math.pi * x)\n",
    "N = 10\n",
    "\n",
    "res = generateDataset3(N, f, sigma)\n",
    "x_test, t_test = res[0]\n",
    "x_validate, t_validate = res[1]\n",
    "x_train, t_train = res[2]\n",
    "\n",
    "def run_lambdas(x_train, t_train, x_test, t_test, x_validate, t_validate):\n",
    "    j = 0\n",
    "    normalized_test = np.zeros(20)\n",
    "    normalized_train = np.zeros(20)\n",
    "    normalized_validate = np.zeros(20)\n",
    "    for i in range(-40, -20):\n",
    "        l = np.exp(i)\n",
    "        w_test = optimizePLS(x_train, t_train, M, l)\n",
    "        normalized_test[j] = normalized_error(x_test, t_test, w_test)\n",
    "        normalized_validate[j] = normalized_error(x_validate, t_validate, w_test)\n",
    "        normalized_train[j] = normalized_error(x_train, t_train, w_test)\n",
    "        j += 1\n",
    "    return [normalized_test, normalized_train, normalized_validate]\n",
    "\n",
    "def run(N, sigma, f):\n",
    "    res = generateDataset3(N, f, sigma)\n",
    "    x_test, t_test = res[0]\n",
    "    x_validate, t_validate = res[1]\n",
    "    x_train, t_train = res[2]\n",
    "    \n",
    "    return run_lambdas(x_train, t_train, x_test, t_test, x_validate, t_validate)\n",
    "\n",
    "sigma = 0.03\n",
    "N = 10\n",
    "\n",
    "res = run(N, sigma, f)\n",
    "n_tst5, n_trn5, n_vld5 = res[0], res[1], res[2]\n",
    "\n",
    "N = 100\n",
    "res = run(N, sigma, f)\n",
    "n_tst10, n_trn10, n_vld10 = res[0], res[1], res[2]\n",
    "\n",
    "plt.figure(num = 2, figsize=(10, 10))\n",
    "\n",
    "a_tst = plt.subplot(2 ,3, 1)\n",
    "a_tst.set_title('N = 10, testing set', y=1.08)\n",
    "a_tst.plot(n_tst5)\n",
    "a_v = plt.subplot(2 ,3, 2)\n",
    "a_v.set_title('N = 10,validtion set', y=1.08)\n",
    "a_v.plot(n_vld5)\n",
    "a_t = plt.subplot(2 ,3, 3)\n",
    "a_t.set_title('N = 10,training set', y=1.08)\n",
    "a_t.plot(n_trn5)\n",
    "\n",
    "a_tst_b = plt.subplot(2 ,3, 4)\n",
    "a_tst_b.set_title('N = 100, testing set', y=1.08)\n",
    "a_tst_b.plot(n_tst10)\n",
    "a_v_b = plt.subplot(2 ,3, 5)\n",
    "a_v_b.set_title('N = 100,validtion set', y=1.08)\n",
    "a_v_b.plot(n_vld10)\n",
    "a_t_b = plt.subplot(2 ,3, 6)\n",
    "a_t_b.set_title('N = 100,training set', y=1.08)\n",
    "a_t_b.plot(n_trn10)\n",
    "\n",
    "plt.show()"
   ]
  },
  {
   "cell_type": "markdown",
   "metadata": {},
   "source": [
    "Now we will create w based on an optimized lambda:"
   ]
  },
  {
   "cell_type": "code",
   "execution_count": 70,
   "metadata": {},
   "outputs": [],
   "source": [
    "def get_w_error_pair (xt, tt, xv, tv, M, lamb):\n",
    "#returns a pair of vector w and his normalized_error\n",
    "    w = optimizePLS (xt,tt,M,lamb)\n",
    "    return (w, normalized_error (xv,tv,w))\n",
    "\n",
    "def optimizePLSLambda(xt, tt, xv, tv, M):\n",
    "    all_lambdas = [get_w_error_pair (xt, tt, xv, tv, M, (np.exp(i))) for i in range (-40, -20)]\n",
    "    errors = [x[1] for x in all_lambdas]\n",
    "    pos = errors.index(min(errors))\n",
    "    return all_lambdas[pos][0]"
   ]
  },
  {
   "cell_type": "markdown",
   "metadata": {},
   "source": [
    "and testing it on the same example from earlier:"
   ]
  },
  {
   "cell_type": "code",
   "execution_count": 71,
   "metadata": {},
   "outputs": [
    {
     "data": {
      "image/png": "[encoded data removed]",
      "text/plain": [
       "<matplotlib.figure.Figure at 0x2e4a8f6d630>"
      ]
     },
     "metadata": {},
     "output_type": "display_data"
    }
   ],
   "source": [
    "sigma = 0.03\n",
    "def f(x): return math.sin(2 * math.pi * x)\n",
    "N = 10\n",
    "\n",
    "res = generateDataset3(N, f, sigma)\n",
    "x_test, t_test = res[0]\n",
    "x_validate, t_validate = res[1]\n",
    "x_train, t_train = res[2]\n",
    "\n",
    "plt.figure(num = 3, figsize=(8, 10))\n",
    "origin = plt.subplot(2 ,1, 1)\n",
    "origin.scatter(x_test, t_test)\n",
    "\n",
    "M = 5\n",
    "w_res = optimizePLSLambda(x_train, t_train, x_validate, t_validate, M)\n",
    "res = np.zeros(len(t_test))\n",
    "for i in range(len(w_res)):\n",
    "    res = res + np.dot(w_res[i], np.power(x_test, i))\n",
    "subp = plt.subplot(2, 1, 2)\n",
    "subp.scatter(x_test, res)\n",
    "plt.show()\n"
   ]
  },
  {
   "cell_type": "markdown",
   "metadata": {},
   "source": [
    "### part 2.4"
   ]
  },
  {
   "cell_type": "code",
   "execution_count": 72,
   "metadata": {},
   "outputs": [],
   "source": [
    "def bayesianEstimator(x, t, M, alpha, sigma2):\n",
    "    N = len(x)\n",
    "    \n",
    "    #builds phi for given vector xx\n",
    "    def phi(xx):\n",
    "        return np.array([(xx ** i) for i in range(M + 1)])\n",
    "    \n",
    "    #calculate S\n",
    "    alpha_i = alpha * np.eye(M + 1)\n",
    "    S = np.zeros((M + 1, M + 1))\n",
    "    for i in range(N):\n",
    "        phi_xi = phi(x[i])\n",
    "        S += np.outer(phi_xi, phi_xi.T)\n",
    "    S = np.linalg.inv(alpha_i + (S / sigma2))\n",
    "    \n",
    "    #calculate m(x)\n",
    "    def m(xx):\n",
    "        phi_t = phi(xx).T\n",
    "        xt_sum = np.zeros(M + 1)\n",
    "        for i in range(N):\n",
    "            xt_sum += phi(x[i]) * t[i]\n",
    "        return (1 / sigma2) * np.dot(np.dot(phi_t, S), xt_sum)\n",
    "    \n",
    "    #calculate s2(xx)\n",
    "    def var(xx):\n",
    "        phi_x = phi(xx)\n",
    "        return sigma2 + np.dot(phi_x.T, np.dot(S, phi_x))\n",
    "    \n",
    "    mean = lambda x_t: m(x_t)\n",
    "    variance = lambda x_t: var(x_t)\n",
    "    \n",
    "    return (mean, variance)"
   ]
  },
  {
   "cell_type": "code",
   "execution_count": 73,
   "metadata": {},
   "outputs": [
    {
     "data": {
      "image/png": "[encoded data removed]",
      "text/plain": [
       "<matplotlib.figure.Figure at 0x2e4a8fbe780>"
      ]
     },
     "metadata": {},
     "output_type": "display_data"
    }
   ],
   "source": [
    "alpha = 0.005\n",
    "sigma2 = 1/11.1\n",
    "M = 9\n",
    "def f(x): return math.sin(2 * math.pi * x)\n",
    "vf = np.vectorize(f)\n",
    "N = 10\n",
    "\n",
    "res = generateDataset(N, f, sigma)\n",
    "x_t, t_t = res\n",
    "\n",
    "m, var = bayesianEstimator(x_test, t_test, M, alpha, sigma2)\n",
    "\n",
    "plt.figure(num = 10, figsize=(6, 6))\n",
    "upperBound = np.vectorize(lambda x: m(x) + np.sqrt(var(x)))\n",
    "lowerBound = np.vectorize(lambda x: m(x) - np.sqrt(var(x)))\n",
    "plt_graph = plt.subplot(111)\n",
    "plt_graph.fill_between(x_t, upperBound(x_t), lowerBound(x_t), alpha=0.3, color='r')\n",
    "plt_graph.scatter(x_t, t_t, edgecolor='b', facecolor='none', marker='o', s=60, lw=2)\n",
    "plt_graph.plot(x_t, m(x_t), lw=2, color='g')\n",
    "plt_graph.plot(x_t, vf(x_t), lw=2, color='r')\n",
    "\n",
    "plt.show()"
   ]
  },
  {
   "cell_type": "code",
   "execution_count": null,
   "metadata": {
    "collapsed": true
   },
   "outputs": [],
   "source": []
  }
 ],
 "metadata": {
  "kernelspec": {
   "display_name": "Python 3",
   "language": "python",
   "name": "python3"
  },
  "language_info": {
   "codemirror_mode": {
    "name": "ipython",
    "version": 3
   },
   "file_extension": ".py",
   "mimetype": "text/x-python",
   "name": "python",
   "nbconvert_exporter": "python",
   "pygments_lexer": "ipython3",
   "version": "3.6.4"
  }
 },
 "nbformat": 4,
 "nbformat_minor": 2
}
