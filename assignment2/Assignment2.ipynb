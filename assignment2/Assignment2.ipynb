{
 "cells": [
  {
   "cell_type": "markdown",
   "metadata": {},
   "source": [
    "# Assignment 2"
   ]
  },
  {
   "cell_type": "markdown",
   "metadata": {},
   "source": [
    "This notebook is the solution to HW2, written by Yaniv Bin and Tair Hakman."
   ]
  },
  {
   "cell_type": "markdown",
   "metadata": {},
   "source": [
    "We first would like to import all the required modules in order for our code to run properly:"
   ]
  },
  {
   "cell_type": "code",
   "execution_count": 1,
   "metadata": {
    "collapsed": true
   },
   "outputs": [],
   "source": [
    "import warnings\n",
    "warnings.filterwarnings(action='ignore', category=UserWarning, module='gensim')\n",
    "import os.path\n",
    "from os.path import abspath, dirname, join\n",
    "import numpy as np\n",
    "import matplotlib.pyplot as plt\n",
    "import collections\n",
    "from collections import defaultdict\n",
    "from collections import Counter\n",
    "import random\n",
    "import gzip, string, nltk\n",
    "import tarfile\n",
    "import itertools\n",
    "from glob import glob\n",
    "import re\n",
    "import os\n",
    "import sys\n",
    "\n",
    "from nltk.corpus import conll2002\n",
    "from nltk import word_tokenize\n",
    "\n",
    "from sklearn.feature_extraction import DictVectorizer\n",
    "from sklearn.linear_model import LogisticRegression\n",
    "import sklearn.metrics as metrics\n",
    "from sklearn.naive_bayes import GaussianNB\n",
    "from sklearn.externals.six.moves import html_parser\n",
    "from sklearn.externals.six.moves.urllib.request import urlretrieve\n",
    "from sklearn.datasets import get_data_home\n",
    "from sklearn.feature_extraction.text import CountVectorizer\n",
    "from sklearn.naive_bayes import MultinomialNB\n",
    "from sklearn.pipeline import Pipeline\n",
    "from sklearn.model_selection import KFold\n",
    "from sklearn.metrics import confusion_matrix, f1_score\n",
    "\n",
    "import pandas as pd\n",
    "from pandas import DataFrame\n",
    "\n",
    "from gensim.models.keyedvectors import KeyedVectors"
   ]
  },
  {
   "cell_type": "markdown",
   "metadata": {},
   "source": [
    "## Part 1"
   ]
  },
  {
   "cell_type": "markdown",
   "metadata": {},
   "source": [
    "Our first task is identifying complex words. In order to do so we will use the data provided. \n",
    "first we need to load the data using the provided functions. \n",
    "<br>(For a better flow we modified the skeleton code within the notebook, but we added the edit into the skeleton file as well) "
   ]
  },
  {
   "cell_type": "code",
   "execution_count": 2,
   "metadata": {
    "collapsed": true
   },
   "outputs": [],
   "source": [
    "def load_file(data_file):\n",
    "    words = []\n",
    "    labels = []   \n",
    "    with open(data_file, 'rt', encoding=\"utf8\") as f:\n",
    "        i = 0\n",
    "        for line in f:\n",
    "            if i > 0:\n",
    "                line_split = line[:-1].split(\"\\t\")\n",
    "                words.append(line_split[0].lower())\n",
    "                labels.append(int(line_split[1]))\n",
    "            i += 1\n",
    "    return words, labels"
   ]
  },
  {
   "cell_type": "markdown",
   "metadata": {},
   "source": [
    "And loading the data:"
   ]
  },
  {
   "cell_type": "code",
   "execution_count": 3,
   "metadata": {
    "collapsed": true
   },
   "outputs": [],
   "source": [
    "training_file = abspath(join(dirname(\"__file__\"), \"data/complex_words_training.txt\"))\n",
    "development_file = abspath(join(dirname(\"__file__\"), \"data/complex_words_development.txt\"))\n",
    "test_file = abspath(join(dirname(\"__file__\"), \"data/complex_words_test_unlabeled.txt\"))"
   ]
  },
  {
   "cell_type": "markdown",
   "metadata": {},
   "source": [
    "Now that we have the data we may start working on the actual assignment. "
   ]
  },
  {
   "cell_type": "markdown",
   "metadata": {},
   "source": [
    "### Part 1.1 - Evaluation Matrics"
   ]
  },
  {
   "cell_type": "markdown",
   "metadata": {},
   "source": [
    "Usually in order to evaluate how well a classifcation algorithm works we use three measures - \n",
    "- **Precision**: Measure how 'useful' the results are (how many are hits and how many are miss)\n",
    "- **Recall**: Measure how 'complete' the results are (out off all the actually possible results, how many did we hit)\n",
    "- **Fscore**: Measure the balance between the Precision and Recall\n",
    "\n",
    "We would like to implement functions that compose each of these matrics "
   ]
  },
  {
   "cell_type": "markdown",
   "metadata": {},
   "source": [
    "We will start by calculating the precision - the precision is defined as:\n",
    "<br>$precision = \\frac{tp}{tp + fp}$\n",
    "<br>Where $tp$ stands for true-positive meaning a hit, and $fp$ stands for false-positive meaning the prediction is positive but it's actually a false alarm"
   ]
  },
  {
   "cell_type": "code",
   "execution_count": 4,
   "metadata": {
    "collapsed": true
   },
   "outputs": [],
   "source": [
    "## Input: y_pred, a list of length n with the predicted labels,\n",
    "## y_true, a list of length n with the true labels\n",
    "\n",
    "## Calculates the precision of the predicted labels\n",
    "def get_precision(y_pred, y_true):\n",
    "    positive_hits_array = np.array([(1 if(y_pred[i] == y_true[i] == 1) else 0) for i in range(len(y_pred))])\n",
    "    positive_hits = np.count_nonzero(positive_hits_array == 1)\n",
    "    total_positive = np.count_nonzero(np.array(y_pred) == 1)\n",
    "    precision = float(positive_hits) / float(total_positive)\n",
    "    return precision"
   ]
  },
  {
   "cell_type": "markdown",
   "metadata": {},
   "source": [
    "And let's make sure it works:"
   ]
  },
  {
   "cell_type": "code",
   "execution_count": 6,
   "metadata": {
    "collapsed": true
   },
   "outputs": [],
   "source": [
    "y_pred = [0, 1, 1, 0]\n",
    "y_true = [0, 0, 1, 1]\n",
    "# Here we have one true positive at position 2, and 1 false positive at position 1\n",
    "assert(get_precision(y_pred, y_true) == (1 / (1 + 1)))"
   ]
  },
  {
   "cell_type": "markdown",
   "metadata": {},
   "source": [
    "The second measure we will implement is the recall, calculated as follows\n",
    "<br>$recall = \\frac{tp}{tp + fn}$\n",
    "<br>Where $fn$ stands for false-negative, meaning the prediction is negative also it should have been positive(a miss)."
   ]
  },
  {
   "cell_type": "code",
   "execution_count": 7,
   "metadata": {
    "collapsed": true
   },
   "outputs": [],
   "source": [
    "## Calculates the recall of the predicted labels\n",
    "def get_recall(y_pred, y_true):\n",
    "    positive_hits_array = np.array([(1 if(y_pred[i] == y_true[i] == 1) else 0) for i in range(len(y_pred))])\n",
    "    positive_hits = np.count_nonzero(positive_hits_array == 1)\n",
    "    false_negative_array = np.array([(1 if ((not(y_pred[i] == y_true[i] )) and (y_pred[i] == 0) ) else 0) for i in range(len(y_pred))])\n",
    "    false_negative =  np.count_nonzero(false_negative_array)\n",
    "    recall = float(positive_hits) / float(positive_hits + false_negative)\n",
    "    return recall"
   ]
  },
  {
   "cell_type": "markdown",
   "metadata": {},
   "source": [
    "And let's again make sure this works as expected:"
   ]
  },
  {
   "cell_type": "code",
   "execution_count": 8,
   "metadata": {
    "collapsed": true
   },
   "outputs": [],
   "source": [
    "y_pred = [0, 1, 1, 0]\n",
    "y_true = [1, 0, 1, 1]\n",
    "# We have one true positive at position 2, and two false negative at positions 0 and 3\n",
    "assert(get_recall(y_pred, y_true) == (1 / (1 + 2)))"
   ]
  },
  {
   "cell_type": "markdown",
   "metadata": {},
   "source": [
    "and the last measure we want to implement is the fscore(also known as f1) which is calculated as:\n",
    "<br>$F = 2 * \\frac{precision*recall}{precision + recall}$\n",
    "<br> F score measure the relation between the precision and recall, the results vary between 0 and 1, but once it's equal 1 that means the relation is exact meaning the classifier is perfect. "
   ]
  },
  {
   "cell_type": "code",
   "execution_count": 9,
   "metadata": {
    "collapsed": true
   },
   "outputs": [],
   "source": [
    "## Calculates the f-score of the predicted labels\n",
    "def get_fscore(y_pred, y_true):\n",
    "    precision = get_precision(y_pred, y_true)\n",
    "    recall = get_recall(y_pred, y_true)\n",
    "    \n",
    "    # in case we might tr and divide by 0 \n",
    "    if(precision + recall) == 0:\n",
    "        return 0\n",
    "    \n",
    "    fscore = 2 * float(precision * recall) / float(precision + recall)\n",
    "    return fscore"
   ]
  },
  {
   "cell_type": "markdown",
   "metadata": {},
   "source": [
    "And making sure it works:"
   ]
  },
  {
   "cell_type": "code",
   "execution_count": 10,
   "metadata": {
    "collapsed": true
   },
   "outputs": [],
   "source": [
    "y_pred = [0, 1, 1, 0]\n",
    "y_true = [1, 0, 1, 1]\n",
    "# precision is 1/2, recall is 1/3\n",
    "assert(get_fscore(y_pred, y_true) == 2 * (((1 / 2) * (1 / 3)) / (1 / 2 + 1 / 3)))"
   ]
  },
  {
   "cell_type": "markdown",
   "metadata": {},
   "source": [
    "In order to be extra catious and make sure we didn't mess up we also want to compare our results to scikit results:"
   ]
  },
  {
   "cell_type": "code",
   "execution_count": 12,
   "metadata": {
    "collapsed": true
   },
   "outputs": [],
   "source": [
    "y_pred = [0, 1, 1, 0]\n",
    "y_true = [1, 0, 1, 1]\n",
    "precision = get_precision(y_pred, y_true)\n",
    "recall = get_recall(y_pred, y_true)\n",
    "fscore = get_fscore(y_pred, y_true)\n",
    "\n",
    "sk_precision = metrics.precision_score(y_true, y_pred)\n",
    "sk_recall = metrics.recall_score(y_true, y_pred)\n",
    "sk_fscore = metrics.f1_score(y_true, y_pred)\n",
    "\n",
    "assert(precision == sk_precision)\n",
    "assert(recall == sk_recall)\n",
    "assert(fscore == sk_fscore)"
   ]
  },
  {
   "cell_type": "markdown",
   "metadata": {},
   "source": [
    "For our own good we would also like to implement a function that prints out all the information given the two arrays:"
   ]
  },
  {
   "cell_type": "code",
   "execution_count": 13,
   "metadata": {
    "collapsed": true
   },
   "outputs": [],
   "source": [
    "def test_predictions(y_pred, y_true):\n",
    "    print(\"Precision:\", get_precision(y_pred, y_true))\n",
    "    print(\"Recall:\", get_recall(y_pred, y_true))\n",
    "    print(\"Fscore:\", get_fscore(y_pred, y_true))"
   ]
  },
  {
   "cell_type": "code",
   "execution_count": 15,
   "metadata": {},
   "outputs": [
    {
     "name": "stdout",
     "output_type": "stream",
     "text": [
      "Precision: 0.5\n",
      "Recall: 0.3333333333333333\n",
      "Fscore: 0.4\n"
     ]
    }
   ],
   "source": [
    "y_pred = [0, 1, 1, 0]\n",
    "y_true = [1, 0, 1, 1]\n",
    "test_predictions(y_pred, y_true)"
   ]
  },
  {
   "cell_type": "markdown",
   "metadata": {},
   "source": [
    "Now after implementing the functions, we can go on and implement actual classifiers. "
   ]
  },
  {
   "cell_type": "markdown",
   "metadata": {},
   "source": [
    "### Part 1.2 - Baselines"
   ]
  },
  {
   "cell_type": "markdown",
   "metadata": {},
   "source": [
    "#### Part 1.2.1 - All complex"
   ]
  },
  {
   "cell_type": "markdown",
   "metadata": {},
   "source": [
    "The first classifier we will implement is a very simple one that classifies all the words as complex no matter what they actually are."
   ]
  },
  {
   "cell_type": "code",
   "execution_count": 16,
   "metadata": {
    "collapsed": true
   },
   "outputs": [],
   "source": [
    "## Labels every word complex\n",
    "def all_complex(data_file):\n",
    "    words, actual_labels = load_file(data_file)\n",
    "    all_complex_labels = np.ones((len(words),), dtype=int)\n",
    "    precision = get_precision(all_complex_labels, actual_labels)\n",
    "    recall = get_recall(all_complex_labels, actual_labels)\n",
    "    fscore = get_fscore(all_complex_labels, actual_labels)\n",
    "    performance = [precision, recall, fscore]\n",
    "    return performance"
   ]
  },
  {
   "cell_type": "markdown",
   "metadata": {},
   "source": [
    "And we shall test it with each of the files:"
   ]
  },
  {
   "cell_type": "code",
   "execution_count": 17,
   "metadata": {},
   "outputs": [
    {
     "name": "stdout",
     "output_type": "stream",
     "text": [
      "Training Precision: 0.43275 \n",
      "Training Recall: 1.0 \n",
      "Training Fscore: 0.604083057058105\n"
     ]
    }
   ],
   "source": [
    "ac_tr_precision, ac_tr_recall, ac_tr_fscore = all_complex(training_file)\n",
    "print(\"Training Precision: {} \\nTraining Recall: {} \\nTraining Fscore: {}\".format(ac_tr_precision, ac_tr_recall, ac_tr_fscore))"
   ]
  },
  {
   "cell_type": "code",
   "execution_count": 18,
   "metadata": {},
   "outputs": [
    {
     "name": "stdout",
     "output_type": "stream",
     "text": [
      "Dev Precision: 0.418 \n",
      "Dev Recall: 1.0 \n",
      "Dev Fscore: 0.5895627644569816\n"
     ]
    }
   ],
   "source": [
    "ac_dv_precision, ac_dv_recall, ac_dv_fscore = all_complex(development_file)\n",
    "print(\"Dev Precision: {} \\nDev Recall: {} \\nDev Fscore: {}\".format(ac_dv_precision, ac_dv_recall, ac_dv_fscore))"
   ]
  },
  {
   "cell_type": "markdown",
   "metadata": {},
   "source": [
    "One can note how the recall of this model is always 1 - that makes sense because although it probably has a lot of false positives - it never \"miss\" in terms of false negtive because it always has an answer - complex. \n",
    "\n",
    "Another thing to note is that the Fscore is not that high - that's because the precision of this model is not that great, it actually mess up in more than half cases, which makes sense (assuming there aren't that many complex words in the dataset)."
   ]
  },
  {
   "cell_type": "markdown",
   "metadata": {},
   "source": [
    "#### Part 1.2.2 - word length"
   ]
  },
  {
   "cell_type": "markdown",
   "metadata": {},
   "source": [
    "The second baseline we will implement is a word length based one, which gives a positive value to a word if it's length goes past a certain threshold."
   ]
  },
  {
   "cell_type": "code",
   "execution_count": 19,
   "metadata": {
    "collapsed": true
   },
   "outputs": [],
   "source": [
    "### 1.2.2: Word length thresholding\n",
    "def word_length_baseline(data_file, threshold):\n",
    "    words, actual_labels = load_file(data_file)\n",
    "    threshold_labels = [(1 if(len(word) >= threshold) else 0) for word in words]\n",
    "    \n",
    "    precision = get_precision(threshold_labels, actual_labels)\n",
    "    recall = get_recall(threshold_labels, actual_labels)\n",
    "    fscore = get_fscore(threshold_labels, actual_labels)\n",
    "    preformance = [precision, recall, fscore]\n",
    "    return preformance"
   ]
  },
  {
   "cell_type": "markdown",
   "metadata": {},
   "source": [
    "We want to run this for both the training dataset and the development dataset for different threshold values in order to get a \"feel\" about how it behaves."
   ]
  },
  {
   "cell_type": "code",
   "execution_count": 20,
   "metadata": {
    "scrolled": true
   },
   "outputs": [
    {
     "data": {
      "image/png": "[encoded data removed]",
      "text/plain": [
       "<matplotlib.figure.Figure at 0x7fd72c7aac88>"
      ]
     },
     "metadata": {},
     "output_type": "display_data"
    }
   ],
   "source": [
    "precisions = np.zeros(15)\n",
    "recall = np.zeros(15)\n",
    "fscores = np.zeros(15)\n",
    "for i in range(15):\n",
    "    tprecision, trecall, tfscore = word_length_baseline(training_file, i)\n",
    "    precisions[i] = tprecision\n",
    "    recall[i] = trecall\n",
    "    fscores[i] = tfscore\n",
    "\n",
    "plt.figure(num=1, figsize=(10, 10))\n",
    "pr_plt = plt.subplot(2 ,1, 1, xlabel=\"recall\", ylabel=\"precision\", label=\"pr\")\n",
    "pr_plt.set_title(\"precision/recall\", y=1.08)\n",
    "pr_plt.plot(recall, precisions)\n",
    "\n",
    "fs_plt = plt.subplot(2 ,1, 2, xlabel=\"threshold\", ylabel=\"fscore\", label=\"fs\")\n",
    "fs_plt.set_title(\"fscore measure\", y=1.01)\n",
    "fs_plt.plot(range(15), fscores)\n",
    "plt.show()"
   ]
  },
  {
   "cell_type": "markdown",
   "metadata": {},
   "source": [
    "If we explore those plots we can see that once the recall is big the precision is small and vice versa, that makes a lot of sense considering precision and recall \n",
    "\n",
    "Another thing we can clearly see here is how the Fscore starts low, goes up, and then it starts deteriorating like a slope - this makes sense as well considering how if the length is really short it should behave like our previous result, and then it should better itself until we reach a certaing length from which words just don't really accure (for example, we don't know many reasonable words with a length greater than 20, so although those are for sure complex, the odds of them showing up in our text are pretty small...)"
   ]
  },
  {
   "cell_type": "markdown",
   "metadata": {},
   "source": [
    "So after we're done with our exploration we can go about building the \"ideal\" threshold classifier:"
   ]
  },
  {
   "cell_type": "code",
   "execution_count": 21,
   "metadata": {
    "collapsed": true
   },
   "outputs": [],
   "source": [
    "## Finds the best length threshold by f-score, and uses this threshold to\n",
    "## classify the training and development set\n",
    "def word_length_threshold(training_file, development_file):\n",
    "    best_tfscore = 0.0\n",
    "    best_i = 1\n",
    "    i = 1\n",
    "    while(True):\n",
    "        tprecision, trecall, tfscore = word_length_baseline(training_file, i)\n",
    "        if(tfscore < best_tfscore):\n",
    "            print(\"best threshold is: \", best_i)\n",
    "            break\n",
    "        else:\n",
    "            best_i = i\n",
    "            i += 1\n",
    "            best_tfscore = tfscore\n",
    "            \n",
    "    tprecision, trecall, tfscore = word_length_baseline(training_file, best_i)\n",
    "    dprecision, drecall, dfscore = word_length_baseline(development_file, best_i)\n",
    "    training_performance = [tprecision, trecall, tfscore]\n",
    "    development_performance = [dprecision, drecall, dfscore]\n",
    "    return training_performance, development_performance"
   ]
  },
  {
   "cell_type": "code",
   "execution_count": 22,
   "metadata": {},
   "outputs": [
    {
     "name": "stdout",
     "output_type": "stream",
     "text": [
      "best threshold is:  7\n",
      "Training Precision: 0.6007401315789473 \n",
      "Training Recall: 0.8440207972270364 \n",
      "Training Fscore: 0.7018976699495555\n",
      "\n",
      "Dev Precision: 0.6053511705685619 \n",
      "Dev Recall: 0.8660287081339713 \n",
      "Dev Fscore: 0.7125984251968505\n"
     ]
    }
   ],
   "source": [
    "wl_training_performance, wl_development_performance = word_length_threshold(training_file, development_file)\n",
    "wl_tr_precision, wl_tr_recall, wl_tr_fscore = wl_training_performance\n",
    "wl_dv_precision, wl_dv_recall, wl_dv_fscore = wl_development_performance\n",
    "print(\"Training Precision: {} \\nTraining Recall: {} \\nTraining Fscore: {}\\n\".format(wl_tr_precision, wl_tr_recall, wl_tr_fscore))\n",
    "print(\"Dev Precision: {} \\nDev Recall: {} \\nDev Fscore: {}\".format(wl_dv_precision, wl_dv_recall, wl_dv_fscore))"
   ]
  },
  {
   "cell_type": "markdown",
   "metadata": {},
   "source": [
    "If we look at the threshold to Fscore graph it somewhat fits what we would expect - words that are long (about 7 characters) are usually considered complexed therefore the classifier was right. If we set the threshold too low we'd get a lot of false positives, so the precision will be high, but we will get a bad recall, meaning our classifier is very insensitive and doesn't preform well. If we take a high threshold, not many words will pass it (considering what we discussed), so we will get a lot of false negatives(which will give us a bad ). "
   ]
  },
  {
   "cell_type": "markdown",
   "metadata": {},
   "source": [
    "#### Part 1.2.3 - Word Frequency "
   ]
  },
  {
   "cell_type": "markdown",
   "metadata": {},
   "source": [
    "We now want to implement a method that classifies based on the frequency of a given word in the language, for that we use Google Ngram Counts - so we first have to load it:"
   ]
  },
  {
   "cell_type": "code",
   "execution_count": 23,
   "metadata": {
    "collapsed": true
   },
   "outputs": [],
   "source": [
    "### 1.2.3: Word frequency thresholding\n",
    "\n",
    "## Loads Google NGram counts\n",
    "def load_ngram_counts(ngram_counts_file): \n",
    "    counts = defaultdict(int) \n",
    "    with gzip.open(ngram_counts_file, 'rt') as f: \n",
    "        for line in f:\n",
    "            token, count = line.strip().split('\\t') \n",
    "            if token[0].islower(): \n",
    "                counts[token] = int(count) \n",
    "    return counts\n",
    "\n",
    "ngram_path = abspath(join(dirname(\"__file__\"), \"data/ngram_counts.txt.gz\"))\n",
    "ngram_counts = load_ngram_counts(ngram_path)"
   ]
  },
  {
   "cell_type": "markdown",
   "metadata": {},
   "source": [
    "After loading it, we need to explore the ngrams and the text to see what is the range we need for our thresholding."
   ]
  },
  {
   "cell_type": "code",
   "execution_count": 24,
   "metadata": {},
   "outputs": [
    {
     "name": "stdout",
     "output_type": "stream",
     "text": [
      "maximal ('the', 47376829651) ('of', 30684794816) ('and', 22042266408) ('a', 14166008316) ('was', 5475451740)\n",
      "minimal ('zxxiz', 40) ('zvalking', 40) ('zuwiesen', 40) ('zurite', 40) ('zround', 40)\n"
     ]
    }
   ],
   "source": [
    "counter = collections.Counter(ngram_counts)\n",
    "most_common = counter.most_common(10)\n",
    "least_common = counter.most_common()[:-10-1:-1]\n",
    "print(\"maximal\", most_common[0], most_common[1], most_common[2], most_common[5], most_common[9])\n",
    "print(\"minimal\", least_common[0], least_common[1], least_common[2], least_common[5], least_common[9])"
   ]
  },
  {
   "cell_type": "markdown",
   "metadata": {},
   "source": [
    "But this might not be the case in our training document, so let's explore it as well:"
   ]
  },
  {
   "cell_type": "code",
   "execution_count": 26,
   "metadata": {},
   "outputs": [
    {
     "name": "stdout",
     "output_type": "stream",
     "text": [
      "max frequencies 47376829651 751979946 591878281 225568038\n",
      "mean 47031121\n",
      "above mean 828\n"
     ]
    }
   ],
   "source": [
    "words, actual_labels = load_file(training_file)\n",
    "counts = []\n",
    "for i in range(0, len(words)):\n",
    "    counts.append(ngram_counts[words[i]])\n",
    "sorted_co = np.sort(np.array(counts))\n",
    "print(\"max frequencies\", sorted_co[3999], sorted_co[3998], sorted_co[3990], sorted_co[3900])\n",
    "print(\"mean %d\" % np.mean(sorted_co))\n",
    "j = 3999\n",
    "mean = np.mean(sorted_co)\n",
    "while j > 0:\n",
    "    if(sorted_co[j] >= mean):\n",
    "        j -= 1\n",
    "    else:\n",
    "        break\n",
    "print(\"above mean\", 3999 - j)"
   ]
  },
  {
   "cell_type": "markdown",
   "metadata": {},
   "source": [
    "So we can see the maximal frequency is $47376829651$ and the minimal is $0-40$ , but the second best is not $30684794816$  like the word'of' so we're guessing 'of' is not part of the train set, and our dataset is not exactly filled with the most frequent words... Now we can use that info for thresholding for the ngrams, but in our training data it's usually around a much lower results, so we need to set a lower bound so we won't keep getting the same prediction all the time, so we went with an upper bout of 225568038 considering there are 100 other frequencies above it."
   ]
  },
  {
   "cell_type": "markdown",
   "metadata": {},
   "source": [
    "Let's write the code that implements this thresholding - if a word is below the threshold frequency it is labeled complexed, and otherwise simple."
   ]
  },
  {
   "cell_type": "code",
   "execution_count": 25,
   "metadata": {
    "collapsed": true
   },
   "outputs": [],
   "source": [
    "def word_frequency_baseline(data_file, counts, threshold):\n",
    "    words, actual_labels = load_file(data_file)\n",
    "    threshold_labels = [counts[word] < threshold for word in words]\n",
    "    precision = get_precision(threshold_labels, actual_labels)\n",
    "    recall = get_recall(threshold_labels, actual_labels)\n",
    "    fscore = get_fscore(threshold_labels, actual_labels)\n",
    "    preformance = [precision, recall, fscore]\n",
    "    return preformance"
   ]
  },
  {
   "cell_type": "markdown",
   "metadata": {},
   "source": [
    "Now we can test this method using different values for the threshold - We used a range of 40 random numbers between 40 to 225568038 (after examining the Google Ngrams Count and our file count) "
   ]
  },
  {
   "cell_type": "code",
   "execution_count": null,
   "metadata": {
    "collapsed": true
   },
   "outputs": [],
   "source": [
    "precisions = np.zeros(40)\n",
    "recall = np.zeros(40)\n",
    "fscores = np.zeros(40)\n",
    "thresholds = np.sort(np.random.randint(40, 225568038, size=40, dtype=int))\n",
    "print(\"thresholds:\", thresholds)\n",
    "for i in range(40):\n",
    "    tprecision, trecall, tfscore = word_frequency_baseline(training_file, ngram_counts, thresholds[i])\n",
    "    precisions[i] = tprecision\n",
    "    recall[i] = trecall\n",
    "    fscores[i]=tfscore\n",
    "\n",
    "    \n",
    "plt.figure(num=3, figsize=(10, 10))\n",
    "pr_plt = plt.subplot(2 ,1, 1, xlabel=\"recall\", ylabel=\"precision\", label=\"pr\")\n",
    "pr_plt.set_title(\"precision/recall\", y=1.08)\n",
    "pr_plt.plot(recall, precisions)\n",
    "\n",
    "fs_plt = plt.subplot(2 ,1, 2, xlabel=\"threshold\", ylabel=\"fscore\", label=\"fs\")\n",
    "fs_plt.set_title(\"fscore measure\", y=1.01)\n",
    "fs_plt.plot(thresholds, fscores)\n",
    "plt.show()"
   ]
  },
  {
   "cell_type": "markdown",
   "metadata": {},
   "source": [
    "We can see (and it makes sense) that the tresholds can vary the recall and precision - a higher recall will be when the threshold is high, and a lower one when it's low and the exact opposite happens with the precision. We do see once we set the threshold lower we get a better fscore - this might be because of the amount of true positives we'd get that way (increases the amount of true positives), if we set it very low it will just act as all positive(which we've seen earlier)."
   ]
  },
  {
   "cell_type": "code",
   "execution_count": null,
   "metadata": {
    "collapsed": true
   },
   "outputs": [],
   "source": [
    "# Finds the best frequency threshold by f-score, and uses this threshold to\n",
    "## classify the training and development set\n",
    "def word_frequency_threshold(training_file, development_file, counts):\n",
    "    best_tfscore = 0.0\n",
    "    best_threshold = 0\n",
    "    i = 1\n",
    "    thresholds = np.sort(np.random.randint(40, 225568038, size=30, dtype=int))\n",
    "    print(\"thresholds:\", thresholds)\n",
    "    for threshold in thresholds:\n",
    "        tprecision, trecall, tfscore = word_frequency_baseline(training_file, counts, threshold)\n",
    "        if(tfscore > best_tfscore):\n",
    "            best_tfscore = tfscore\n",
    "            best_threshold = threshold\n",
    "    \n",
    "    print(\"best threshold\", best_threshold)\n",
    "            \n",
    "    tprecision, trecall, tfscore = word_frequency_baseline(training_file, counts, best_threshold)\n",
    "    dprecision, drecall, dfscore = word_frequency_baseline(development_file, counts, best_threshold)\n",
    "    \n",
    "    training_performance = [tprecision, trecall, tfscore]\n",
    "    development_performance = [dprecision, drecall, dfscore]\n",
    "    return training_performance, development_performance"
   ]
  },
  {
   "cell_type": "code",
   "execution_count": null,
   "metadata": {
    "collapsed": true
   },
   "outputs": [],
   "source": [
    "wf_training_performance, wf_development_performance = word_frequency_threshold(training_file, development_file, ngram_counts)\n",
    "wf_tr_precision, wf_tr_recall, wf_tr_fscore = wf_training_performance\n",
    "wf_dv_precision, wf_dv_recall, wf_dv_fscore = wf_development_performance\n",
    "print(\"Training Precision: {} \\nTraining Recall: {} \\nTraining Fscore: {}\\n\".format(wf_tr_precision, wf_tr_recall, wf_tr_fscore))\n",
    "print(\"Dev Precision: {} \\nDev Recall: {} \\nDev Fscore: {}\".format(wf_dv_precision, wf_dv_recall, wf_dv_fscore))"
   ]
  },
  {
   "cell_type": "markdown",
   "metadata": {},
   "source": [
    "As we can see, this preforms worse than the previous classifier - that might be because although this logic (words that are frequent are usually easier) holds for the real world, it might not hold for our text, we did see the mean of the frequencies in this specific training set is around 47031121 , and there are only 828 words above that mean which is not that many, so there just aren't a lot of very high frequency words in our text."
   ]
  },
  {
   "cell_type": "markdown",
   "metadata": {},
   "source": [
    "### Part 1.3 - Classifiers"
   ]
  },
  {
   "cell_type": "markdown",
   "metadata": {},
   "source": [
    "#### Part 1.3.1 - Naive Bayes Classifier"
   ]
  },
  {
   "cell_type": "markdown",
   "metadata": {},
   "source": [
    "Now that we've tried different baselines and saw the results from them, that were not that great, it's time to do actual classification.\n",
    "<br>The method we are going to use is called Naive Bayes Classification."
   ]
  },
  {
   "cell_type": "markdown",
   "metadata": {},
   "source": [
    "We personally find that explaining this method via an example makes it a bit easier to grasp instead of just overloading people with probability formulas.\n",
    "<br>We shall use our example on the given problem considering it is most fitting, and afterwards we will implement the actual code."
   ]
  },
  {
   "cell_type": "markdown",
   "metadata": {},
   "source": [
    "We have our dataset which is composed of two types of labels - 0 for a simple word, and 1 for a complex word.\n",
    "Now lets assume (for the sake of the example, the actual dataset might act differently but we shall see later) someone told us the following - there is a 70% chance of a word being simple, and a 30% chance that a word is complexed.\n",
    "Another thing we are told is that the mean of the word length of the simple words is 4 and the mean of word length of the complex words is 7.\n",
    "<br>Now we got a new word, and it has a length of 3, what will we guess it's label is? Well, an educated guess will be to say there's a big chance it's a simple word..."
   ]
  },
  {
   "cell_type": "markdown",
   "metadata": {},
   "source": [
    "<br>__How did we assume that?__ We saw there is a high chance of being a simple word, and then we also saw the length of the word is 3 and usually shorter words are simple - so by likelihood the chances of our word being simple are pretty high.\n",
    "<br>The _Naive Bayes Classifier_ works pretty much just like that."
   ]
  },
  {
   "cell_type": "markdown",
   "metadata": {},
   "source": [
    "<br>__How exactly does it work?__\n",
    "<br> First thing to note is that the classifier assumes independence among features, this is not always true in real life (actually, it usually isn't...) but it simplifies the model - in our case it will assume there's no relation between the length of a word and it's frequency (although in reallity it's safe to assume a really long word won't be that frequent). \n",
    "Because of how wrong this assumption is, the classifier got the name _naive_."
   ]
  },
  {
   "cell_type": "markdown",
   "metadata": {},
   "source": [
    "What the classifier does is to find the probability of belonging to a class, given a set of features, in our case we can write it down as $P(simple | f_{length}, f_{freq})$"
   ]
  },
  {
   "cell_type": "markdown",
   "metadata": {},
   "source": [
    "Once we have that we can use the Bayse rule to get this probabilty:\n",
    "<br>$P(simple \\vert f_{length}, f_{freq}) = \\frac{P(simple) * P(f_{length}, f_{freq} \\vert simple)}{P(f_{length}, f_{freq})}$"
   ]
  },
  {
   "cell_type": "markdown",
   "metadata": {},
   "source": [
    "We already know $P(simple)=0.7$ and we don't need $P(f_{length}, f_{freq})$ to build a classifier, so all we are left to do is calculate $P(f_{length}, f_{freq} \\vert simple)$ . "
   ]
  },
  {
   "cell_type": "markdown",
   "metadata": {},
   "source": [
    "If we apply the conditional probability formula we will get:\n",
    "<br>$P(f_{length}, f_{freq} \\vert simple) = P(f_{length} \\vert simple) * P(f_{freq} \\vert simple, f_{length})$\n",
    "<br><br>Or in the general case (not our example) for $n$ features and a label $l$ we get:\n",
    "<br>$P(f_1, f_2, f_3, \\dots , f_n | l) = P(f_1 \\vert l) * P(f_2 \\vert l, f_1) * \\dots * P(f_n \\vert l, f_1, \\dots, f_{n-1})$"
   ]
  },
  {
   "cell_type": "markdown",
   "metadata": {},
   "source": [
    "One can note that if we had n features, this will require a lot of data because we will have to have data for each of these assumption, but we don't actually need it. Why? well, this is where the _naive_ part comes in handy - we assumed all features are independent, so what we actually get is:\n",
    "<br> $P(f_{length}, f_{freq} | simple) = P(f_{length} \\vert simple) * P(f_{freq} \\vert simple)$\n",
    "<br><br>Or in the general case:\n",
    "<br>$P(f_1, f_2, f_3, \\dots , f_n \\vert l) = \\prod{P(f_i|l)}$"
   ]
  },
  {
   "cell_type": "markdown",
   "metadata": {},
   "source": [
    "So now finally to classify a new vector of features we have to choose the label for it (simple 0 or complex 1), to do so all we have to do is:\n",
    "<br>\n",
    "$Classifier(f_{l'}, f_{f'}) = \\arg\\max_{s\\in{0, 1}}P(f_{l'}, f_{f'} \\vert s)$ \n",
    "<br><br>Or in the general case for $m$ labels and $n$ features:\n",
    "<br>\n",
    "$Classifier(f_{1},\\dots, f_{n}) = \\arg\\max_{s\\in{0,\\dots,m}}P(f_{1},\\dots, f_{n} \\vert s)$"
   ]
  },
  {
   "cell_type": "markdown",
   "metadata": {},
   "source": [
    "__implementation__\n",
    "<br>So now that we get the reasoning behind this method, we can go along and implement the classifier.\n",
    "<br>One last thing to note is that we were asked to use the Guassian based classifier, this classifier assumes the features follow a _normal_ distribution (meaning all the features falls on a normal curve)."
   ]
  },
  {
   "cell_type": "markdown",
   "metadata": {},
   "source": [
    "The following code results in the classifier (note the code comments for a step by step explenation):"
   ]
  },
  {
   "cell_type": "code",
   "execution_count": null,
   "metadata": {
    "collapsed": true
   },
   "outputs": [],
   "source": [
    "### 1.3.1: Naive Bayes\n",
    "        \n",
    "## Trains a Naive Bayes classifier using length and frequency features\n",
    "def naive_bayes(training_file, development_file, counts):\n",
    "    #import training dataset\n",
    "    t_words, t_labels = load_file(training_file)\n",
    "    t_features = {}\n",
    "    # get length features\n",
    "    t_features[\"length\"] = np.array([len(word) for word in t_words])\n",
    "    # get frequency features\n",
    "    t_features[\"frequency\"] = np.array([counts[word] for word in t_words])\n",
    "    # build features array\n",
    "    X_t_original = np.array([t_features[\"length\"], t_features[\"frequency\"]]).T\n",
    "    \n",
    "    # normalize features\n",
    "    t_mean = np.mean(X_t_original)\n",
    "    t_sd = np.std(X_t_original)\n",
    "    X_t_scaled = (X_t_original - t_mean)/t_sd\n",
    "    \n",
    "    # train the classifier\n",
    "    clf = GaussianNB()\n",
    "    clf.fit(X_t_scaled, t_labels)\n",
    "    \n",
    "    # extract features for development file\n",
    "    d_words, d_labels = load_file(development_file)\n",
    "    d_features = {}\n",
    "    # get length features\n",
    "    d_features[\"length\"] = np.array([len(word) for word in d_words])\n",
    "    # get frequency features\n",
    "    d_features[\"frequency\"] = np.array([counts[word] for word in d_words])\n",
    "    # build features array\n",
    "    X_d_original = np.array([d_features[\"length\"], d_features[\"frequency\"]]).T\n",
    "    \n",
    "    # normalize development features - note how we use the training mean and sd\n",
    "    X_d_scaled = (X_d_original - t_mean)/t_sd\n",
    "    \n",
    "    dev_pred = clf.predict(X_d_scaled)\n",
    "    train_pred = clf.predict(X_t_scaled)\n",
    "    \n",
    "    tprecision = get_precision(train_pred, t_labels)\n",
    "    trecall = get_recall(train_pred, t_labels)\n",
    "    tfscore = get_fscore(train_pred, t_labels)\n",
    "    \n",
    "    dprecision = get_precision(dev_pred, d_labels)\n",
    "    drecall = get_recall(dev_pred, d_labels)\n",
    "    dfscore = get_fscore(dev_pred, d_labels)\n",
    "    \n",
    "    training_performance = [tprecision, trecall, tfscore]\n",
    "    development_performance = [dprecision, drecall, dfscore]\n",
    "    return training_performance, development_performance"
   ]
  },
  {
   "cell_type": "code",
   "execution_count": null,
   "metadata": {
    "collapsed": true
   },
   "outputs": [],
   "source": [
    "nb_training_performance, nb_development_performance = naive_bayes(training_file, development_file, ngram_counts)\n",
    "nb_tr_precision, nb_tr_recall, nb_tr_fscore = nb_training_performance\n",
    "nb_dv_precision, nb_dv_recall, nb_dv_fscore = nb_development_performance\n",
    "print(\"Training Precision: {} \\nTraining Recall: {} \\nTraining Fscore: {}\\n\".format(nb_tr_precision, nb_tr_recall, nb_tr_fscore))\n",
    "print(\"Dev Precision: {} \\nDev Recall: {} \\nDev Fscore: {}\".format(nb_dv_precision, nb_dv_recall, nb_dv_fscore))"
   ]
  },
  {
   "cell_type": "markdown",
   "metadata": {},
   "source": [
    "if we look at the fscore measure in each of the methods we get:"
   ]
  },
  {
   "cell_type": "code",
   "execution_count": null,
   "metadata": {
    "collapsed": true
   },
   "outputs": [],
   "source": [
    "plt.figure(num=5, figsize=(10, 10))\n",
    "types = [\"all complex\", \"word length\",\"word frequency\", \"naive bayse\"]\n",
    "f_scores_tr = [ac_tr_fscore, wl_tr_fscore, wf_tr_fscore, nb_tr_fscore]\n",
    "f_scores_dv = [ac_dv_fscore, wl_dv_fscore, wf_dv_fscore, nb_dv_fscore]\n",
    "bar_colors = ['b', 'g', 'r', 'c']\n",
    "ax_tr = plt.subplot(211)\n",
    "rectangles_tr = plt.bar(range(len(types)), f_scores_tr, width=0.5,\n",
    "                     color=bar_colors)\n",
    "ax_tr.set_xticks(np.linspace(0, len(types) - 1, len(types)))\n",
    "ax_tr.set_xticklabels(types, fontsize=10)\n",
    "ax_tr.set_ylabel('fscore (s)')\n",
    "ax_tr.set_title('Training set Fscore', y=1.08)\n",
    "\n",
    "ax_dv = plt.subplot(212)\n",
    "rectangles_dv = plt.bar(range(len(types)), f_scores_dv, width=0.5,\n",
    "                     color=bar_colors)\n",
    "ax_dv.set_xticks(np.linspace(0, len(types) - 1, len(types)))\n",
    "ax_dv.set_xticklabels(types, fontsize=10)\n",
    "ax_dv.set_ylabel('fscore (s)')\n",
    "ax_dv.set_title('Development set Fscore', y=1.08)\n",
    "\n",
    "\n",
    "def autolabel(ax, rectangles):\n",
    "    \"\"\"attach some text vi autolabel on rectangles.\"\"\"\n",
    "    for rect in rectangles:\n",
    "        height = rect.get_height()\n",
    "        ax.text(rect.get_x() + rect.get_width() / 2.,\n",
    "                1.05 * height, '%.4f' % height,\n",
    "                ha='center', va='bottom')\n",
    "        plt.setp(plt.xticks()[1], rotation=30)\n",
    "\n",
    "\n",
    "autolabel(ax_tr, rectangles_tr)\n",
    "autolabel(ax_dv, rectangles_dv)\n",
    "plt.tight_layout()\n",
    "plt.show()"
   ]
  },
  {
   "cell_type": "markdown",
   "metadata": {},
   "source": [
    "As we can see, Naive Bayse does not preform best out of all the classifiers. This might be because of our independence assumption which is really wrong (usually there is a relation between word frequencies and lengths), or because we just didn't choose the right features to work by (as we previously seen, choosing word frequencies as a feature does not preform the best on our dataset). \n",
    "\n",
    "As we can see word length preforms the best, that might be because there is actually a really reasonable correlation between the length of a word and how complexed it is, regardless of the dataset."
   ]
  },
  {
   "cell_type": "markdown",
   "metadata": {},
   "source": [
    "### Part 1.4 - ambiguity"
   ]
  },
  {
   "cell_type": "markdown",
   "metadata": {},
   "source": [
    "In some cases the way a words is classified is based on it's context, meaning sometimes a word can be classified as a simple word and sometimes as a difficult word, all because of the context it appeared in. \n",
    "\n",
    "We would like to show an example for that - in order to do so, we will find two instances of the same word labeled differently in the training set (the code can easily be adapted to any other set, we chose the training one because it made more sense), then we will explore the context trying to infere why they were tagged differently. "
   ]
  },
  {
   "cell_type": "markdown",
   "metadata": {},
   "source": [
    "The first thing we'd like to do is to load the context as well as the words, so we can show how it modifies the classification. In order to do so we need to change the file loading code a bit:"
   ]
  },
  {
   "cell_type": "code",
   "execution_count": null,
   "metadata": {
    "collapsed": true
   },
   "outputs": [],
   "source": [
    "def load_file_with_context(data_file):\n",
    "    words = []\n",
    "    labels = []   \n",
    "    contexts = []\n",
    "    with open(data_file, 'rt', encoding=\"utf8\") as f:\n",
    "        i = 0\n",
    "        for line in f:\n",
    "            if i > 0:\n",
    "                line_split = line[:-1].split(\"\\t\")\n",
    "                words.append(line_split[0].lower())\n",
    "                labels.append(int(line_split[1]))\n",
    "                contexts.append(line_split[3])\n",
    "            i += 1\n",
    "    return words, labels, contexts"
   ]
  },
  {
   "cell_type": "markdown",
   "metadata": {},
   "source": [
    "And using the code one the training data we get"
   ]
  },
  {
   "cell_type": "code",
   "execution_count": null,
   "metadata": {
    "collapsed": true
   },
   "outputs": [],
   "source": [
    "words, labels, contexts = load_file_with_context(training_file)\n",
    "print(words[0],labels[0],contexts[0])"
   ]
  },
  {
   "cell_type": "markdown",
   "metadata": {},
   "source": [
    "Now what we need to do is find a words with multiple instances that differ in how it's labeled. \n",
    "<br>To do so we will find for each word all it's instances in the words list, and then for words with mulitple labels we will look into the labels to see if they differ, if so we will check the context in which they appear to get a better grasp on why the context matter."
   ]
  },
  {
   "cell_type": "code",
   "execution_count": null,
   "metadata": {
    "collapsed": true
   },
   "outputs": [],
   "source": [
    "def find_context_sensitive_words(words, labels, contexts):\n",
    "    words = np.array(words)\n",
    "    differences = []\n",
    "    for word in words:\n",
    "        ii = np.where(words == word)[0]\n",
    "        if(len(ii) > 1):\n",
    "            diff = [(i, j) for i in ii for j in ii if(not labels[i] == labels[j])]\n",
    "            if(len(diff) > 0):\n",
    "                # We only have to iterate it half way because the other half is a mirror of the first\n",
    "                for i in range(int(len(diff)/2)):\n",
    "                    differences.append((words[diff[i][0]], diff[i][0], diff[i][1]))\n",
    "    return differences"
   ]
  },
  {
   "cell_type": "code",
   "execution_count": null,
   "metadata": {
    "collapsed": true
   },
   "outputs": [],
   "source": [
    "ambiguity = find_context_sensitive_words(words, labels, contexts)"
   ]
  },
  {
   "cell_type": "markdown",
   "metadata": {},
   "source": [
    "And we can show all these words:"
   ]
  },
  {
   "cell_type": "code",
   "execution_count": null,
   "metadata": {
    "collapsed": true
   },
   "outputs": [],
   "source": [
    "for couple in ambiguity:\n",
    "    word, index_a, index_b = couple\n",
    "    print(\"Word:\", word)\n",
    "    print(\"Labeled as {} in index {} and as {} in index {}\".format(labels[index_a], index_a, labels[index_b], index_b))\n",
    "    print(\"First context:\\n\", contexts[index_a], \"\\n\")\n",
    "    print( \"Second context:\\n\", contexts[index_b], \"\\n\")"
   ]
  },
  {
   "cell_type": "markdown",
   "metadata": {},
   "source": [
    "When looking at some of the words one can see how and why they were labeled differently:\n",
    "- If we look at the word _sprouts_ it appears in two contexts - firstly as a name of a place \"Sprouts Farmer\" which makes it a very easy identification, but then as a 'sprinkle of sprouts' which is much more complexed (especially if like us you're not a native English speaker and had to google 'sprouts')\n",
    "- If we look at the word _element_ , seemengly a simple word, it can come as an actual element like in the first context(\"the heaviest element\") but it can also appear in as a slang word - \"in his element\" like in the second context, which complicate things. "
   ]
  },
  {
   "cell_type": "markdown",
   "metadata": {},
   "source": [
    "## Part 2"
   ]
  },
  {
   "cell_type": "markdown",
   "metadata": {},
   "source": [
    "### Part 2.1"
   ]
  },
  {
   "cell_type": "markdown",
   "metadata": {},
   "source": [
    "___Remark___ : We did now want to load the entire notebook as part of our notebook because that will just be overloading on our notebook, but we do want to touch upon required information so we imported the methods we need from the original notebook and implemented methods to fit the requirements of our question."
   ]
  },
  {
   "cell_type": "markdown",
   "metadata": {},
   "source": [
    "The first thing we want to do is to explore the dataset they used for the classifiers implementation. In order to do that we will first have to load the dataset(note that we used the code they implemented to do so, but we modified it for our need)"
   ]
  },
  {
   "cell_type": "code",
   "execution_count": null,
   "metadata": {
    "collapsed": true
   },
   "outputs": [],
   "source": [
    "class ReutersParser(html_parser.HTMLParser):\n",
    "    \"\"\"Utility class to parse a SGML file and yield documents one at a time.\"\"\"\n",
    "\n",
    "    def __init__(self, encoding='latin-1'):\n",
    "        html_parser.HTMLParser.__init__(self)\n",
    "        self._reset()\n",
    "        self.encoding = encoding\n",
    "\n",
    "    def handle_starttag(self, tag, attrs):\n",
    "        method = 'start_' + tag\n",
    "        getattr(self, method, lambda x: None)(attrs)\n",
    "\n",
    "    def handle_endtag(self, tag):\n",
    "        method = 'end_' + tag\n",
    "        getattr(self, method, lambda: None)()\n",
    "\n",
    "    def _reset(self):\n",
    "        self.in_title = 0\n",
    "        self.in_body = 0\n",
    "        self.in_topics = 0\n",
    "        self.in_topic_d = 0\n",
    "        self.title = \"\"\n",
    "        self.body = \"\"\n",
    "        self.topics = []\n",
    "        self.topic_d = \"\"\n",
    "\n",
    "    def parse(self, fd):\n",
    "        self.docs = []\n",
    "        for chunk in fd:\n",
    "            self.feed(chunk.decode(self.encoding))\n",
    "            for doc in self.docs:\n",
    "                yield doc\n",
    "            self.docs = []\n",
    "        self.close()\n",
    "\n",
    "    def handle_data(self, data):\n",
    "        if self.in_body:\n",
    "            self.body += data\n",
    "        elif self.in_title:\n",
    "            self.title += data\n",
    "        elif self.in_topic_d:\n",
    "            self.topic_d += data\n",
    "\n",
    "    def start_reuters(self, attributes):\n",
    "        pass\n",
    "\n",
    "    def end_reuters(self):\n",
    "        self.body = re.sub(r'\\s+', r' ', self.body)\n",
    "        self.docs.append({'title': self.title,\n",
    "                          'body': self.body,\n",
    "                          'topics': self.topics})\n",
    "        self._reset()\n",
    "\n",
    "    def start_title(self, attributes):\n",
    "        self.in_title = 1\n",
    "\n",
    "    def end_title(self):\n",
    "        self.in_title = 0\n",
    "\n",
    "    def start_body(self, attributes):\n",
    "        self.in_body = 1\n",
    "\n",
    "    def end_body(self):\n",
    "        self.in_body = 0\n",
    "\n",
    "    def start_topics(self, attributes):\n",
    "        self.in_topics = 1\n",
    "\n",
    "    def end_topics(self):\n",
    "        self.in_topics = 0\n",
    "\n",
    "    def start_d(self, attributes):\n",
    "        self.in_topic_d = 1\n",
    "\n",
    "    def end_d(self):\n",
    "        self.in_topic_d = 0\n",
    "        self.topics.append(self.topic_d)\n",
    "        self.topic_d = \"\"\n",
    "\n",
    "\n",
    "def stream_reuters_documents(data_path=None):\n",
    "    DOWNLOAD_URL = ('http://archive.ics.uci.edu/ml/machine-learning-databases/'\n",
    "                        'reuters21578-mld/reuters21578.tar.gz')\n",
    "    ARCHIVE_FILENAME = 'reuters21578.tar.gz'\n",
    "    data_path = os.path.join(get_data_home(), \"reuters\")\n",
    "    if not os.path.exists(data_path):\n",
    "        \"\"\"Download the dataset.\"\"\"\n",
    "        print(\"downloading dataset (once and for all) into %s\" %\n",
    "              data_path)\n",
    "        os.mkdir(data_path)\n",
    "\n",
    "        def progress(blocknum, bs, size):\n",
    "            total_sz_mb = '%.2f MB' % (size / 1e6)\n",
    "            current_sz_mb = '%.2f MB' % ((blocknum * bs) / 1e6)\n",
    "            if _not_in_sphinx():\n",
    "                sys.stdout.write(\n",
    "                    '\\rdownloaded %s / %s' % (current_sz_mb, total_sz_mb))\n",
    "\n",
    "        archive_path = os.path.join(data_path, ARCHIVE_FILENAME)\n",
    "        urlretrieve(DOWNLOAD_URL, filename=archive_path,\n",
    "                    reporthook=progress)\n",
    "\n",
    "        print(\"untarring Reuters dataset...\")\n",
    "        tarfile.open(archive_path, 'r:gz').extractall(data_path)\n",
    "        print(\"done.\")\n",
    "          \n",
    "    parser = ReutersParser()\n",
    "    doc_counter = 0\n",
    "    docs = {\n",
    "        'title_index': [],\n",
    "        'title': [],\n",
    "        'body': [],\n",
    "        'topic': []\n",
    "    }\n",
    "    for filename in glob(os.path.join(data_path, \"*.sgm\")):\n",
    "        for doc in parser.parse(open(filename, 'rb')):\n",
    "            if(doc['topics']):\n",
    "                for topic in doc['topics']:\n",
    "                    docs['title_index'].append(doc_counter)\n",
    "                    docs['title'].append(doc['title'])\n",
    "                    docs['body'].append(doc['body'])\n",
    "                    docs['topic'].append(topic)\n",
    "            else:\n",
    "                docs['title_index'].append(doc_counter)\n",
    "                docs['title'].append(doc['title'])\n",
    "                docs['body'].append(doc['body'])\n",
    "                docs['topic'].append(None)\n",
    "            doc_counter += 1\n",
    "    return docs"
   ]
  },
  {
   "cell_type": "markdown",
   "metadata": {},
   "source": [
    "What we did is to modify the downloader function to return a dictionary of the form 'title','body', 'topic' which we then can feed into the Pandas dataframe module and explore it.\n",
    "Note how we arranged it by topics so it will be easier to handle for our needs. "
   ]
  },
  {
   "cell_type": "code",
   "execution_count": null,
   "metadata": {
    "collapsed": true
   },
   "outputs": [],
   "source": [
    "data_stream = stream_reuters_documents()"
   ]
  },
  {
   "cell_type": "code",
   "execution_count": null,
   "metadata": {
    "collapsed": true
   },
   "outputs": [],
   "source": [
    "df = pd.DataFrame(data=data_stream)\n",
    "print(\"there are {} topics in the dataset\".format(df.topic.nunique()))\n",
    "print(\"and {} unique titles\".format(df.title.nunique()))\n",
    "print(\"there are {} documents in the dataset\".format(df.title_index.nunique()))"
   ]
  },
  {
   "cell_type": "markdown",
   "metadata": {},
   "source": [
    "Now for each of the topics we can get the count, mean, max index, std, and so on:"
   ]
  },
  {
   "cell_type": "code",
   "execution_count": null,
   "metadata": {
    "collapsed": true
   },
   "outputs": [],
   "source": [
    "print(df.groupby('topic').describe())"
   ]
  },
  {
   "cell_type": "markdown",
   "metadata": {},
   "source": [
    "After exploring the dataset in terms of the documents it contains and the topics they are about, we want to explore the dataset content in terms of words."
   ]
  },
  {
   "cell_type": "code",
   "execution_count": null,
   "metadata": {
    "collapsed": true
   },
   "outputs": [],
   "source": [
    "def report_vocab_statistics(dataframe):    \n",
    "    print(\"statistics about the characters in each of the document's body:\\n\")\n",
    "    print(dataframe['body_length_chars'].describe(), \"\\n\")\n",
    "    \n",
    "    print(\"statistics about the words in each of the document's body:\\n\")    \n",
    "    print(dataframe['body_length_words'].describe(), \"\\n\")\n",
    "    \n",
    "    print(\"total amount of words in all the documents(body): {}\\n\".format(dataframe['body_length_words'].sum()))\n",
    "    print(\"total amount of characters in all the documents(body): {}\\n\".format(dataframe['body_length_chars'].sum()))    "
   ]
  },
  {
   "cell_type": "code",
   "execution_count": null,
   "metadata": {
    "collapsed": true
   },
   "outputs": [],
   "source": [
    "#we first want to modify the dataframe to have all the required fields for the statistics\n",
    "mod = df.drop(['topic'], axis=1)\n",
    "mod = mod.drop_duplicates(subset=['title_index'], keep='first')\n",
    "mod['body_length_chars'] = mod['body'].map(lambda x: len(x))\n",
    "mod['body_length_words'] = mod['body'].map(lambda x: len(word_tokenize(x)))    "
   ]
  },
  {
   "cell_type": "code",
   "execution_count": null,
   "metadata": {
    "collapsed": true
   },
   "outputs": [],
   "source": [
    "report_vocab_statistics(mod)"
   ]
  },
  {
   "cell_type": "markdown",
   "metadata": {},
   "source": [
    "After reporting and gathering all the information regarding the dataset, it is time for us to start analyzing the code and what's going on in it."
   ]
  },
  {
   "cell_type": "markdown",
   "metadata": {},
   "source": [
    "The main principle the author of the code is trying to show is the idea of 'out of core' learning."
   ]
  },
  {
   "cell_type": "markdown",
   "metadata": {},
   "source": [
    "__What is out of core learning?__ \n",
    "<br>Sometimes, especially when dealing with text documents, the dataset we get to work with is much greater than the actual RAM we have on a decent computer, so we wouldn't want to load all of it in one go (that will just result in our computer slowing down until it can't go on...)"
   ]
  },
  {
   "cell_type": "markdown",
   "metadata": {},
   "source": [
    "The idea of out of core learning is this - we will load a certain amount of data each time and learn from it (batches), so generally speaking, most of our learning is done from things we don't hold in our memory anymore (therfore out of core)."
   ]
  },
  {
   "cell_type": "markdown",
   "metadata": {},
   "source": [
    "To do so, Scikit-learn implemented an API called \"partial_fit\" - a classifier that implements a partial fit works as follows: \n",
    "<br>The classifier will see a batch and then will incremently update whatever it is learning based on that batch, that way whenever a new batch arrives it learns what it needs from it and \"throws it away\" instead of holding it in memory or trying to learn everything in one go. "
   ]
  },
  {
   "cell_type": "markdown",
   "metadata": {},
   "source": [
    "For example, as we've seen just now the dataset we work with has over $2000000$ words, that is a very large dataset to work with in one batch (for example, in the last assignment we only had $978726$ and that took a while to process as well...), \n",
    "so to try and infere information from it, let alone actual learning, is a nearly impossible task if you use a regular computer. What we should do instead is 'chunk' the dataset (in the notebook they used a 1000 documents each time, and considering there are $21578$ documents, it means $\\frac{2854659}{21578} = 132.3$ (approx) words per document, so we only work with $132300$ words each time which is much more reasonable."
   ]
  },
  {
   "cell_type": "markdown",
   "metadata": {},
   "source": [
    "The formal name for the learning process we just discussed is called _online setting_ - lets farther explain it (we'll focus on classification, but there are also online settings for regression problems).\n",
    "<br>On each round we receive an instance $x_t$ and extend a prediction using our current hypothesis $w_t$(we estimate weights). \n",
    "We then receive the true target $y_t$ and suffer an instantaneous loss based on the discrepancy between $y_t$ and our prediction.\n",
    "<br>Our goal is to make the cumulative loss that we suffer small.\n",
    "Finally, we update the hypothesis according to the previous hypothesis and the current example.\n"
   ]
  },
  {
   "cell_type": "markdown",
   "metadata": {},
   "source": [
    "Even more formally - we can describe this using math as follows:"
   ]
  },
  {
   "cell_type": "markdown",
   "metadata": {},
   "source": [
    "- Given $x_t \\in R^n$ , we predict $sign(w_t * x_t)$\n",
    "- We get the true target and suffer loss - $\\max({\\epsilon - y_{t}w_{t}*x_{t}})$\n",
    "- We update the hypothesis - $w_{t+1} = g(w_t, z_t)$\n",
    "\n",
    "Usually in classification $z_t$ is set to be the distance between our results and the true prediction. "
   ]
  },
  {
   "cell_type": "markdown",
   "metadata": {},
   "source": [
    "The code they implemented test and compare a few classifiers that implement a partial fit:"
   ]
  },
  {
   "cell_type": "markdown",
   "metadata": {},
   "source": [
    "-  ___SGD___ - SGD stands for Stochastic Gradient Descent. This methood is really similar to the Gradient Desecent method we discussed in class, only this time it is stochastics, meaning the samples are selected randomly. Each sample at a time the gradient of the loss is estimated and the model is updated with a learning rate. Just like regular gradient descent we optimize $w$ by minimizing the loss function. In the begining we choose an initial guess for $w$ and a learning rate $\\eta$, we then randomly shuffle the examples in the training set, and then for each sample we update $w$ to be  $w = w - \\eta \\nabla Q_i(w)$ , we keep doing so until the algorithm converge. \n",
    "\n",
    "-  ___Perceptron___ - this is an algorithm for supervised learning of a binary classifier (a classifier which determines if an inputed represented by a vector of numbers fits a class or doesn't). the algorithm is based on a linear-predictor function, which is a function of the form $g(x) = wx + b$ where $x$ is our input, $w$ is a set of weights, and $b$ is the bias. what the perceptron does if to return $1$ if $g(x) > 0$ and $0$ otherwise. The algorithm learns the set of weights(tunes the weights) based on the training data, and then once it has them and it gets a vector x from the test data it feeds it to the function $g$ with the learned weights.\n",
    "\n",
    "-  ___NB Multinomial___ - Naive Bayes Multinomial Classifier is a Naive Bayes Classifier (see Part 1 of the assignment for  explenation) for multinomial models, that means that the feature vectors represent the frequencies with which certain events have been generated by a multinomial with probabilities $p_1, \\dots, p_n$ such that $p_i$ is the probability that event $i$ occures. A feature vector in this model is therefor a histogram with $x_i$ counting the number of times event i was observed in a particular instance. In document classification this  classifier is usually used with events representing the occurrence of a word in a single document (aka bag-of-words). \n",
    "\n",
    "-  ___Passive-Aggressive___ - this type of classifier uses a measure called _hinge-loss_ in it's training process. The hinge loss is defined as \n",
    "<br>$\\ell(w; (x,y)) = \\max(0, \\delta(w,(x,y))-\\epsilon)$\n",
    "<br> where $\\delta(w,(x,y))$ is the distance between $y$ and $xw$ : $\\delta(w,(x,y)) = |y_t-(x_{t}w_{t}|$\n",
    "<br> and $\\epsilon$ is the insensitivity parameter.\n",
    "<br> The algorithm goal is to make the hinge loss as small as possible at each round.\n",
    "<br> On each round of the algorithm we update the weights based on -\n",
    "<br> $w_{t+1} = \\arg\\min_{w \\in R^n} \\frac{||w-w_t||^2}{2} \\\\ s.t \\\\ \\ell(w; (x_t,y_t)) = 0$\n",
    "<br> Which is basically a projection of $w_t$ on the space of vectors that has a 0 loss.\n",
    "<br> This algorithm is _passive_ when the hinge loss is 0, because then we get $w_{t+1} = w_t$, but it's _aggressive_ when that's not the case, because when it's not 0 it aggressively forces $\\ell(w_{t+1}; (x_t,y_t)) = 0$"
   ]
  },
  {
   "cell_type": "markdown",
   "metadata": {},
   "source": [
    "After explaining each of the Algorithms we only have one thing to address - the _hashing-vectorized_.\n",
    "<br>The method converts a collection of documents into a matrix of token occurences, and it uses scipy sparse matrix (which means that, considering this probably is a very sparse matrix, all the values that are assigned 0 are not kept in memory). The idea in this implementation is to use hashing to find the token string name to feature integer index mapping.\n",
    "<br>We need to use this method here for a few reasons:\n",
    "- It is very low in memory, we don't need to store an entire dictionary in memory. \n",
    "- There is no state computed during fit (in partial fit). \n",
    "- It holds no state besides the constructor parameters. \n",
    "\n",
    "As we note in the code, they used this method with $n_{features} = 2^{18}$, that is because if they don't do so, there might be collisions (different tokens mapped to same place)."
   ]
  },
  {
   "cell_type": "markdown",
   "metadata": {},
   "source": [
    "### Part 2.2"
   ]
  },
  {
   "cell_type": "markdown",
   "metadata": {},
   "source": [
    "In this question, we'll be looking into the task of classifying emails and SMS messages as 'spam' and 'ham' ('ham' being the opposite of spam - good, meaningful messages). We'll be looking and answering questions about pre-written code. The first part of the code loads the data:"
   ]
  },
  {
   "cell_type": "code",
   "execution_count": null,
   "metadata": {
    "collapsed": true
   },
   "outputs": [],
   "source": [
    "def progress(i, end_val, bar_length=50):\n",
    "    '''\n",
    "    Print a progress bar of the form: Percent: [#####      ]\n",
    "    i is the current progress value expected in a range [0..end_val]\n",
    "    bar_length is the width of the progress bar on the screen.\n",
    "    '''\n",
    "    percent = float(i) / end_val\n",
    "    hashes = '#' * int(round(percent * bar_length))\n",
    "    spaces = ' ' * (bar_length - len(hashes))\n",
    "    sys.stdout.write(\"\\rPercent: [{0}] {1}%\".format(hashes + spaces, int(round(percent * 100))))\n",
    "    sys.stdout.flush()\n",
    "\n",
    "NEWLINE = '\\n'\n",
    "HAM = 'ham'\n",
    "SPAM = 'spam'\n",
    "\n",
    "SOURCES = [\n",
    "    ('data/spam',        SPAM),\n",
    "    ('data/easy_ham',    HAM),\n",
    "    ('data/hard_ham',    HAM),\n",
    "    ('data/beck-s',      HAM),\n",
    "    ('data/farmer-d',    HAM),\n",
    "    ('data/kaminski-v',  HAM),\n",
    "    ('data/kitchen-l',   HAM),\n",
    "    ('data/lokay-m',     HAM),\n",
    "    ('data/williams-w3', HAM),\n",
    "    ('data/BG',          SPAM),\n",
    "    ('data/GP',          SPAM),\n",
    "    ('data/SH',          SPAM)\n",
    "]\n",
    "\n",
    "SKIP_FILES = {'cmds'}\n",
    "\n",
    "\n",
    "def read_files(path):\n",
    "    '''\n",
    "    Generator of pairs (filename, filecontent)\n",
    "    for all files below path whose name is not in SKIP_FILES.\n",
    "    The content of the file is of the form:\n",
    "        header....\n",
    "        <emptyline>\n",
    "        body...\n",
    "    This skips the headers and returns body only.\n",
    "    '''\n",
    "    for root, dir_names, file_names in os.walk(path):\n",
    "        for path in dir_names:\n",
    "            read_files(os.path.join(root, path))\n",
    "        for file_name in file_names:\n",
    "            if file_name not in SKIP_FILES:\n",
    "                file_path = os.path.join(root, file_name)\n",
    "                if os.path.isfile(file_path):\n",
    "                    past_header, lines = False, []\n",
    "                    f = open(file_path, encoding=\"latin-1\")\n",
    "                    for line in f:\n",
    "                        if past_header:\n",
    "                            lines.append(line)\n",
    "                        elif line == NEWLINE:\n",
    "                            past_header = True\n",
    "                    f.close()\n",
    "                    content = NEWLINE.join(lines)\n",
    "                    yield file_path, content\n",
    "\n",
    "\n",
    "def build_data_frame(l, path, classification):\n",
    "    rows = []\n",
    "    index = []\n",
    "    for i, (file_name, text) in enumerate(read_files(path)):\n",
    "        if ((i + l) % 100 == 0):\n",
    "            progress(i + l, 58910, 50)\n",
    "        rows.append({'text': text, 'class': classification})\n",
    "        index.append(file_name)\n",
    "   \n",
    "    data_frame = DataFrame(rows, index=index)\n",
    "    return data_frame, len(rows)\n",
    "\n",
    "def load_data():\n",
    "    data = DataFrame({'text': [], 'class': []})\n",
    "    l = 0\n",
    "    for path, classification in SOURCES:\n",
    "        data_frame, nrows = build_data_frame(l, path, classification)\n",
    "        data = data.append(data_frame)\n",
    "        l += nrows\n",
    "    data = data.reindex(np.random.permutation(data.index))\n",
    "    return data\n",
    "\n",
    "data = load_data()"
   ]
  },
  {
   "cell_type": "markdown",
   "metadata": {},
   "source": [
    "It's a fancy code, but the imporant thing about it is the data structure: a pandas dataframe in size (D,2) - D being the number of **documents** in the collection. For each document, there are two columns: text (the actual text of the document) and class (classification as ham/spam).\n",
    "\n",
    "This is the training code (no need to run it yet, just understand how it works):"
   ]
  },
  {
   "cell_type": "code",
   "execution_count": null,
   "metadata": {
    "collapsed": true
   },
   "outputs": [],
   "source": [
    "def build_pipeline():\n",
    "    pipeline = Pipeline([\n",
    "        ('count_vectorizer',   CountVectorizer(ngram_range=(1, 2))),\n",
    "        ('classifier',         MultinomialNB())\n",
    "    ])\n",
    "    return pipeline\n",
    "\n",
    "def train(data = None, n_folds = 6):\n",
    "    if data is None:\n",
    "        print(\"Loading data...\")\n",
    "        data = load_data()\n",
    "        print(\"Data loaded\")\n",
    "    k_fold = KFold(n_splits = n_folds)\n",
    "    pipeline = build_pipeline()\n",
    "    scores = []\n",
    "    confusion = numpy.array([[0, 0], [0, 0]])\n",
    "    print(\"Training with %d folds\" % n_folds)\n",
    "    for i, (train_indices, test_indices) in enumerate(k_fold.split(data)):\n",
    "        train_text = data.iloc[train_indices]['text'].values\n",
    "        train_y = data.iloc[train_indices]['class'].values.astype(str)\n",
    "\n",
    "        test_text = data.iloc[test_indices]['text'].values\n",
    "        test_y = data.iloc[test_indices]['class'].values.astype(str)\n",
    "\n",
    "        print(\"Training for fold %d\" % i)\n",
    "        pipeline.fit(train_text, train_y)\n",
    "        print(\"Testing for fold %d\" % i)\n",
    "        predictions = pipeline.predict(test_text)\n",
    "\n",
    "        confusion += confusion_matrix(test_y, predictions)\n",
    "        score = f1_score(test_y, predictions, pos_label=SPAM)\n",
    "        scores.append(score)\n",
    "        print(\"Score for %d: %2.2f\" % (i, score))\n",
    "        print(\"Confusion matrix for %d: \" % i)\n",
    "        print(confusion)\n",
    "\n",
    "    print('Total emails classified:', len(data))\n",
    "    print('Score:', sum(scores)/len(scores))\n",
    "    print('Confusion matrix:')\n",
    "    print(confusion)\n",
    "    return pipeline"
   ]
  },
  {
   "cell_type": "markdown",
   "metadata": {},
   "source": [
    "A quick overview of how it works:\n",
    "The code uses a technique called k-fold (cross validation). Instead of simply splitting the corpus to a training and test set, it splits the dataset into k equal parts. The code than runs k times, each time selecting a different part of the corpus as the test set (and the rest k-1 parts as training). So this way, we can use the entire corpus as both training and test set. The disadvantage to this is, of course, performance (the whole learning/predicting process runs k times). \n",
    "In this case, we can assume why this technique was used: our corpus is made of several different sources, so simply splitting the corpus would have likely resulted in a test set that isn't similar to the training set.\n",
    "\n",
    "Another new technique introduced is the pipeline: it is used to create a sequence of several transformers (and a final estimator), and package them all as one object. It does not provide new functionality on it's own, but rather serves as a convinient method to pack a workflow of several transformers.\n",
    "\n",
    "The first element in the pipeline is the CountVectorizer. It's basic function is simple - it recieves a list of documents, and creates a matrix of documents X token counts. So if a token j appears 4 times in a document i, the matrix value in cell (i,j) will be 4. A token can be an n-gram as well, and we're able to choose an n-gram range, so the Vectorizer is able to mix tokens of different sizes in one matrix. In this example, our n-range is 1-2, meaning we check unigrams and bigrams."
   ]
  },
  {
   "cell_type": "markdown",
   "metadata": {},
   "source": [
    "#### Part 2.2.1"
   ]
  },
  {
   "cell_type": "markdown",
   "metadata": {},
   "source": [
    "First let's create the CountVectorizer, and use it to transform our data into a matrix:"
   ]
  },
  {
   "cell_type": "code",
   "execution_count": null,
   "metadata": {
    "collapsed": true
   },
   "outputs": [],
   "source": [
    "cv = CountVectorizer(ngram_range=(1, 2))\n",
    "data_x, data_y = data['text'], data['class']\n",
    "X = cv.fit_transform(data_x, data_y)"
   ]
  },
  {
   "cell_type": "markdown",
   "metadata": {},
   "source": [
    "Note that we're using the entire corpus, with no training/test split, because the k-fold technique ensures that the entire corpus will eventually be used as both training and test data.\n",
    "\n",
    "First we'll calculate the number of unigrams and bigrams:"
   ]
  },
  {
   "cell_type": "code",
   "execution_count": null,
   "metadata": {
    "collapsed": true
   },
   "outputs": [],
   "source": [
    "def count_uni_bi (fnames):\n",
    "    cnt = Counter([len(feature.split()) for feature in fnames])\n",
    "    return {\"unigrams\": cnt.get(1), \"bigrams\": cnt.get(2)}\n",
    "\n",
    "fnames = cv.get_feature_names()\n",
    "count_uni_bi (fnames)"
   ]
  },
  {
   "cell_type": "markdown",
   "metadata": {},
   "source": [
    "Since both unigrams and bigrams are used as features (and they're the only features), we could use *get_feature_names* to get the list of all unigrams and bigrams. From here it's just a matter of separating them and counting."
   ]
  },
  {
   "cell_type": "markdown",
   "metadata": {},
   "source": [
    "#### Part 2.2.2"
   ]
  },
  {
   "cell_type": "markdown",
   "metadata": {},
   "source": [
    "Now we want to get the most frequent unigrams and bigrams. We could work directly with our matrix, summing every column and printing the top 50 biggest numbers of each n-gram. However, because of the matrix size, we found this to be problematic performance-wise. \n",
    "Instead, we would like to recreate the tokens and count ourselves. Luckily, scikit provides easy access to the very same preprocessing methods they use, so we can assure our tokenization methods are identical. We've created a function that splits the data into unigrams and bigrams, and we use the Counter \"most_common\" method on both.\n",
    "Not that the bigrams split is also done within a document (meaning the last word of document and the first word of the next document will **not** create a bigram) - this is consistent with the CountVectorizer."
   ]
  },
  {
   "cell_type": "code",
   "execution_count": null,
   "metadata": {
    "collapsed": true
   },
   "outputs": [],
   "source": [
    "def split_uni_bi (data, analyzer):\n",
    "    uni, bi = [], []\n",
    "    for doc in data:\n",
    "        tokens = analyzer(doc)\n",
    "        for t in tokens:\n",
    "            if len(t.split()) == 1:\n",
    "                uni.append(t)\n",
    "            else:\n",
    "                bi.append(t)\n",
    "    return [uni,bi]\n",
    "\n",
    "analyzer = cv.build_analyzer()\n",
    "uni_bi_list = split_uni_bi(data_x, analyzer)"
   ]
  },
  {
   "cell_type": "code",
   "execution_count": null,
   "metadata": {
    "collapsed": true
   },
   "outputs": [],
   "source": [
    "print (\"unigrams:\")\n",
    "Counter(uni_bi_list[0]).most_common(50)"
   ]
  },
  {
   "cell_type": "code",
   "execution_count": null,
   "metadata": {
    "collapsed": true
   },
   "outputs": [],
   "source": [
    "print (\"bigrams:\")\n",
    "Counter(uni_bi_list[1]).most_common(50)"
   ]
  },
  {
   "cell_type": "markdown",
   "metadata": {},
   "source": [
    "Some of these words look unlikely (they mostly look like HTML documents), but we've verified with the original matrix too. This is a spam dataset, after all."
   ]
  },
  {
   "cell_type": "markdown",
   "metadata": {},
   "source": [
    "#### Part 2.2.3"
   ]
  },
  {
   "cell_type": "markdown",
   "metadata": {},
   "source": [
    "For the next task, we'll need the same split but for each class. So we'll filter the dataset per class and use the same method."
   ]
  },
  {
   "cell_type": "code",
   "execution_count": null,
   "metadata": {
    "collapsed": true
   },
   "outputs": [],
   "source": [
    "ham = data.loc[data['class'] == 'ham']\n",
    "spam = data.loc[data['class'] == 'spam']\n",
    "ham_x, spam_x = ham['text'], spam['text']\n",
    "ham_uni_bi_list = split_uni_bi(ham_x, analyzer)\n",
    "spam_uni_bi_list = split_uni_bi(spam_x, analyzer)"
   ]
  },
  {
   "cell_type": "code",
   "execution_count": null,
   "metadata": {
    "collapsed": true
   },
   "outputs": [],
   "source": [
    "print (\"ham unigrams:\")\n",
    "Counter(ham_uni_bi_list[0]).most_common(50)"
   ]
  },
  {
   "cell_type": "code",
   "execution_count": null,
   "metadata": {
    "collapsed": true
   },
   "outputs": [],
   "source": [
    "print (\"ham bigrams:\")\n",
    "Counter(ham_uni_bi_list[1]).most_common(50)"
   ]
  },
  {
   "cell_type": "code",
   "execution_count": null,
   "metadata": {
    "collapsed": true
   },
   "outputs": [],
   "source": [
    "print (\"spam unigrams:\")\n",
    "Counter(spam_uni_bi_list[0]).most_common(50)"
   ]
  },
  {
   "cell_type": "code",
   "execution_count": null,
   "metadata": {
    "collapsed": true
   },
   "outputs": [],
   "source": [
    "print (\"spam bigrams:\")\n",
    "Counter(spam_uni_bi_list[1]).most_common(50)"
   ]
  },
  {
   "cell_type": "markdown",
   "metadata": {},
   "source": [
    "#### Part 2.2.4"
   ]
  },
  {
   "cell_type": "markdown",
   "metadata": {},
   "source": [
    "Now we need to find the top 20 features for each class. Scikit offers a solution for this case - SelectFromModel. However, we ran into two problems when trying to use it:\n",
    "-SelectFromModel does not support sparse matrices (and our matrix is way too big to not be sparse)\n",
    "-More importantly - for binary classification tasks, SelectFromModel can only returns one list of top features (and not a feature for each class).\n",
    "\n",
    "We've had to dig deeper, and when we checked the source code, we discovered that SelectFromModel basically just returns the features with the highest coefficient (more specifically, highest absolute value of coefficient). So we've decided to work with the coefficient ourselves. So first, let's get our data:"
   ]
  },
  {
   "cell_type": "code",
   "execution_count": null,
   "metadata": {
    "collapsed": true
   },
   "outputs": [],
   "source": [
    "train_text = data_x[:49092]\n",
    "train_y = data_y[:49092]\n",
    "X = cv.fit_transform(train_text)\n",
    "mnb = MultinomialNB().fit (X, train_y)\n",
    "coefs = mnb.coef_[0]"
   ]
  },
  {
   "cell_type": "markdown",
   "metadata": {},
   "source": [
    "Note: this time we do split to train and testing data, but we only split once in the 'normal' method, without using cross-validation.\n",
    "\n",
    "We have our coefficient list, but we still run into the same problem - we only have a general list for the classifier, and not for each category. At first we thought that each side end of the list represents a different class (so the top 20 features will be class A, and the bottom 20 class B). But upon further inspection, this turned out to be wrong. We looked at the \"feature count\" attribute of each feature - which represents the number of samples encountered for each (class, feature) during fitting.\n",
    "The bottom 20 looked pretty good:"
   ]
  },
  {
   "cell_type": "code",
   "execution_count": null,
   "metadata": {
    "collapsed": true
   },
   "outputs": [],
   "source": [
    "feature_names = cv.get_feature_names()\n",
    "args = np.argsort(coefs)\n",
    "top_20, bottom_20 = args[:20], args[-20:]\n",
    "bottom = [feature_names[i] for i in bottom_20]\n",
    "print (\"bottom 20:\")\n",
    "for i in range(20):\n",
    "    print (bottom[i], mnb.feature_count_[0][bottom_20[i]], mnb.feature_count_[1][bottom_20[i]])"
   ]
  },
  {
   "cell_type": "markdown",
   "metadata": {},
   "source": [
    "But the top 20, on the other hand:"
   ]
  },
  {
   "cell_type": "code",
   "execution_count": null,
   "metadata": {
    "collapsed": true
   },
   "outputs": [],
   "source": [
    "top = [feature_names[i] for i in top_20]\n",
    "print (\"top 20:\")\n",
    "for i in range(20):\n",
    "    print (top[i], mnb.feature_count_[0][top_20[i]], mnb.feature_count_[1][top_20[i]])"
   ]
  },
  {
   "cell_type": "markdown",
   "metadata": {},
   "source": [
    "As you can see, all those features have extremely small feature counts - which means they are extremely rare, and not valuable features. \n",
    "This explains why Scikit used the top **absolute values** of coefficients - all our coefficients are negative numbers, and here we see that the bottom negative numbers are the valueable ones - hence, the one who have the highest absolute value.\n",
    "Also, inspecting Scikit's code and documentation, nowhere does it implies there's any use to the worst coefficients (for example, SelectFromModel throws them away beneath a certain threshold). \n",
    "\n",
    "So, the coefficient list on it's own doesn't solve our problem - we had to dig even deeper. We discovered a curious thing: when we checked coeff for other classification tasks, with more than one class, coeff actually returned a separate list for every class. Only in binary tasks, coeff returns only one list. So we looked into Naive Bayes code to discover what are those coefficient values, and this is what we found:\n",
    "\n",
    "def _get_coef(self):\n",
    "    return (self.feature_log_prob_[1:]\n",
    "            if len(self.classes_) == 2 else self.feature_log_prob_)\n",
    "            \n",
    "(this is a quote from Scikit's code, so we can't run it here).\n",
    "\n",
    "We disover that the coefficient is nothing more than the log probability of every feature. And also, it seems that for some reason, for binary tasks, Scikit decides specifically to only return the coefficients for the first class. But luckily, we can still access the original log probabilities, and get both lists. We just have to check which class is 0, and which is 1:"
   ]
  },
  {
   "cell_type": "code",
   "execution_count": null,
   "metadata": {
    "collapsed": true
   },
   "outputs": [],
   "source": [
    "mnb.classes_"
   ]
  },
  {
   "cell_type": "markdown",
   "metadata": {},
   "source": [
    "So we just have to access the bottom 20 (or top 20 absolute values) features of every list:"
   ]
  },
  {
   "cell_type": "code",
   "execution_count": null,
   "metadata": {
    "collapsed": true
   },
   "outputs": [],
   "source": [
    "ham_coeffs = mnb.feature_log_prob_[0]\n",
    "spam_coeffs = mnb.feature_log_prob_[1]\n",
    "\n",
    "def print_bottom_names (coeffs, feature_names,n, class_num):\n",
    "    args = np.argsort(coeffs)\n",
    "    bottom_co = args[-n:]\n",
    "    bottom = [feature_names[i] for i in bottom_co]\n",
    "    for i in range(n):\n",
    "        print (bottom[i], mnb.feature_count_[class_num][bottom_co[i]])\n",
    "        \n",
    "print (\"top features for ham:\")\n",
    "print_bottom_names(ham_coeffs, feature_names, 20, 0)\n",
    "\n",
    "print()\n",
    "print (\"top features for spam:\")\n",
    "print_bottom_names(spam_coeffs, feature_names, 20, 1)"
   ]
  },
  {
   "cell_type": "markdown",
   "metadata": {},
   "source": [
    "So our results know makes perfect sense - we see that \"ham\" words are generally pretty normal (\"be\", \"with\" etc) while \"spam\" words are generally more nonsense. Each word also have very high feature count for its class."
   ]
  },
  {
   "cell_type": "markdown",
   "metadata": {},
   "source": [
    "#### Part 2.2.5"
   ]
  },
  {
   "cell_type": "markdown",
   "metadata": {},
   "source": [
    "So now we want to add another feature to our model - the length of the text. But we should consider that the new feature is usually on a completely different scale to our normal features. The length of most documents is thousands of characters, While our usual features (number of appearences for a certain word/bigram in a document) is much lower. Is this a problem?\n",
    "\n",
    "Let's return to the way Naive Bayes classifier works, as explained in part 1:\n",
    "- We assume the features are independent\n",
    "- We calculate the probability of belonging to a specific class:\n",
    "<br>$P(f_1, f_2, f_3, \\dots , f_n \\vert l) = \\prod{P(f_i|l)}$\n",
    "\n",
    "As we can see, the probability for each feature is calculated separately and independently, and eventually we multiply all those probabilities. Because of that, the scale of the feature doesn't make a difference. Handling of each feature is independent, and by the time we multiply them, they're all converted to probabilities (which are of course scaled between 0-1).\n",
    "\n",
    "What about Logistic Regression? \n",
    "<br>Well, first we have to understand how it works. Logistic Regression is similar to Linear Regression (like we implemented in homework1, question 2). The main difference is that while we now wish to use it for binary classification tasks (while linear regression predicted the y value, but not a binary value). So instead, we use the Sigmoid Function to normalize our predicted values between 0 and 1.\n",
    "\n",
    "(add sigmoid function here)\n",
    "\n",
    "Logistic regression, on it's own, does not require scaling. The reason is that after repeated iterations, the optimal coefficients for each feature are chosen, and those coefficients take into account the scale of the feature. That's not to say scaling is useless. Many optimization algorithms (such as gradient descent) converges faster on normalized values, meaning that scaling will lead to better performance. But it isn't neccesary.\n",
    "\n",
    "So when is scaling neccesary?\n",
    "<br>If we're using a Logistic Regression model **with regularization**. Certain penalty functions are very sensitive to scaling, meaning that using the same feature but in different scale (for example, using meters or kilometers) will result in drastically different penalties. The Logistic Regression used in the model uses the solver 'lbfgs', which according to Scikit documentation, only works with the L2 penalty function:\n",
    "\n",
    "(add L2 penalty function)\n",
    "\n",
    "This function is sensitive to scaling. So in order to use this length feature in the Logistic Regression model, we'll need to scale it - but not because of the Logistic Regression itself, but because of the regularization method it uses."
   ]
  },
  {
   "cell_type": "markdown",
   "metadata": {},
   "source": [
    "#### Part 2.2.6"
   ]
  },
  {
   "cell_type": "markdown",
   "metadata": {},
   "source": [
    "So let's add the length feature to our model. We will build our own Pipeline, and we'll also use FeatureUnion. FeatureUnion concatenates lists of features from different transformers. Meaning we can \"prepeare\" several feature sets separately (running each one through different transformers), and use the FeatureUnion to combine them to a single feature list.\n",
    "\n",
    "The FeatureUnion and the Pipeline accept objects called transformers. Transformers in Scikit are objects who inherit from general class TransformerMixin, and implement two methods: fit and transform. In our case, we will build a very simple transformer that returns the length of each string:"
   ]
  },
  {
   "cell_type": "code",
   "execution_count": null,
   "metadata": {
    "collapsed": true
   },
   "outputs": [],
   "source": [
    "class LengthTransformer(TransformerMixin):\n",
    "    def transform(self, X, **transform_params):\n",
    "        return np.array([len(doc) for doc in X]).reshape(-1,1)\n",
    "\n",
    "    def fit(self, X, y=None, **fit_params):\n",
    "        return self "
   ]
  },
  {
   "cell_type": "markdown",
   "metadata": {},
   "source": [
    "As you can see, our fit method does nothing (as there's no need to fit the data in any way). Our transform method, at it's core, returns the length of every item in the training set. It also prepears the datat for the scaler - by converting it into a numpy array, and reshaping it (as the scaler does not accept 1D arrays).\n",
    "Now here's our FeatureUnion:"
   ]
  },
  {
   "cell_type": "code",
   "execution_count": null,
   "metadata": {
    "collapsed": true
   },
   "outputs": [],
   "source": [
    "union = FeatureUnion([\n",
    "                (\"count\", CountVectorizer(ngram_range=(1, 2))), \n",
    "                (\"length\", Pipeline([(\"lt\", LengthTransformer()), (\"scaler\", StandardScaler(with_mean=False))]))])"
   ]
  },
  {
   "cell_type": "markdown",
   "metadata": {},
   "source": [
    "We merge two feature sets - the \"count' feature set is the CountVectorizer from eariler, while the \"length\" feature set is our newly written length transformer. We normalize the length, for reasons we explained in the previous question.\n",
    "\n",
    "So here's our complete pipeline:"
   ]
  },
  {
   "cell_type": "code",
   "execution_count": null,
   "metadata": {
    "collapsed": true
   },
   "outputs": [],
   "source": [
    "def build_pipeline2():\n",
    "    pipeline = Pipeline([\n",
    "        ('features',   FeatureUnion([\n",
    "                (\"count\", CountVectorizer(ngram_range=(1, 2))), \n",
    "                (\"length\", Pipeline([(\"lt\", LengthTransformer()), (\"scaler\", StandardScaler(with_mean=False))]))])), \n",
    "        ('classifier',         LogisticRegression(solver='lbfgs'))\n",
    "    ])\n",
    "    return pipeline"
   ]
  },
  {
   "cell_type": "markdown",
   "metadata": {},
   "source": [
    "And now let's run the original code, with our pipeline:"
   ]
  },
  {
   "cell_type": "code",
   "execution_count": null,
   "metadata": {
    "collapsed": true
   },
   "outputs": [],
   "source": [
    "def train2(data = None, n_folds = 4):\n",
    "    if data is None:\n",
    "        print(\"Loading data...\")\n",
    "        data = load_data()\n",
    "        print(\"Data loaded\")\n",
    "    k_fold = KFold(n_splits = n_folds)\n",
    "    pipeline = build_pipeline2()\n",
    "    scores = []\n",
    "    confusion = np.array([[0, 0], [0, 0]])\n",
    "    print(\"Training with %d folds\" % n_folds)\n",
    "    for i, (train_indices, test_indices) in enumerate(k_fold.split(data)):\n",
    "        train_text = data.iloc[train_indices]['text'].values\n",
    "        train_y = data.iloc[train_indices]['class'].values.astype(str)\n",
    "        test_text = data.iloc[test_indices]['text'].values\n",
    "        test_y = data.iloc[test_indices]['class'].values.astype(str)\n",
    "        \n",
    "        print(\"Training for fold %d\" % i)\n",
    "        pipeline.fit(train_text, train_y)\n",
    "        print(\"Testing for fold %d\" % i)\n",
    "        predictions = pipeline.predict(test_text)\n",
    "        \n",
    "        confusion += confusion_matrix(test_y, predictions)\n",
    "        score = f1_score(test_y, predictions, pos_label=SPAM)\n",
    "        scores.append(score)\n",
    "        \n",
    "        print(\"Score for %d: %2.2f\" % (i, score))\n",
    "        print(\"Confusion matrix for %d: \" % i)\n",
    "        print(confusion)\n",
    "\n",
    "    print('Total emails classified:', len(data))\n",
    "    print('Score:', sum(scores)/len(scores))\n",
    "    print('Confusion matrix:')\n",
    "    print(confusion)\n",
    "    return pipeline\n",
    "    confusion = confusion_matrix(test_y, predictions)\n",
    "    score = f1_score(test_y, predictions, pos_label=SPAM)\n",
    "    print(\"Score for %d: %2.2f\" % (i, score))\n",
    "    print(\"Confusion matrix for %d: \" % i)\n",
    "    print(confusion)\n",
    "    print('Total emails classified:', len(test_text))\n",
    "    return pipeline\n",
    "\n",
    "pipeline = train2(data)"
   ]
  },
  {
   "cell_type": "markdown",
   "metadata": {},
   "source": [
    "## Part 3"
   ]
  },
  {
   "cell_type": "markdown",
   "metadata": {},
   "source": [
    "In this task, we will create a NER (Named Entity Recognition) model that recognizes names of persons, organizations and other entities in text. We will use the CoNLL 2002 dataset. As we build the code, we will use the Spanish version of the dataset. At the end of every segment, we'll test our functions on the Dutch dataset and compare the differences. \n",
    "First, we will import the data:"
   ]
  },
  {
   "cell_type": "code",
   "execution_count": null,
   "metadata": {
    "collapsed": true
   },
   "outputs": [],
   "source": [
    "etr = conll2002.chunked_sents('esp.train') # In Spanish"
   ]
  },
  {
   "cell_type": "markdown",
   "metadata": {},
   "source": [
    "Note that our data, as presented in the assignment, comes in the form of **chunked_sents**. This is a tree data structure, that represent the data like this:\n",
    "\n",
    "-A word is represented as a pair (word, POS tagging).\n",
    "-Each sentence is a tree. The root of the tree is always \"S\".\n",
    "-The words of the sentence are the children of the root, depending on their NER tag:\n",
    "For NER tag O, the word itself (represented by a pair) will be a direct children of the root. \n",
    "For other tags, the children will be another subtree. His root will be the category (for example, \"LOCATION\"), and his children will be all the words within the LOCATION tag.\n",
    "\n",
    "This representation is equivalent to a list, and we can easily convert between the two. It does have one advantage over lists - the tree structure \"forces\" legal tag sequences by its nature, and it's impossible to represent an illegal sequence using a tree. Nevertheless, for our questions we will use the list form, for several reasons:\n",
    "\n",
    "-The chunked_sents represnatation doesn't directly include the word tags we need.\n",
    "-Scikit provides a much wider toolkit for lists rather than trees, including the models we were asked to use (such as DictVectorizer).\n",
    "-Working with a list is much more simpler and convinient.\n",
    "We'll refer to the question of illegal sequences later on.\n",
    "\n",
    "So here is our lists:"
   ]
  },
  {
   "cell_type": "code",
   "execution_count": null,
   "metadata": {
    "collapsed": true
   },
   "outputs": [],
   "source": [
    "train_sents = list(conll2002.iob_sents('esp.train'))\n",
    "test_sents = list(conll2002.iob_sents('esp.testa'))\n",
    "d_train_sents = list(conll2002.iob_sents('ned.train'))\n",
    "d_test_sents = list(conll2002.iob_sents('ned.testa'))"
   ]
  },
  {
   "cell_type": "markdown",
   "metadata": {},
   "source": [
    "Let's understand how our dataset is represented. For example, let's look at an example of the first element (and hence, first sentence) in the first dataset: "
   ]
  },
  {
   "cell_type": "code",
   "execution_count": null,
   "metadata": {
    "collapsed": true
   },
   "outputs": [],
   "source": [
    "train_sents[0]"
   ]
  },
  {
   "cell_type": "markdown",
   "metadata": {},
   "source": [
    "As we can see:\n",
    "\n",
    "- A word is represented by a tuple of three elements: the word itself, it's POS (Part of Speech) tagging, and it's correct NER tagging.\n",
    "- A sentence is represented by a list of words\n",
    "- Each element in the dataset is a sentence.\n",
    "\n",
    "Now that we understand our data, it's time to extract features. We'll be looking for word level features, and in this step we'll be looking at each word separately. Those are the features we've chosen to extract for every word:\n",
    "\n",
    "Form (The actual word), POS tagging, is number, does it contain a number, does it begin with a capital letter, is it all capital letters, is it a punctuation char, the first one, two and three letters of the word, the last one, two and three letters in of the word. \n",
    "Here's the code for feature extraction:"
   ]
  },
  {
   "cell_type": "code",
   "execution_count": null,
   "metadata": {
    "collapsed": true
   },
   "outputs": [],
   "source": [
    "def hasNumbers(str):\n",
    "    return any(c.isdigit() for c in str)\n",
    "\n",
    "def get_word_features (word):\n",
    "    w = word[0]\n",
    "    features = {\n",
    "     \"form\": w,\n",
    "     \"pos\": word[1],\n",
    "     \"is_number\": w.isdigit(),\n",
    "     \"contains_number\": hasNumbers(w),\n",
    "     \"beginCapital\": w[0].isupper(),\n",
    "     \"allCaps\": w.isupper(),\n",
    "     \"isPunc\": w in string.punctuation,\n",
    "     \"firstLetter\": w[0],\n",
    "     \"first2Letters\": w[0:2],\n",
    "     \"first3Letters\": w[0:3],\n",
    "     \"lastLetter\": w[-1],\n",
    "     \"last2Letters\": w[-2:],\n",
    "     \"last3Letters\": w[-3:]\n",
    "    }\n",
    "    return features"
   ]
  },
  {
   "cell_type": "markdown",
   "metadata": {},
   "source": [
    "And here's an example on the word 'Melbourne':"
   ]
  },
  {
   "cell_type": "code",
   "execution_count": null,
   "metadata": {
    "collapsed": true
   },
   "outputs": [],
   "source": [
    "get_word_features(train_sents[0][0])"
   ]
  },
  {
   "cell_type": "markdown",
   "metadata": {},
   "source": [
    "So now we have our features, it's time to train our model. We will be using Scikit's DictVectorizer data structure to keep our data, and it's logistic regression implementation for the training. Those methods requires two seperate lists of identical size, where every element represents one word in the corpus. The first list (X) keeps the list of features for every word, and the second list (y) has the NER tagging of the word - which is the answer our model will be trying to guess.\n",
    "\n",
    "Here is the code that creates those lists:"
   ]
  },
  {
   "cell_type": "code",
   "execution_count": null,
   "metadata": {
    "collapsed": true
   },
   "outputs": [],
   "source": [
    "def get_corpus_features (corpus):\n",
    "#gets a corpus, returns a list of features for every word\n",
    "    X = []\n",
    "    for sent in corpus:\n",
    "        X += [get_word_features(w) for w in sent]\n",
    "    return X\n",
    "\n",
    "def get_y (corpus):\n",
    "    y = []\n",
    "    for sent in corpus:\n",
    "        y += [w[2] for w in sent]\n",
    "    return y"
   ]
  },
  {
   "cell_type": "markdown",
   "metadata": {},
   "source": [
    "Note that, in addition to the obvious effect of getting features/NER taggings, those functions also transform our data from a list of **sentences** to a list of **words** - so our output is a big list of all the words, not divided to sentences anymore.\n",
    "\n",
    "Now we'll create our DictVectorizer and train our model:"
   ]
  },
  {
   "cell_type": "code",
   "execution_count": null,
   "metadata": {
    "collapsed": true
   },
   "outputs": [],
   "source": [
    "def train(train_sents, v, features):\n",
    "    y = get_y (train_sents)\n",
    "    X = v.fit_transform(features)\n",
    "    clf = LogisticRegression(random_state=0, solver='lbfgs', multi_class='multinomial').fit(X, y)\n",
    "    return clf\n",
    "\n",
    "v = DictVectorizer(sparse=True)\n",
    "features = get_corpus_features(train_sents)\n",
    "clf = train(train_sents, v, features)"
   ]
  },
  {
   "cell_type": "markdown",
   "metadata": {},
   "source": [
    "The **DictVecotizer** structure and it's fit_transform method, transforms the features list to a matrix. Each row in the matrix represents a word, and each column represents a feature. Each cell M(i,j) includes the corresponding numerical value for feature j in word i.\n",
    "\n",
    "But what if the features are non-numerical? Boolean data easily transforms to 1 (True) or 0 (False), but strings are a bit more complicated to encode. DictVectorizer's solution is to create a separate boolean feature for every string it encounters. For example, for the word \"Melbourne\", rather than the \"firstLetter\" feature, it will create a new boolean feature: \"firstLetter=M\", that will be True for every word that begins in M, and False otherwise. This is similar to a One-Hot Encoding vector.\n",
    "\n",
    "This is a good solution, but it means that for each possible value of a string feature (for example, each word, prefix or suffix of length 1,2,3), a specific feature will be created. In other words, our matrix is getting really big. For the first sentence alone (11 words), 75 features are created. For the entire dataset (264715 words), the matrix will be huge - in fact, too huge for the computer's memory (or at least, *my* computer's memory) to handle.\n",
    "\n",
    "That's why we use a **sparse** version of the matrix. How do this work? The crucial fact is that while we have a lot of data, mthe huge majority of it (typically above 99%) is zeros. For example, the word \"Melbourne\" will recieve 1 in the \"firstLetter=M\" feature, and 0 in every other \"firstLetter\" feature. The same applies for every single string feature (some of them, such as 3 letter combinations, have a lot of possible values) - that's a lot of zeros.\n",
    "So the sparse data structre take advantage of that fact. Rather than actually save all those zeros, it only keeps the non-zero values and their positions, and assumes zero everywhere else. \n",
    "\n",
    "So now we have our sparse matrix X, and our target values y, it's time to create our classifier (clf) using Scikit's logistic regression implementation. It's time to test this model on the our test set:"
   ]
  },
  {
   "cell_type": "code",
   "execution_count": null,
   "metadata": {
    "collapsed": true
   },
   "outputs": [],
   "source": [
    "def predict (clf, v, test_features):\n",
    "    X2 = v.transform(test_features)\n",
    "    return clf.predict(X2)\n",
    "\n",
    "test_features = get_corpus_features(test_sents)\n",
    "y_predict = predict (clf, v, test_features)\n",
    "y_true = get_y (test_sents)"
   ]
  },
  {
   "cell_type": "markdown",
   "metadata": {},
   "source": [
    "This function is fairly straight forward, but it's interesting to note the *transform* method used. We create a sparse feature matrix for the test set, but it will not be in the same size as the original matrix for the train data. However, the *predict* method demands that the train and test matrixes will have the same number of features. \n",
    "The transform method transforms the test_features matrix to the same size as the train_features - by adding empty columns for features encountered in the training data, but not the test data. However, this also means there's some information loss - as features that were encountered in the test data but not the train data are \"silently ignored\".\n",
    "\n",
    "So now we have our predictions, it's time to evaluate how well we did. We can do this by several different methods. The easiest of which will be to calculate the accuracy score:"
   ]
  },
  {
   "cell_type": "code",
   "execution_count": null,
   "metadata": {
    "collapsed": true
   },
   "outputs": [],
   "source": [
    "def accuracy (x,y):\n",
    "    correct = sum([1 if x[i]==y[i] else 0 for i in range(len(x))])\n",
    "    return correct / len(x)\n",
    "\n",
    "accuracy(y_predict, y_true)"
   ]
  },
  {
   "cell_type": "markdown",
   "metadata": {},
   "source": [
    "So almost 93%, not too bad but we will try to do better. We also have more tools to analyze our errors. For a start, we can simply print all the errors and manually look at them:"
   ]
  },
  {
   "cell_type": "code",
   "execution_count": null,
   "metadata": {
    "collapsed": true
   },
   "outputs": [],
   "source": [
    "def get_errors (x,y,test_sents):\n",
    "    features = get_corpus_features(test_sents)\n",
    "    errors = []\n",
    "    for i in range(len(x)):\n",
    "        if x[i] != y[i]:\n",
    "            errors.append((y[i], x[i], features[i].get(\"form\")))\n",
    "    return sorted(errors)\n",
    "        \n",
    "errors = get_errors(y_predict, y_true, test_sents)\n",
    "for i in range(20):\n",
    "    print('correct = %-8s guess = %-8s word = %-30s' % (errors[i][0], errors[i][1], errors[i][2]))\n",
    "    \n",
    "#we only print the first 20 errors as examples"
   ]
  },
  {
   "cell_type": "markdown",
   "metadata": {},
   "source": [
    "We can also take a look at the confusion matrix:\n",
    "<br>(We'll also print the NER tags in order, because the Scikit confusion matrix does not include labels)."
   ]
  },
  {
   "cell_type": "code",
   "execution_count": null,
   "metadata": {
    "collapsed": true
   },
   "outputs": [],
   "source": [
    "print(set(y_true))\n",
    "print(metrics.confusion_matrix(y_true, y_predict))"
   ]
  },
  {
   "cell_type": "markdown",
   "metadata": {},
   "source": [
    "Scikit also offers an handy tool called a classification report:"
   ]
  },
  {
   "cell_type": "code",
   "execution_count": null,
   "metadata": {
    "collapsed": true
   },
   "outputs": [],
   "source": [
    "print(metrics.classification_report(y_true, y_predict))"
   ]
  },
  {
   "cell_type": "markdown",
   "metadata": {},
   "source": [
    "It seems we are doing a very good job with recognizing O's, but we struggle with other tags. In general, B tags seem to have better score than I tags, while MISC category seems to be the most difficult to classify. It also means that our 93% accuracy score is misleading - the score is relatively high because we are good in recognizing O's (which is the majority of the dataset), but when it comes to the classification of other tags, our accuracy is much lower.\n",
    "\n",
    "Let's check our model on the Dutch dataset as well:"
   ]
  },
  {
   "cell_type": "code",
   "execution_count": null,
   "metadata": {
    "collapsed": true
   },
   "outputs": [],
   "source": [
    "d_features = get_corpus_features(d_train_sents)\n",
    "d_clf = train(d_train_sents, v, d_features)\n",
    "d_test_features = get_corpus_features(d_test_sents)\n",
    "d_y_predict = predict (d_clf, v, d_test_features)\n",
    "d_y_true = get_y (d_test_sents)\n",
    "print (\"accuracy:\", accuracy (d_y_predict,d_y_true))\n",
    "print (metrics.classification_report(d_y_true, d_y_predict))"
   ]
  },
  {
   "cell_type": "markdown",
   "metadata": {},
   "source": [
    "It seems our Dutch model is doing slightly better than the Spanish one, but it's still prone to similar mistakes - once again we recognize very high success rates among O's (which are the big majority of the dataset), I tags are more difficult to predict than B tags, and \"Misc\" category is still problematic. \n",
    "One noticeable difference is that the Dutch model seems to struggle with Location names (0.29 fscore on I-LOC - even lower than I-MISC), which the Spanish model did better on. A possible explanation is insufficient training data - the Dutch dataset only had 64 I-LOC tags, which is much lower than other tags. \n",
    "The support column refers to the test dataset and not the training dataset, but a check on the training dataset confirms that I-LOC tags are indeed relatively rare.\n",
    "\n",
    "So now, we will try to imrove our overall model by using more than just word-specific features - we'll be looking at features of the previous and following word. Here's our updated *get_word_features2* method, which now receives three arguments (the previous and next word, in addition to the current one) and extracts all features for all 3 words: "
   ]
  },
  {
   "cell_type": "code",
   "execution_count": null,
   "metadata": {
    "collapsed": true
   },
   "outputs": [],
   "source": [
    "def get_word_features2 (word, prev, next):\n",
    "#also includes information about next and previous word\n",
    "    w = word[0]\n",
    "    p = prev[0]\n",
    "    n = next[0]\n",
    "    features = {\n",
    "     \"form\": w,\n",
    "     \"pos\": word[1],\n",
    "     \"is_number\": w.isdigit(),\n",
    "     \"contains_number\": hasNumbers(w),\n",
    "     \"beginCapital\": w[0].isupper(),\n",
    "     \"allCaps\": w.isupper(),\n",
    "     \"isPunc\": w in string.punctuation,\n",
    "     \"firstLetter\": w[0],\n",
    "     \"first2Letters\": w[0:2],\n",
    "     \"first3Letters\": w[0:3],\n",
    "     \"lastLetter\": w[-1],\n",
    "     \"last2Letters\": w[-2:],\n",
    "     \"last3Letters\": w[-3:],\n",
    "     \"p_form\": p,\n",
    "     \"p_pos\": prev[1],\n",
    "     \"p_is_number\": p.isdigit(),\n",
    "     \"p_contains_number\": hasNumbers(p),\n",
    "     \"p_beginCapital\": p[0].isupper(),\n",
    "     \"p_allCaps\": p.isupper(),\n",
    "     \"p_isPunc\": p in string.punctuation,\n",
    "     \"p_firstLetter\": p[0],\n",
    "     \"p_first2Letters\": p[0:2],\n",
    "     \"p_first3Letters\": p[0:3],\n",
    "     \"p_lastLetter\": p[-1],\n",
    "     \"p_last2Letters\": p[-2:],\n",
    "     \"p_last3Letters\": p[-3:],\n",
    "     \"n_form\": n,\n",
    "     \"n_pos\": next[1],\n",
    "     \"n_is_number\": n.isdigit(),\n",
    "     \"n_contains_number\": hasNumbers(n),\n",
    "     \"n_beginCapital\": n[0].isupper(),\n",
    "     \"n_allCaps\": n.isupper(),\n",
    "     \"n_ispunc\": n in string.punctuation,\n",
    "     \"n_firstLetter\": n[0],\n",
    "     \"n_first2Letters\": n[0:2],\n",
    "     \"n_first3Letters\": n[0:3],\n",
    "     \"n_lastLetter\": n[-1],\n",
    "     \"n_last2Letters\": n[-2:],\n",
    "     \"n_last3Letters\": n[-3:]\n",
    "    }\n",
    "    return features\n",
    "\n",
    "def get_corpus_features2 (corpus):\n",
    "#gets a corpus, returns a list of features for every word\n",
    "    flat = [w for sent in corpus for w in sent]\n",
    "    pad = [(\"*\",\"*\",\"*\")]\n",
    "    flat = pad + flat + pad\n",
    "    X = []\n",
    "    for i in range(1, len(flat) - 1):\n",
    "        X.append(get_word_features2(flat[i], flat[i - 1], flat[i + 1]))\n",
    "    return X"
   ]
  },
  {
   "cell_type": "markdown",
   "metadata": {},
   "source": [
    "So now let's train on the new data, and try to predict and check our new accuracy score:"
   ]
  },
  {
   "cell_type": "code",
   "execution_count": null,
   "metadata": {
    "collapsed": true
   },
   "outputs": [],
   "source": [
    "features2 = get_corpus_features2(train_sents)\n",
    "clf2 = train(train_sents, v, features2)\n",
    "test_features2 = get_corpus_features2(test_sents)\n",
    "y_predict2 = predict (clf2, v, test_features2)\n",
    "y_true2 = get_y (test_sents)\n",
    "print(\"accuracy:\", accuracy (y_predict2, y_true2))\n",
    "print(metrics.classification_report(y_true2, y_predict2))"
   ]
  },
  {
   "cell_type": "markdown",
   "metadata": {},
   "source": [
    "So the new score is around 95% - an improvement on the previous attempt. Let's check on the Dutch dataset:"
   ]
  },
  {
   "cell_type": "code",
   "execution_count": null,
   "metadata": {
    "collapsed": true
   },
   "outputs": [],
   "source": [
    "d_features2 = get_corpus_features2(d_train_sents)\n",
    "d_clf2 = train(d_train_sents, v, d_features2)\n",
    "d_test_features2 = get_corpus_features2(d_test_sents)\n",
    "d_y_predict2 = predict (d_clf2, v, d_test_features2)\n",
    "d_y_true2 = get_y (d_test_sents)\n",
    "print(\"accuracy:\", accuracy (d_y_predict2, d_y_true2))\n",
    "print(metrics.classification_report(d_y_true2, d_y_predict2))"
   ]
  },
  {
   "cell_type": "markdown",
   "metadata": {},
   "source": [
    "We see a similar improvement in the Dutch model as well - who is now up to almost 97% accuracy score. We see some improvement in all categories, including the problematic ones. I-LOC for example is up from 0.29 to 0.41, which is an improvement but still not a good score by any means."
   ]
  },
  {
   "cell_type": "markdown",
   "metadata": {},
   "source": [
    "#### Part 3.1.3 - Finding Illegal Sequences"
   ]
  },
  {
   "cell_type": "markdown",
   "metadata": {},
   "source": [
    "So far, the tagging method we used was greedy tagging. We did not check the logic of the tagging, and in particular we didn't check if tag sequences were legal or not. Let's write a function that will find all illegal tag sequences:"
   ]
  },
  {
   "cell_type": "code",
   "execution_count": null,
   "metadata": {
    "collapsed": true
   },
   "outputs": [],
   "source": [
    "def find_illegal_sequences (guess):\n",
    "    OIX, IXIY, BXIY = 0, 0, 0\n",
    "    for i in range(len(guess) - 1):\n",
    "        curr, next = guess[i], guess[i + 1]\n",
    "        if curr[0] == \"O\" and next[0] == \"I\":\n",
    "            OIX += 1\n",
    "        elif curr[0] == \"I\" and next[0] == \"I\" and curr[1:] != next[1:]:\n",
    "            IXIY+=1\n",
    "        elif curr[0] == \"B\" and next[0] ==\"I\" and curr[1:] != next[1:]:\n",
    "            BXIY += 1\n",
    "    return {\"O-IX\": OIX, \"IX-IY\": IXIY, \"BX-IY\": BXIY}\n",
    "\n",
    "print(\"Spanish:\", find_illegal_sequences(y_predict2))\n",
    "print(\"Dutch:\", find_illegal_sequences(d_y_predict2))"
   ]
  },
  {
   "cell_type": "markdown",
   "metadata": {},
   "source": [
    "In the Spanish dataset, all three illegal sequences seem to happen in similar frequency. Our test set includes 52923 words (and hence 52922 sequences of 2), and overall we guessed 646 illegal sequences - that's about 1.2% of our guesses. \n",
    "In the Dutch dataset, illegal sequences are rarer, and only take about 0.5% of our guesses (which is consistent with our results so far, in which our model did better in Dutch than Spanish).\n",
    "\n",
    "How can we use this information?\n",
    "<br>If we were to change our predicting model to prevent it from predicting illegal sequences, we could theoretically improve our accuracy by **up to** 1.2%. Of course, this will be a difficult process. Even if we know that a sequence of 2 tags is illegal, we still face two problems:\n",
    "\n",
    "- We need to determine which of the two tags is wrong (or maybe both are wrong)\n",
    "- We need to correct it to the right answer.\n",
    "\n",
    "If we were to implement such an algorithm, a possible method of doing so would be to use the *predcit_proba* method, which for every word, returns the probability of each tag (a distribution). Using this method, a possible rough algorithm would be:\n",
    "\n",
    "- Predict normally\n",
    "\n",
    "- Look for illegal sequences - similar to *find_illegal_sequences* above, but rather than just counting, for every illegal sequence we find we will perform the following steps:\n",
    "\n",
    "- Determine which of the two tags is more likely to be wrong. We can do it by getting max probability in each word's distribution, and choosing the lower value of the two. \n",
    "For example: let w1,w2 be two words, and t1,t2 the tags with the highest probability. If p(t1)>p(t2), we will conclude that ws is more likely to be wrong.\n",
    "\n",
    "- Look for the second highest probability in w2's distribution - let's call it t2'. \n",
    "\n",
    "- Check if the sequence (t1, t2') is a legal sequence. If it is, change w2 tag to t2' and move to the next sequence.\n",
    "\n",
    "- If it's illegal, we'll try the next most likely tag - it might be the next option on w2's distribution, or the second option in w1's distribution. \n",
    "\n",
    "- Repeat until you get a legal sequence.\n"
   ]
  },
  {
   "cell_type": "markdown",
   "metadata": {},
   "source": [
    "### Part 3.2"
   ]
  },
  {
   "cell_type": "markdown",
   "metadata": {},
   "source": [
    "So now we would like to further improve our results, by using word embeddings. Word embeddings are the results of mapping from words to numerical vectors, based on words context. \n",
    "The idea behind them is simple: words that often occur together in similar contexts, are likely to have similiar meanings. We can assume that words like 'cat' and 'dog' will frequently appear in similar context, while 'cat' and 'tractor' are less likely to. So we go through a lot of text, and for every word in our vocabulary, we collect data of all the words it appears frequently with. After collecting our data, we can perform various mathematical manipulations to turn this data into a vector for every word, in such a way that words that frequently appear together will have similar vectors. We will use those vector to try and improve our NER tagging.\n",
    "\n",
    "So first, let's import our word embeddings database (in Spanish):"
   ]
  },
  {
   "cell_type": "code",
   "execution_count": null,
   "metadata": {
    "collapsed": true
   },
   "outputs": [],
   "source": [
    "wordvectors_file_vec = 'data\\wiki.es.vec'\n",
    "wordvecs = KeyedVectors.load_word2vec_format(wordvectors_file_vec, limit=100000)"
   ]
  },
  {
   "cell_type": "markdown",
   "metadata": {},
   "source": [
    "We can do a lot of cool things with this, such as finding the most similiar words to a given word:"
   ]
  },
  {
   "cell_type": "code",
   "execution_count": null,
   "metadata": {
    "collapsed": true
   },
   "outputs": [],
   "source": [
    "wordvecs.most_similar_cosmul(positive=['rey','mujer'],negative=['hombre'])"
   ]
  },
  {
   "cell_type": "markdown",
   "metadata": {},
   "source": [
    "But the one feature that interests us is the wordvecs feature, which returns a numerical vector of size 300 that represents a word. For example:"
   ]
  },
  {
   "cell_type": "code",
   "execution_count": null,
   "metadata": {
    "collapsed": true
   },
   "outputs": [],
   "source": [
    "wordvecs.word_vec(\"hombre\")"
   ]
  },
  {
   "cell_type": "markdown",
   "metadata": {},
   "source": [
    "So it's time to extract our features. For each word we will have 900 features - it's vector, the vector of the previous and the next word. Note: this code returns only the word embeddings, and not the features we've used in the previous questions.\n",
    "\n",
    "Our first naive implementation failed, because we ran into a new problem: some of the words in our training sents were simply missing in the word embeddings dataset, which has caused it to throw an exception. We have to decide, what do we do in that case? \n",
    "Our first idea was to give it a set value, such as a vector of zeros. But we've decided against it, because we feared to create a wrong similarity between all the missing words (they would all have the exact same word embedding vector, so might be interpeted as the same word). This is why we've decided instead to generate random values for each missing word. It's not a perfect solution, and has some fairly noticeable downsides:\n",
    "\n",
    "1) Accidental similarity might occur (a randomly generated vector might be similar to an unrelated word)\n",
    "<br>2) Several occurences of the same word will be assigned different vectors.\n",
    "\n",
    "But we still think it's preferable to giving the exact same vector to all missing words.\n",
    "So here's the code:"
   ]
  },
  {
   "cell_type": "code",
   "execution_count": null,
   "metadata": {
    "collapsed": true
   },
   "outputs": [],
   "source": [
    "def word_emb_features (word, prev, next, wordvecs):\n",
    "    w = word[0]\n",
    "    p = prev[0]\n",
    "    n = next[0]\n",
    "    try: \n",
    "        wordvec = wordvecs.word_vec(w)\n",
    "    except KeyError:\n",
    "        wordvec = np.random.rand(300) * 2 - 1\n",
    "    try: \n",
    "        p_wordvec = wordvecs.word_vec(p)\n",
    "    except KeyError:\n",
    "        p_wordvec = np.random.rand(300) * 2 - 1\n",
    "    try: \n",
    "        n_wordvec = wordvecs.word_vec(n)\n",
    "    except KeyError:\n",
    "        n_wordvec = np.random.rand(300) * 2 - 1\n",
    "    return np.concatenate((wordvec, p_wordvec, n_wordvec))\n",
    "\n",
    "def emb_corpus_features (corpus, wordvec):\n",
    "#gets a corpus, returns a list of features for every word\n",
    "    flat = [w for sent in corpus for w in sent]\n",
    "    pad = [(\"*\", \"*\", \"*\")]\n",
    "    flat = pad + flat + pad\n",
    "    X = []\n",
    "    for i in range(1, len(flat) - 1):\n",
    "        X.append(word_emb_features(flat[i], flat[i - 1], flat[i + 1], wordvec))\n",
    "    return X\n",
    "\n",
    "emb_features = emb_corpus_features(train_sents, wordvec)"
   ]
  },
  {
   "cell_type": "markdown",
   "metadata": {},
   "source": [
    "So we have our features, and the next step in our workflow is running them into the DictVectorizer. But here we ran into a technical problem: <br>the DictVectorizer (as his name implies...) is expecting to recieve a dictionary, while our word embeddings are in the form of a list of vectors.\n",
    "\n",
    "Of course, converting a vector into a dictionary is logically very easy. But when we tried it, we've ran into serious performance issues. Our dataset is huge - 264715 words with 900 features for each - and converting this into a dictionary simply takes a lot of time. Also logically, it's pretty silly to convert our matrix into a dictionary, only for the DictVectorizer to convert it back into a matrix.\n",
    "\n",
    "So instead we asked ourselves - why did we need the DictVectorizer in the first place?\n",
    "\n",
    "Well, the DictVectorizer has solved 3 problems for us:\n",
    "\n",
    "1) Convert our original features, who were in the form of a dictionary, into a matrix\n",
    "<br>2) Convert string features into numerical one-hot encodings\n",
    "<br>3) Created a sparse matrix for better performance and taking less memory\n",
    "\n",
    "Interestingly enough, all 3 problems aren't relevant anymore!\n",
    "\n",
    "1) Our data is already in the form of vectors list, with all vectors in the same size - which is pretty much identical to a matrix\n",
    "<br>2) Word embeddings are numerical features, so such conversion isn't necessary\n",
    "<br>3) As we recall, sparse matrices were only effective because most of our data was made of zeros. However, unlike one-hot vectors who are mostly zeros by definition, word embeddings are made of many values. Zero is one of those possible values, but it does not carry any special meaning and does not appear more frequently than others.\n",
    "\n",
    "Common confusion about point 3: earlier we said we needed sparse matrix for performance reasons - because my computer simply couldn't handle the non-sparse matrix. In a quick look, our situation is now much worse - instead of using a 13 (or 39) features, we now have 900 of them! But remember point 2 - because word embeddings are numerical features, conversion into one-hot encoding is unneccasary. So our new matrix is actually much **smaller** - it's size is 264715 X 900, as opposed to the one in the previous question - which size was a fairly insane 264715 X 115042!\n",
    "\n",
    "So basically, our DictVectorizer is now redundant! We'll just skip it and send our data straight to the classifier."
   ]
  },
  {
   "cell_type": "code",
   "execution_count": null,
   "metadata": {
    "collapsed": true
   },
   "outputs": [],
   "source": [
    "emb_y = get_y (train_sents)\n",
    "emb_clf = LogisticRegression(random_state=0, solver='lbfgs', multi_class='multinomial').fit(emb_features, emb_y)"
   ]
  },
  {
   "cell_type": "markdown",
   "metadata": {},
   "source": [
    "So now it's time to evaluate our new exciting method:"
   ]
  },
  {
   "cell_type": "code",
   "execution_count": null,
   "metadata": {
    "collapsed": true
   },
   "outputs": [],
   "source": [
    "emb_test_features = emb_corpus_features(test_sents, wordvec)\n",
    "emb_y_predict = emb_clf.predict(emb_test_features)\n",
    "emb_y_true = get_y (test_sents)\n",
    "print (\"accuracy:\", accuracy (emb_y_predict, emb_y_true))\n",
    "print (metrics.classification_report(emb_y_true, emb_y_predict))"
   ]
  },
  {
   "cell_type": "markdown",
   "metadata": {},
   "source": [
    "This is, well, fairly disappointing. How can it be that we've used much more features, who are more meaningful, and still got much worse results? Something has to be wrong here...\n",
    "Well, upon serious examination we've found the problem. Apparently we were a bit too hasty with our treatment of missing words in the WE dataset: "
   ]
  },
  {
   "cell_type": "code",
   "execution_count": null,
   "metadata": {
    "collapsed": true
   },
   "outputs": [],
   "source": [
    "def get_missing_percentage (corpus, wordvec):\n",
    "    count = 0\n",
    "    flat = [w for sent in corpus for w in sent]\n",
    "    for w in flat:\n",
    "        w2 = w[0]\n",
    "        try: \n",
    "            wordvec.word_vec(w2)\n",
    "        except KeyError:\n",
    "            count += 1\n",
    "    return(count / len(flat)) * 100\n",
    "\n",
    "get_missing_percentage(train_sents, wordvec)"
   ]
  },
  {
   "cell_type": "markdown",
   "metadata": {},
   "source": [
    "It turns out that a whooping 17% of our dataset is missing word embeddings! Which means that 17% of our predictions were based on random, meaningless numbers. Given that information, a 86% accuracy is actually fairly impressive.\n",
    "\n",
    "Of course, the actual situation is a bit more complicated. Because we're also looking at previous or next words, it's possible that for an unknown word, we'll still have correct information on previous and next words, hopefully allowing us to guess by context. This is probably how we could achieve 86% accuracy despite only having word embeddings for 83% of our dataset. \n",
    "But the point remains - a large bit of our training data is just wrong!\n",
    "\n",
    "So we will try to simply skip the missing words. This will make our training matrix smaller - but since the \"data\" we're skipping is actually just random numbers, it's not a great loss. \n",
    "We do have one significant loss though: because we're skipping some words, we now can't calculate information about previous and next words. What if it's missing? We'll have to either generate fake data (which is what we're trying to avoid in the first place), or find the closest non-missing word (which might be several words away, and might be irrelevant for the context of our word).\n",
    "\n",
    "So we'll only use word embeddings for the current word."
   ]
  },
  {
   "cell_type": "code",
   "execution_count": null,
   "metadata": {
    "collapsed": true
   },
   "outputs": [],
   "source": [
    "def emb_corpus_features_skip (corpus, wordvec):\n",
    "#gets a corpus, returns a list of features for every word\n",
    "    flat = [w for sent in corpus for w in sent]\n",
    "    X = []\n",
    "    for i in range(1, len(flat) - 1):\n",
    "        w = flat[i][0]\n",
    "        try: \n",
    "            v = wordvec.word_vec(w)\n",
    "            X.append([v, flat[i][2]])\n",
    "        except KeyError:\n",
    "            pass    \n",
    "    return X\n",
    "\n",
    "emb_skip = emb_corpus_features_skip(train_sents, wordvec)\n",
    "emb_features_skip = [x[0] for x in emb_skip]\n",
    "emb_y_skip = [x[1] for x in emb_skip]\n",
    "emb_skip_clf = LogisticRegression(random_state=0, solver='lbfgs', multi_class='multinomial').fit(emb_features_skip, emb_y_skip)"
   ]
  },
  {
   "cell_type": "markdown",
   "metadata": {},
   "source": [
    "Our coding approach is a bit different now - we  have to \"remember\" which words we skipped and also skip the relevant y value. So instead of getting features and y values separately, we're now generating them together, and returing a list of (X, y) pairs (with X being a vector of size 300).\n",
    "\n",
    "Let's test this model:"
   ]
  },
  {
   "cell_type": "code",
   "execution_count": null,
   "metadata": {
    "collapsed": true
   },
   "outputs": [],
   "source": [
    "emb_test_skip = emb_corpus_features_skip (test_sents, wordvec)\n",
    "emb_test_features_skip = [x[0] for x in emb_test_skip]\n",
    "emb_true_y_skip = [x[1] for x in emb_test_skip]\n",
    "emb_y_predict_skip = emb_skip_clf.predict(emb_test_features_skip)\n",
    "\n",
    "print (\"accuracy:\", accuracy (emb_y_predict_skip, emb_true_y_skip))\n",
    "print (metrics.classification_report(emb_true_y_skip, emb_y_predict_skip))"
   ]
  },
  {
   "cell_type": "markdown",
   "metadata": {},
   "source": [
    "So at first glance, our accuracy is almost 98% now - which is the best we've had so far - but our classification matrix reveal a much more worrying truth. It seems that we we skipped most of the non-O words, which results in a mostly empty classification report. A quick check confirms this:"
   ]
  },
  {
   "cell_type": "code",
   "execution_count": null,
   "metadata": {
    "collapsed": true
   },
   "outputs": [],
   "source": [
    "def counter_percentage (c, len):\n",
    "    return [(i, c[i] / len * 100.0) for i in c]\n",
    "\n",
    "c_skip = Counter(emb_true_y_skip)\n",
    "counter_percentage(c_skip, len(emb_true_y_skip))"
   ]
  },
  {
   "cell_type": "code",
   "execution_count": null,
   "metadata": {
    "collapsed": true
   },
   "outputs": [],
   "source": [
    "c = Counter(emb_y_true)\n",
    "counter_percentage(c, len(emb_y_true))"
   ]
  },
  {
   "cell_type": "markdown",
   "metadata": {},
   "source": [
    "So almost 98% of our data is now O's, while before skipping, the O percentage was about 86%. Logically, this makes sense - O represents \"normal\" words in the language, while the rest of the values refer to names (of people, locations, organizations, etc). Names are by nature a lot less common and more specific, so it's hardly surprising that names like \"Melbourne\" are more likely to be missing in the WE dataset, than normal Spanish words."
   ]
  }
 ],
 "metadata": {
  "kernelspec": {
   "display_name": "Python 3",
   "language": "python",
   "name": "python3"
  },
  "language_info": {
   "codemirror_mode": {
    "name": "ipython",
    "version": 3
   },
   "file_extension": ".py",
   "mimetype": "text/x-python",
   "name": "python",
   "nbconvert_exporter": "python",
   "pygments_lexer": "ipython3",
   "version": "3.6.3"
  }
 },
 "nbformat": 4,
 "nbformat_minor": 2
}
