{
 "cells": [
  {
   "cell_type": "markdown",
   "metadata": {},
   "source": [
    "# Assignment 2"
   ]
  },
  {
   "cell_type": "markdown",
   "metadata": {},
   "source": [
    "This notebook is the solution to HW2, written by Yaniv Bin and Tair Hakman."
   ]
  },
  {
   "cell_type": "markdown",
   "metadata": {},
   "source": [
    "We first would like to import all the required modules in order for our code to run properly:"
   ]
  },
  {
   "cell_type": "code",
   "execution_count": 1,
   "metadata": {
    "collapsed": true
   },
   "outputs": [],
   "source": [
    "import os.path\n",
    "from os.path import abspath, dirname, join\n",
    "import numpy as np\n",
    "import matplotlib.pyplot as plt\n",
    "from collections import defaultdict\n",
    "import gzip, string, nltk\n",
    "from nltk.corpus import conll2002\n",
    "from sklearn.feature_extraction import DictVectorizer\n",
    "from sklearn.linear_model import LogisticRegression\n",
    "import sklearn.metrics as metrics\n",
    "from sklearn.naive_bayes import GaussianNB\n",
    "\n",
    "from sklearn.externals.six.moves import html_parser\n",
    "from sklearn.externals.six.moves.urllib.request import urlretrieve\n",
    "from sklearn.datasets import get_data_home\n",
    "import tarfile\n",
    "import itertools\n",
    "from glob import glob\n",
    "import re\n",
    "import pandas as pd\n",
    "from nltk import word_tokenize"
   ]
  },
  {
   "cell_type": "markdown",
   "metadata": {},
   "source": [
    "## Part 1"
   ]
  },
  {
   "cell_type": "markdown",
   "metadata": {},
   "source": [
    "Our first task is identifying complex words. In order to do so we will use the data provided. \n",
    "first we need to load the data using the provided functions. \n",
    "<br>(For a better flow we modified the skeleton code within the notebook, but we added the edit into the skeleton file as well) "
   ]
  },
  {
   "cell_type": "code",
   "execution_count": 2,
   "metadata": {
    "collapsed": true
   },
   "outputs": [],
   "source": [
    "def load_file(data_file):\n",
    "    words = []\n",
    "    labels = []   \n",
    "    with open(data_file, 'rt', encoding=\"utf8\") as f:\n",
    "        i = 0\n",
    "        for line in f:\n",
    "            if i > 0:\n",
    "                line_split = line[:-1].split(\"\\t\")\n",
    "                words.append(line_split[0].lower())\n",
    "                labels.append(int(line_split[1]))\n",
    "            i += 1\n",
    "    return words, labels"
   ]
  },
  {
   "cell_type": "markdown",
   "metadata": {},
   "source": [
    "And loading the data:"
   ]
  },
  {
   "cell_type": "code",
   "execution_count": 3,
   "metadata": {
    "collapsed": true
   },
   "outputs": [],
   "source": [
    "training_file = abspath(join(dirname(\"__file__\"), \"data/complex_words_training.txt\"))\n",
    "development_file = abspath(join(dirname(\"__file__\"), \"data/complex_words_development.txt\"))\n",
    "test_file = abspath(join(dirname(\"__file__\"), \"data/complex_words_test_unlabeled.txt\"))"
   ]
  },
  {
   "cell_type": "markdown",
   "metadata": {},
   "source": [
    "Now that we have the data we may start working on the actual assignment. "
   ]
  },
  {
   "cell_type": "markdown",
   "metadata": {},
   "source": [
    "### Part 1.1 - Evaluation Matrics"
   ]
  },
  {
   "cell_type": "markdown",
   "metadata": {},
   "source": [
    "Usually in order to evaluate how well a classifcation algorithm works we use three measures - \n",
    "- Precision: Measure how 'useful' the results are (how many are hits and how many are miss)\n",
    "- Recall: Measure how 'complete' the results are (out off all the actually possible results, how many did we hit)\n",
    "- Fscore: Measure the balance between the Precision and Recall\n",
    "\n",
    "We would like to implement functions that compose each of these matrics "
   ]
  },
  {
   "cell_type": "markdown",
   "metadata": {},
   "source": [
    "We will start by calculating the precision - the precision is defined as:\n",
    "<br>$precision = \\frac{tp}{tp + fp}$\n",
    "<br>Where $tp$ stands for true-positive meaning a hit, and $fp$ stands for false-positive meaning the prediction is positive but it's actually a false alarm"
   ]
  },
  {
   "cell_type": "code",
   "execution_count": 4,
   "metadata": {
    "collapsed": true
   },
   "outputs": [],
   "source": [
    "## Input: y_pred, a list of length n with the predicted labels,\n",
    "## y_true, a list of length n with the true labels\n",
    "\n",
    "## Calculates the precision of the predicted labels\n",
    "def get_precision(y_pred, y_true):\n",
    "    positive_hits_array = np.array([(1 if(y_pred[i] == y_true[i] == 1) else 0) for i in range(len(y_pred))])\n",
    "    positive_hits = np.count_nonzero(positive_hits_array == 1)\n",
    "    total_positive = np.count_nonzero(np.array(y_pred) == 1)\n",
    "    precision = float(positive_hits) / float(total_positive)\n",
    "    return precision"
   ]
  },
  {
   "cell_type": "code",
   "execution_count": 9,
   "metadata": {},
   "outputs": [],
   "source": [
    "y_pred = [0, 1, 1, 0]\n",
    "y_true = [0, 0, 1, 1]\n",
    "# Here we have one true positive at position 2, and 1 false positive at position 1\n",
    "assert(get_precision(y_pred, y_true) == (1/(1+1)))"
   ]
  },
  {
   "cell_type": "markdown",
   "metadata": {},
   "source": [
    "The second measure we will implement is the recall, calculated as follows\n",
    "<br>$recall = \\frac{tp}{tp + fn}$\n",
    "<br>Where $fn$ stands for false-negative, meaning the prediction is negative also it should have been positive(a miss)."
   ]
  },
  {
   "cell_type": "code",
   "execution_count": 11,
   "metadata": {
    "collapsed": true
   },
   "outputs": [],
   "source": [
    "## Calculates the recall of the predicted labels\n",
    "def get_recall(y_pred, y_true):\n",
    "    positive_hits_array = np.array([(1 if(y_pred[i] == y_true[i] == 1) else 0) for i in range(len(y_pred))])\n",
    "    positive_hits = np.count_nonzero(positive_hits_array == 1)\n",
    "    total_positive = np.count_nonzero(np.array(y_true) == 1)\n",
    "    recall = float(positive_hits) / float(total_positive)\n",
    "    return recall"
   ]
  },
  {
   "cell_type": "code",
   "execution_count": 13,
   "metadata": {},
   "outputs": [],
   "source": [
    "y_pred = [0, 1, 1, 0]\n",
    "y_true = [1, 0, 1, 1]\n",
    "# We have one true positive at position 2, and two false negative at positions 0 and 3\n",
    "assert(get_recall(y_pred, y_true) == (1/(1 + 2)))"
   ]
  },
  {
   "cell_type": "markdown",
   "metadata": {},
   "source": [
    "and the last measure we want to implement is the fscore(also known as f1) which is calculated as:\n",
    "<br>$F = 2 * \\frac{precision*recall}{precision + recall}$\n",
    "<br> F score measure the relation between the precision and recall, the results vary between 0 and 1, but once it's equal 1 that means the relation is exact meaning the classifier is perfect. "
   ]
  },
  {
   "cell_type": "code",
   "execution_count": 14,
   "metadata": {
    "collapsed": true
   },
   "outputs": [],
   "source": [
    "## Calculates the f-score of the predicted labels\n",
    "def get_fscore(y_pred, y_true):\n",
    "    precision = get_precision(y_pred, y_true)\n",
    "    recall = get_recall(y_pred, y_true)\n",
    "    fscore = 2 * float(precision * recall) / float(precision + recall)\n",
    "    return fscore"
   ]
  },
  {
   "cell_type": "code",
   "execution_count": 22,
   "metadata": {},
   "outputs": [],
   "source": [
    "y_pred = [0, 1, 1, 0]\n",
    "y_true = [1, 0, 1, 1]\n",
    "# precision is 1/2, recall is 1/3\n",
    "assert(get_fscore(y_pred, y_true) == 2*(((1/2)*(1/3))/(1/2+1/3)))"
   ]
  },
  {
   "cell_type": "markdown",
   "metadata": {},
   "source": [
    "For our own good we would also like to implement a function that prints out all the information given the two arrays:"
   ]
  },
  {
   "cell_type": "code",
   "execution_count": 23,
   "metadata": {
    "collapsed": true
   },
   "outputs": [],
   "source": [
    "def test_predictions(y_pred, y_true):\n",
    "    print(\"Precision:\", get_precision(y_pred, y_true))\n",
    "    print(\"Recall:\", get_recall(y_pred, y_true))\n",
    "    print(\"Fscore:\", get_fscore(y_pred, y_true))"
   ]
  },
  {
   "cell_type": "code",
   "execution_count": 24,
   "metadata": {},
   "outputs": [
    {
     "name": "stdout",
     "output_type": "stream",
     "text": [
      "Precision: 0.5\n",
      "Recall: 0.3333333333333333\n",
      "Fscore: 0.4\n"
     ]
    }
   ],
   "source": [
    "y_pred = [0, 1, 1, 0]\n",
    "y_true = [1, 0, 1, 1]\n",
    "test_predictions(y_pred, y_true)"
   ]
  },
  {
   "cell_type": "markdown",
   "metadata": {},
   "source": [
    "Now after implementing the functions, we can go on and implement actual classifiers. "
   ]
  },
  {
   "cell_type": "markdown",
   "metadata": {},
   "source": [
    "### Part 1.2 - Baselines"
   ]
  },
  {
   "cell_type": "markdown",
   "metadata": {},
   "source": [
    "#### Part 1.2.1 - All complex"
   ]
  },
  {
   "cell_type": "markdown",
   "metadata": {},
   "source": [
    "The first classifier we will implement is a very simple one that classifies all the words as complex no matter what they actually are."
   ]
  },
  {
   "cell_type": "code",
   "execution_count": 25,
   "metadata": {
    "collapsed": true
   },
   "outputs": [],
   "source": [
    "## Labels every word complex\n",
    "def all_complex(data_file):\n",
    "    words, actual_labels = load_file(data_file)\n",
    "    all_complex_labels = np.ones((len(words),), dtype=int)\n",
    "    precision = get_precision(all_complex_labels, actual_labels)\n",
    "    recall = get_recall(all_complex_labels, actual_labels)\n",
    "    fscore = get_fscore(all_complex_labels, actual_labels)\n",
    "    performance = [precision, recall, fscore]\n",
    "    return performance"
   ]
  },
  {
   "cell_type": "markdown",
   "metadata": {},
   "source": [
    "And we shall test it with each of the files:"
   ]
  },
  {
   "cell_type": "code",
   "execution_count": 43,
   "metadata": {},
   "outputs": [
    {
     "name": "stdout",
     "output_type": "stream",
     "text": [
      "Training Precision: 0.43275 \n",
      "Training Recall: 1.0 \n",
      "Training Fscore: 0.604083057058105\n"
     ]
    }
   ],
   "source": [
    "ac_tr_precision, ac_tr_recall, ac_tr_fscore = all_complex(training_file)\n",
    "print(\"Training Precision: {} \\nTraining Recall: {} \\nTraining Fscore: {}\".format(ac_tr_precision, ac_tr_recall, ac_tr_fscore))"
   ]
  },
  {
   "cell_type": "code",
   "execution_count": 44,
   "metadata": {},
   "outputs": [
    {
     "name": "stdout",
     "output_type": "stream",
     "text": [
      "Dev Precision: 0.418 \n",
      "Dev Recall: 1.0 \n",
      "Dev Fscore: 0.5895627644569816\n"
     ]
    }
   ],
   "source": [
    "ac_dv_precision, ac_dv_recall, ac_dv_fscore = all_complex(development_file)\n",
    "print(\"Dev Precision: {} \\nDev Recall: {} \\nDev Fscore: {}\".format(ac_dv_precision, ac_dv_recall, ac_dv_fscore))"
   ]
  },
  {
   "cell_type": "markdown",
   "metadata": {},
   "source": [
    "One can note how the recall of this model is always 1 - that makes sense because although it probably has a lot of false positives - it never \"miss\" in terms of false negtive because it's always positive. "
   ]
  },
  {
   "cell_type": "markdown",
   "metadata": {},
   "source": [
    "#### Part 1.2.2 - word length"
   ]
  },
  {
   "cell_type": "markdown",
   "metadata": {},
   "source": [
    "The second baseline we will implement is a word length based one, which gives a positive value to a word if it's length goes past a certain threshold."
   ]
  },
  {
   "cell_type": "code",
   "execution_count": 28,
   "metadata": {
    "collapsed": true
   },
   "outputs": [],
   "source": [
    "### 1.2.2: Word length thresholding\n",
    "def word_length_baseline(data_file, threshold):\n",
    "    words, actual_labels = load_file(data_file)\n",
    "    threshold_labels = [(1 if(len(word) >= threshold) else 0) for word in words]\n",
    "    \n",
    "    precision = get_precision(threshold_labels, actual_labels)\n",
    "    recall = get_recall(threshold_labels, actual_labels)\n",
    "    fscore = get_fscore(threshold_labels, actual_labels)\n",
    "    preformance = [precision, recall, fscore]\n",
    "    return preformance"
   ]
  },
  {
   "cell_type": "markdown",
   "metadata": {},
   "source": [
    "We want to run this for both the training dataset and the development dataset for different threshold values, and plot this:"
   ]
  },
  {
   "cell_type": "code",
   "execution_count": 29,
   "metadata": {
    "scrolled": true
   },
   "outputs": [
    {
     "data": {
      "image/png": "[encoded data removed]",
      "text/plain": [
       "<matplotlib.figure.Figure at 0x7f0715ead6d8>"
      ]
     },
     "metadata": {},
     "output_type": "display_data"
    }
   ],
   "source": [
    "precisions = np.zeros(15)\n",
    "recall = np.zeros(15)\n",
    "fscores = np.zeros(15)\n",
    "for i in range(15):\n",
    "    tprecision, trecall, tfscore = word_length_baseline(training_file, i)\n",
    "    precisions[i] = tprecision\n",
    "    recall[i] = trecall\n",
    "    fscores[i] = tfscore\n",
    "\n",
    "plt.figure(num=1, figsize=(10, 10))\n",
    "pr_plt = plt.subplot(2 ,1, 1, xlabel=\"recall\", ylabel=\"precision\", label=\"pr\")\n",
    "pr_plt.set_title(\"precision/recall\", y=1.08)\n",
    "pr_plt.plot(recall, precisions)\n",
    "\n",
    "fs_plt = plt.subplot(2 ,1, 2, xlabel=\"threshold\", ylabel=\"fscore\", label=\"fs\")\n",
    "fs_plt.set_title(\"fscore measure\", y=1.01)\n",
    "fs_plt.plot(range(15), fscores)\n",
    "plt.show()"
   ]
  },
  {
   "cell_type": "markdown",
   "metadata": {},
   "source": [
    "We can see that once the recall is big the precision is small and vice versa, that's because the two complement eachother. "
   ]
  },
  {
   "cell_type": "markdown",
   "metadata": {},
   "source": [
    "Now we can go about building the \"ideal\" threshold classifier:"
   ]
  },
  {
   "cell_type": "code",
   "execution_count": 30,
   "metadata": {
    "collapsed": true
   },
   "outputs": [],
   "source": [
    "## Finds the best length threshold by f-score, and uses this threshold to\n",
    "## classify the training and development set\n",
    "def word_length_threshold(training_file, development_file):\n",
    "    best_tfscore = 0.0\n",
    "    best_i = 1\n",
    "    i = 1\n",
    "    while(True):\n",
    "        tprecision, trecall, tfscore = word_length_baseline(training_file, i)\n",
    "        if(tfscore < best_tfscore):\n",
    "            break\n",
    "        else:\n",
    "            best_i = i\n",
    "            i += 1\n",
    "            best_tfscore = tfscore\n",
    "            \n",
    "    tprecision, trecall, tfscore = word_length_baseline(training_file, best_i)\n",
    "    dprecision, drecall, dfscore = word_length_baseline(development_file, best_i)\n",
    "    training_performance = [tprecision, trecall, tfscore]\n",
    "    development_performance = [dprecision, drecall, dfscore]\n",
    "    return training_performance, development_performance"
   ]
  },
  {
   "cell_type": "code",
   "execution_count": 41,
   "metadata": {},
   "outputs": [
    {
     "name": "stdout",
     "output_type": "stream",
     "text": [
      "Training Precision: 0.6007401315789473 \n",
      "Training Recall: 0.8440207972270364 \n",
      "Training Fscore: 0.7018976699495555\n",
      "\n",
      "Dev Precision: 0.6053511705685619 \n",
      "Dev Recall: 0.8660287081339713 \n",
      "Dev Fscore: 0.7125984251968505\n"
     ]
    }
   ],
   "source": [
    "wl_training_performance, wl_development_performance = word_length_threshold(training_file, development_file)\n",
    "wl_tr_precision, wl_tr_recall, wl_tr_fscore = wl_training_performance\n",
    "wl_dv_precision, wl_dv_recall, wl_dv_fscore = wl_development_performance\n",
    "print(\"Training Precision: {} \\nTraining Recall: {} \\nTraining Fscore: {}\\n\".format(wl_tr_precision, wl_tr_recall, wl_tr_fscore))\n",
    "print(\"Dev Precision: {} \\nDev Recall: {} \\nDev Fscore: {}\".format(wl_dv_precision, wl_dv_recall, wl_dv_fscore))"
   ]
  },
  {
   "cell_type": "markdown",
   "metadata": {},
   "source": [
    "If we look at the threshold to Fscore graph it somewhat fits what we would expect - words that are long (around 6 chars) are usually considered complexed therefore the classifier was right. If we set the threshold too low we'd get a lot of false positives, so the precision will be high, but we will get a bad recall, meaning our classifier is very insensitive and doesn't preform well. If we take a high threshold, not many words will pass it (because there are not many words that are over 8 chars long), so we will get a lot of false negatives. "
   ]
  },
  {
   "cell_type": "markdown",
   "metadata": {},
   "source": [
    "#### Part 1.2.3 - Word Frequency "
   ]
  },
  {
   "cell_type": "markdown",
   "metadata": {},
   "source": [
    "We now want to implement a method that classifies based on the frequency of a given word in the language, for that we use Google Ngram Counts - so we first have to load it:"
   ]
  },
  {
   "cell_type": "code",
   "execution_count": 32,
   "metadata": {
    "collapsed": true
   },
   "outputs": [],
   "source": [
    "### 1.2.3: Word frequency thresholding\n",
    "\n",
    "## Loads Google NGram counts\n",
    "def load_ngram_counts(ngram_counts_file): \n",
    "    counts = defaultdict(int) \n",
    "    with gzip.open(ngram_counts_file, 'rt') as f: \n",
    "        for line in f:\n",
    "            token, count = line.strip().split('\\t') \n",
    "            if token[0].islower(): \n",
    "                counts[token] = int(count) \n",
    "    return counts\n",
    "\n",
    "ngram_path = abspath(join(dirname(\"__file__\"), \"data/ngram_counts.txt.gz\"))\n",
    "ngram_counts = load_ngram_counts(ngram_path)"
   ]
  },
  {
   "cell_type": "markdown",
   "metadata": {},
   "source": [
    "Now that we have it, we can write a code that use thresholding - if the word count of a certain word is lower than the threshold it gives it 0 and otherwise 1"
   ]
  },
  {
   "cell_type": "code",
   "execution_count": 33,
   "metadata": {
    "collapsed": true
   },
   "outputs": [],
   "source": [
    "def word_frequency_baseline(data_file, counts, threshold):\n",
    "    words, actual_labels = load_file(data_file)\n",
    "    threshold_labels = [(1 if(counts[word] >= threshold) else 0) for word in words]\n",
    "    \n",
    "    precision = get_precision(threshold_labels, actual_labels)\n",
    "    recall = get_recall(threshold_labels, actual_labels)\n",
    "    fscore = get_fscore(threshold_labels, actual_labels)\n",
    "    preformance = [precision, recall, fscore]\n",
    "    return preformance"
   ]
  },
  {
   "cell_type": "markdown",
   "metadata": {},
   "source": [
    "Now we can test this method using different values for the threshold - We used a range of 30 random numbers between 10 to 2000000 (after examining the Google Ngrams Count) "
   ]
  },
  {
   "cell_type": "code",
   "execution_count": 34,
   "metadata": {},
   "outputs": [
    {
     "data": {
      "image/png": "[encoded data removed]",
      "text/plain": [
       "<matplotlib.figure.Figure at 0x7f06f64c8518>"
      ]
     },
     "metadata": {},
     "output_type": "display_data"
    }
   ],
   "source": [
    "precisions = np.zeros(30)\n",
    "recall = np.zeros(30)\n",
    "fscores = np.zeros(30)\n",
    "thresholds = np.sort(np.random.randint(10, 2000000, size=30, dtype=int))\n",
    "for i in range(30):\n",
    "    tprecision, trecall, tfscore = word_frequency_baseline(training_file, ngram_counts, thresholds[i])\n",
    "    precisions[i] = tprecision\n",
    "    recall[i] = trecall\n",
    "    fscores[i]=tfscore\n",
    "\n",
    "    \n",
    "plt.figure(num=3, figsize=(10, 10))\n",
    "pr_plt = plt.subplot(2 ,1, 1, xlabel=\"recall\", ylabel=\"precision\", label=\"pr\")\n",
    "pr_plt.set_title(\"precision/recall\", y=1.08)\n",
    "pr_plt.plot(recall, precisions)\n",
    "\n",
    "fs_plt = plt.subplot(2 ,1, 2, xlabel=\"threshold\", ylabel=\"fscore\", label=\"fs\")\n",
    "fs_plt.set_title(\"fscore measure\", y=1.01)\n",
    "fs_plt.plot(thresholds, fscores)\n",
    "plt.show()"
   ]
  },
  {
   "cell_type": "markdown",
   "metadata": {},
   "source": [
    "We can see (and it makes sense) that the tresholds can vary the recall and precision - a higher recall will be when the threshold is high, and a lower one when it's low and the exact opposite happens with the precision. We do see once we set the threshold lower we get a better fscore. "
   ]
  },
  {
   "cell_type": "code",
   "execution_count": 35,
   "metadata": {
    "collapsed": true
   },
   "outputs": [],
   "source": [
    "# Finds the best frequency threshold by f-score, and uses this threshold to\n",
    "## classify the training and development set\n",
    "def word_frequency_threshold(training_file, development_file, counts):\n",
    "    best_tfscore = 0.0\n",
    "    i = 1\n",
    "    threshold = np.random.randint(10, 2000000, size=1, dtype=int)\n",
    "    while(True):\n",
    "        tprecision, trecall, tfscore = word_frequency_baseline(training_file, counts, threshold)\n",
    "        if(tfscore < best_tfscore):\n",
    "            break\n",
    "        else:\n",
    "            threshold = np.random.randint(10, 2000000, size=1, dtype=int)\n",
    "            best_tfscore = tfscore\n",
    "            \n",
    "    tprecision, trecall, tfscore = word_frequency_baseline(training_file, counts, threshold)\n",
    "    dprecision, drecall, dfscore = word_frequency_baseline(development_file, counts, threshold)\n",
    "    \n",
    "    training_performance = [tprecision, trecall, tfscore]\n",
    "    development_performance = [dprecision, drecall, dfscore]\n",
    "    return training_performance, development_performance"
   ]
  },
  {
   "cell_type": "code",
   "execution_count": 42,
   "metadata": {},
   "outputs": [
    {
     "name": "stdout",
     "output_type": "stream",
     "text": [
      "Training Precision: 0.3617511520737327 \n",
      "Training Recall: 0.634893125361063 \n",
      "Training Fscore: 0.4608932690291466\n",
      "\n",
      "Dev Precision: 0.3378932968536252 \n",
      "Dev Recall: 0.5909090909090909 \n",
      "Dev Fscore: 0.4299390774586597\n"
     ]
    }
   ],
   "source": [
    "wf_training_performance, wf_development_performance = word_frequency_threshold(training_file, development_file, ngram_counts)\n",
    "wf_tr_precision, wf_tr_recall, wf_tr_fscore = wf_training_performance\n",
    "wf_dv_precision, wf_dv_recall, wf_dv_fscore = wf_development_performance\n",
    "print(\"Training Precision: {} \\nTraining Recall: {} \\nTraining Fscore: {}\\n\".format(wf_tr_precision, wf_tr_recall, wf_tr_fscore))\n",
    "print(\"Dev Precision: {} \\nDev Recall: {} \\nDev Fscore: {}\".format(wf_dv_precision, wf_dv_recall, wf_dv_fscore))"
   ]
  },
  {
   "cell_type": "markdown",
   "metadata": {},
   "source": [
    "### Part 1.3 - Classifiers"
   ]
  },
  {
   "cell_type": "markdown",
   "metadata": {},
   "source": [
    "#### Part 1.3.1 - Naive Bayes Classifier"
   ]
  },
  {
   "cell_type": "markdown",
   "metadata": {},
   "source": [
    "Now that we've tried different baselines and saw the results from them, that were not that great, it's time to do actual classification.\n",
    "<br>The method we are going to use is called Naive Bayes Classification."
   ]
  },
  {
   "cell_type": "markdown",
   "metadata": {},
   "source": [
    "We personally find that explaining this method via an example makes it a bit easier to grasp instead of just overloading people with probability formulas.\n",
    "<br>We shall use our example on the given problem considering it is most fitting, and afterwards we will implement the actual code."
   ]
  },
  {
   "cell_type": "markdown",
   "metadata": {},
   "source": [
    "We have our dataset which is composed of two types of labels - 0 for a simple word, and 1 for a complex word.\n",
    "Now lets assume (for the sake of the example, the actual dataset might act differently but we shall see later) someone told us the following - there is a 70% chance of a word being simple, and a 30% chance that a word is complexed.\n",
    "Another thing they tell you is that the mean of the word length of the simple words is 4 and the mean of word length of the complex words is 7.\n",
    "<br>Now we got a new word, and it has a length of 3, what will we guess it's label is? Well, an educated guess will be to say there's a big chance it's a simple word..."
   ]
  },
  {
   "cell_type": "markdown",
   "metadata": {},
   "source": [
    "<br>__How did we assume that?__ We saw there is a high chance of being a simple word, and then we also saw the length of the word is 3 and usually shorter words are simple - so by likelihood the chances of our word being simple are pretty high.\n",
    "<br>The _Naive Bayse Classifier_ works pretty much just like that."
   ]
  },
  {
   "cell_type": "markdown",
   "metadata": {},
   "source": [
    "<br>__How exactly does it work__\n",
    "<br> First thing to note is that the classifier assumes independence among features, this is not always true in real life (actually, it usually isn't...) but it simplifies the model - in our case it will assume there's no relation between the length of a word and it's frequency (although in reallity it's safe to assume a really long word won't be that frequent). \n",
    "Because of how wrong this assumption is, the classifier got the name _naive_."
   ]
  },
  {
   "cell_type": "markdown",
   "metadata": {},
   "source": [
    "What the classifier does is to find the probability of belonging to a class, given a set of features, in our case we can write it down as $P(simple | f_{length}, f_{freq})$"
   ]
  },
  {
   "cell_type": "markdown",
   "metadata": {},
   "source": [
    "Once we have that we can use the Bayse rule to get this probabilty:\n",
    "<br>$P(simple \\vert f_{length}, f_{freq}) = \\frac{P(simple) * P(f_{length}, f_{freq} \\vert simple)}{P(f_{length}, f_{freq})}$"
   ]
  },
  {
   "cell_type": "markdown",
   "metadata": {},
   "source": [
    "We already know $P(simple)=0.7$ and we don't need $P(f_{length}, f_{freq})$ to build a classifier, so all we are left to do is calculate $P(f_{length}, f_{freq} \\vert simple)$ . "
   ]
  },
  {
   "cell_type": "markdown",
   "metadata": {},
   "source": [
    "If we apply the conditional probability formula we will get:\n",
    "<br>$P(f_{length}, f_{freq} \\vert simple) = P(f_{length} \\vert simple) * P(f_{freq} \\vert simple, f_{length})$\n",
    "<br><br>Or in the general case (not our example) for $n$ features and a label $l$ we get:\n",
    "<br>$P(f_1, f_2, f_3, \\dots , f_n | l) = P(f_1 \\vert l) * P(f_2 \\vert l, f_1) * \\dots * P(f_n \\vert l, f_1, \\dots, f_{n-1})$"
   ]
  },
  {
   "cell_type": "markdown",
   "metadata": {},
   "source": [
    "One can note that if we had n features, this will require a lot of data because we will have to have data for each of these assumption, but we don't actually need it. Why? well, this is where the _naive_ part comes in handy - we assumed all features are independent, so what we actually get is:\n",
    "<br> $P(f_{length}, f_{freq} | simple) = P(f_{length} \\vert simple) * P(f_{freq} \\vert simple)$\n",
    "<br><br>Or in the general case:\n",
    "<br>$P(f_1, f_2, f_3, \\dots , f_n \\vert l) = \\prod{P(f_i|l)}$"
   ]
  },
  {
   "cell_type": "markdown",
   "metadata": {},
   "source": [
    "So now finally to classify a new vector of features we have to choose the label for it (simple 0 or complex 1), to do so all we have to do is:\n",
    "<br>\n",
    "$Classifier(f_{l'}, f_{f'}) = \\arg\\max_{s\\in{0, 1}}P(f_{l'}, f_{f'} \\vert s)$ \n",
    "<br><br>Or in the general case for $m$ labels and $n$ features:\n",
    "<br>\n",
    "$Classifier(f_{1},\\dots, f_{n}) = \\arg\\max_{s\\in{0,\\dots,m}}P(f_{1},\\dots, f_{n} \\vert s)$"
   ]
  },
  {
   "cell_type": "markdown",
   "metadata": {},
   "source": [
    "__implementation__\n",
    "<br>So now that we get the reasoning behind this method, we can go along and implement the classifier.\n",
    "<br>One last thing to note is that we were asked to use the Guassian based classifier, this classifier assumes the features follow a _normal_ distribution (meaning all the features falls on a normal curve)."
   ]
  },
  {
   "cell_type": "markdown",
   "metadata": {},
   "source": [
    "The following code results in the classifier (note the code comments for a step by step explenation):"
   ]
  },
  {
   "cell_type": "code",
   "execution_count": 37,
   "metadata": {
    "collapsed": true
   },
   "outputs": [],
   "source": [
    "### 1.3.1: Naive Bayes\n",
    "        \n",
    "## Trains a Naive Bayes classifier using length and frequency features\n",
    "def naive_bayes(training_file, development_file, counts):\n",
    "    #import training dataset\n",
    "    t_words, t_labels = load_file(training_file)\n",
    "    t_features = {}\n",
    "    # get length features\n",
    "    t_features[\"length\"] = np.array([len(word) for word in t_words])\n",
    "    # get frequency features\n",
    "    t_features[\"frequency\"] = np.array([counts[word] for word in t_words])\n",
    "    # build features array\n",
    "    X_t_original = np.array([t_features[\"length\"], t_features[\"frequency\"]]).T\n",
    "    \n",
    "    # normalize features\n",
    "    t_mean = np.mean(X_t_original)\n",
    "    t_sd = np.std(X_t_original)\n",
    "    X_t_scaled = (X_t_original - t_mean)/t_sd\n",
    "    \n",
    "    # train the classifier\n",
    "    clf = GaussianNB()\n",
    "    clf.fit(X_t_scaled, t_labels)\n",
    "    \n",
    "    # extract features for development file\n",
    "    d_words, d_labels = load_file(development_file)\n",
    "    d_features = {}\n",
    "    # get length features\n",
    "    d_features[\"length\"] = np.array([len(word) for word in d_words])\n",
    "    # get frequency features\n",
    "    d_features[\"frequency\"] = np.array([counts[word] for word in d_words])\n",
    "    # build features array\n",
    "    X_d_original = np.array([d_features[\"length\"], d_features[\"frequency\"]]).T\n",
    "    \n",
    "    # normalize development features - note how we use the training mean and sd\n",
    "    X_d_scaled = (X_d_original - t_mean)/t_sd\n",
    "    \n",
    "    dev_pred = clf.predict(X_d_scaled)\n",
    "    train_pred = clf.predict(X_t_scaled)\n",
    "    \n",
    "    tprecision = get_precision(train_pred, t_labels)\n",
    "    trecall = get_recall(train_pred, t_labels)\n",
    "    tfscore = get_fscore(train_pred, t_labels)\n",
    "    \n",
    "    dprecision = get_precision(dev_pred, d_labels)\n",
    "    drecall = get_recall(dev_pred, d_labels)\n",
    "    dfscore = get_fscore(dev_pred, d_labels)\n",
    "    \n",
    "    training_performance = [tprecision, trecall, tfscore]\n",
    "    development_performance = [dprecision, drecall, dfscore]\n",
    "    return training_performance, development_performance"
   ]
  },
  {
   "cell_type": "code",
   "execution_count": 45,
   "metadata": {},
   "outputs": [
    {
     "name": "stdout",
     "output_type": "stream",
     "text": [
      "Training Precision: 0.4853700516351119 \n",
      "Training Recall: 0.9774696707105719 \n",
      "Training Fscore: 0.6486486486486487\n",
      "\n",
      "Dev Precision: 0.4610983981693364 \n",
      "Dev Recall: 0.9641148325358851 \n",
      "Dev Fscore: 0.6238390092879257\n"
     ]
    }
   ],
   "source": [
    "nb_training_performance, nb_development_performance = naive_bayes(training_file, development_file, ngram_counts)\n",
    "nb_tr_precision, nb_tr_recall, nb_tr_fscore = nb_training_performance\n",
    "nb_dv_precision, nb_dv_recall, nb_dv_fscore = nb_development_performance\n",
    "print(\"Training Precision: {} \\nTraining Recall: {} \\nTraining Fscore: {}\\n\".format(nb_tr_precision, nb_tr_recall, nb_tr_fscore))\n",
    "print(\"Dev Precision: {} \\nDev Recall: {} \\nDev Fscore: {}\".format(nb_dv_precision, nb_dv_recall, nb_dv_fscore))"
   ]
  },
  {
   "cell_type": "markdown",
   "metadata": {},
   "source": [
    "if we look at the fscore measure in each of the methods we get:"
   ]
  },
  {
   "cell_type": "code",
   "execution_count": 48,
   "metadata": {},
   "outputs": [
    {
     "data": {
      "image/png": "[encoded data removed]",
      "text/plain": [
       "<matplotlib.figure.Figure at 0x7f06f62f5a58>"
      ]
     },
     "metadata": {},
     "output_type": "display_data"
    }
   ],
   "source": [
    "plt.figure(num=5, figsize=(10, 10))\n",
    "types = [\"all complex\", \"word length\",\"word frequency\", \"naive bayse\"]\n",
    "f_scores_tr = [ac_tr_fscore, wl_tr_fscore, wf_tr_fscore, nb_tr_fscore]\n",
    "f_scores_dv = [ac_dv_fscore, wl_dv_fscore, wf_dv_fscore, nb_dv_fscore]\n",
    "bar_colors = ['b', 'g', 'r', 'c']\n",
    "ax_tr = plt.subplot(211)\n",
    "rectangles_tr = plt.bar(range(len(types)), f_scores_tr, width=0.5,\n",
    "                     color=bar_colors)\n",
    "ax_tr.set_xticks(np.linspace(0, len(types) - 1, len(types)))\n",
    "ax_tr.set_xticklabels(types, fontsize=10)\n",
    "ax_tr.set_ylabel('fscore (s)')\n",
    "ax_tr.set_title('Training set Fscore', y=1.08)\n",
    "\n",
    "ax_dv = plt.subplot(212)\n",
    "rectangles_dv = plt.bar(range(len(types)), f_scores_dv, width=0.5,\n",
    "                     color=bar_colors)\n",
    "ax_dv.set_xticks(np.linspace(0, len(types) - 1, len(types)))\n",
    "ax_dv.set_xticklabels(types, fontsize=10)\n",
    "ax_dv.set_ylabel('fscore (s)')\n",
    "ax_dv.set_title('Development set Fscore', y=1.08)\n",
    "\n",
    "\n",
    "def autolabel(ax, rectangles):\n",
    "    \"\"\"attach some text vi autolabel on rectangles.\"\"\"\n",
    "    for rect in rectangles:\n",
    "        height = rect.get_height()\n",
    "        ax.text(rect.get_x() + rect.get_width() / 2.,\n",
    "                1.05 * height, '%.4f' % height,\n",
    "                ha='center', va='bottom')\n",
    "        plt.setp(plt.xticks()[1], rotation=30)\n",
    "\n",
    "\n",
    "autolabel(ax_tr, rectangles_tr)\n",
    "autolabel(ax_dv, rectangles_dv)\n",
    "plt.tight_layout()\n",
    "plt.show()"
   ]
  },
  {
   "cell_type": "markdown",
   "metadata": {},
   "source": [
    "__#TODO__ _explain why_"
   ]
  },
  {
   "cell_type": "markdown",
   "metadata": {},
   "source": [
    "### Part 1.4 - ambiguity"
   ]
  },
  {
   "cell_type": "markdown",
   "metadata": {},
   "source": [
    "In some cases the way a words is classified is based on it's context, meaning sometimes a word can be classified as a simple word and sometimes as a difficult word, all because of the context it appeared in. \n",
    "\n",
    "We would like to show an example for that - in order to do so, we will find two instances of the same word labeled differently in the training set (the code can easily be adapted to any other set, we chose the training one because it made more sense), then we will explore the context trying to infere why they were tagged differently. "
   ]
  },
  {
   "cell_type": "markdown",
   "metadata": {},
   "source": [
    "The first thing we'd like to do is to load the context as well as the words, so we can show how it modifies the classification. In order to do so we need to change the file loading code a bit:"
   ]
  },
  {
   "cell_type": "code",
   "execution_count": null,
   "metadata": {
    "collapsed": true
   },
   "outputs": [],
   "source": [
    "def load_file_with_context(data_file):\n",
    "    words = []\n",
    "    labels = []   \n",
    "    contexts = []\n",
    "    with open(data_file, 'rt', encoding=\"utf8\") as f:\n",
    "        i = 0\n",
    "        for line in f:\n",
    "            if i > 0:\n",
    "                line_split = line[:-1].split(\"\\t\")\n",
    "                words.append(line_split[0].lower())\n",
    "                labels.append(int(line_split[1]))\n",
    "                contexts.append(line_split[3])\n",
    "            i += 1\n",
    "    return words, labels, contexts"
   ]
  },
  {
   "cell_type": "markdown",
   "metadata": {},
   "source": [
    "And using the code one the training data we get"
   ]
  },
  {
   "cell_type": "code",
   "execution_count": null,
   "metadata": {
    "collapsed": true
   },
   "outputs": [],
   "source": [
    "words, labels, contexts = load_file_with_context(training_file)\n",
    "print(words[0],labels[0],contexts[0])"
   ]
  },
  {
   "cell_type": "markdown",
   "metadata": {},
   "source": [
    "Now what we need to do is find a words with multiple instances that differ in how it's labeled. \n",
    "<br>To do so we will find for each word all it's instances in the words list, and then for words with mulitple labels we will look into the labels to see if they differ, if so we will check the context in which they appear to get a better grasp on why the context matter."
   ]
  },
  {
   "cell_type": "code",
   "execution_count": null,
   "metadata": {
    "collapsed": true
   },
   "outputs": [],
   "source": [
    "def find_context_sensitive_words(words, labels, contexts):\n",
    "    words = np.array(words)\n",
    "    differences = []\n",
    "    for word in words:\n",
    "        ii = np.where(words == word)[0]\n",
    "        if(len(ii) > 1):\n",
    "            diff = [(i, j) for i in ii for j in ii if(not labels[i] == labels[j])]\n",
    "            if(len(diff) > 0):\n",
    "                # We only have to iterate it half way because the other half is a mirror of the first\n",
    "                for i in range(int(len(diff)/2)):\n",
    "                    differences.append((words[diff[i][0]], diff[i][0], diff[i][1]))\n",
    "    return differences"
   ]
  },
  {
   "cell_type": "code",
   "execution_count": null,
   "metadata": {
    "collapsed": true
   },
   "outputs": [],
   "source": [
    "ambiguity = find_context_sensitive_words(words, labels, contexts)"
   ]
  },
  {
   "cell_type": "markdown",
   "metadata": {},
   "source": [
    "And we can show all these words:"
   ]
  },
  {
   "cell_type": "code",
   "execution_count": null,
   "metadata": {
    "collapsed": true
   },
   "outputs": [],
   "source": [
    "for couple in ambiguity:\n",
    "    word, index_a, index_b = couple\n",
    "    print(\"Word:\", word)\n",
    "    print(\"Labeled as {} in index {} and as {} in index {}\".format(labels[index_a], index_a, labels[index_b], index_b))\n",
    "    print(\"First context:\\n\", contexts[index_a], \"\\n\")\n",
    "    print( \"Second context:\\n\", contexts[index_b], \"\\n\")"
   ]
  },
  {
   "cell_type": "markdown",
   "metadata": {},
   "source": [
    "When looking at some of the words one can see how and why they were labeled differently:\n",
    "- If we look at the word _sprouts_ it appears in two contexts - firstly as a name of a place \"Sprouts Farmer\" which makes it a very easy identification, but then as a 'sprinkle of sprouts' which is much more complexed (especially if like us you're not a native English speaker and had to google 'sprouts')\n",
    "- If we look at the word _element_ , seemengly a simple word, it can come as an actual element like in the first context(\"the heaviest element\") but it can also appear in as a slang word - \"in his element\" like in the second context, which complicate things. "
   ]
  },
  {
   "cell_type": "markdown",
   "metadata": {},
   "source": [
    "## Part 2"
   ]
  },
  {
   "cell_type": "markdown",
   "metadata": {},
   "source": [
    "### Part 2.1"
   ]
  },
  {
   "cell_type": "markdown",
   "metadata": {},
   "source": [
    "___Remark___ : We did now want to load the entire notebook as part of our notebook because that will just be overloading on our notebook, but we do want to touch upon required information so we imported the methods we need from the original notebook and implemented methods to fit the requirements of our question."
   ]
  },
  {
   "cell_type": "markdown",
   "metadata": {},
   "source": [
    "The first thing we want to do is to explore the dataset they used for the classifiers implementation. In order to do that we will first have to load the dataset(note that we used the code they implemented to do so, but we modified it for our need)"
   ]
  },
  {
   "cell_type": "code",
   "execution_count": null,
   "metadata": {
    "collapsed": true
   },
   "outputs": [],
   "source": [
    "class ReutersParser(html_parser.HTMLParser):\n",
    "    \"\"\"Utility class to parse a SGML file and yield documents one at a time.\"\"\"\n",
    "\n",
    "    def __init__(self, encoding='latin-1'):\n",
    "        html_parser.HTMLParser.__init__(self)\n",
    "        self._reset()\n",
    "        self.encoding = encoding\n",
    "\n",
    "    def handle_starttag(self, tag, attrs):\n",
    "        method = 'start_' + tag\n",
    "        getattr(self, method, lambda x: None)(attrs)\n",
    "\n",
    "    def handle_endtag(self, tag):\n",
    "        method = 'end_' + tag\n",
    "        getattr(self, method, lambda: None)()\n",
    "\n",
    "    def _reset(self):\n",
    "        self.in_title = 0\n",
    "        self.in_body = 0\n",
    "        self.in_topics = 0\n",
    "        self.in_topic_d = 0\n",
    "        self.title = \"\"\n",
    "        self.body = \"\"\n",
    "        self.topics = []\n",
    "        self.topic_d = \"\"\n",
    "\n",
    "    def parse(self, fd):\n",
    "        self.docs = []\n",
    "        for chunk in fd:\n",
    "            self.feed(chunk.decode(self.encoding))\n",
    "            for doc in self.docs:\n",
    "                yield doc\n",
    "            self.docs = []\n",
    "        self.close()\n",
    "\n",
    "    def handle_data(self, data):\n",
    "        if self.in_body:\n",
    "            self.body += data\n",
    "        elif self.in_title:\n",
    "            self.title += data\n",
    "        elif self.in_topic_d:\n",
    "            self.topic_d += data\n",
    "\n",
    "    def start_reuters(self, attributes):\n",
    "        pass\n",
    "\n",
    "    def end_reuters(self):\n",
    "        self.body = re.sub(r'\\s+', r' ', self.body)\n",
    "        self.docs.append({'title': self.title,\n",
    "                          'body': self.body,\n",
    "                          'topics': self.topics})\n",
    "        self._reset()\n",
    "\n",
    "    def start_title(self, attributes):\n",
    "        self.in_title = 1\n",
    "\n",
    "    def end_title(self):\n",
    "        self.in_title = 0\n",
    "\n",
    "    def start_body(self, attributes):\n",
    "        self.in_body = 1\n",
    "\n",
    "    def end_body(self):\n",
    "        self.in_body = 0\n",
    "\n",
    "    def start_topics(self, attributes):\n",
    "        self.in_topics = 1\n",
    "\n",
    "    def end_topics(self):\n",
    "        self.in_topics = 0\n",
    "\n",
    "    def start_d(self, attributes):\n",
    "        self.in_topic_d = 1\n",
    "\n",
    "    def end_d(self):\n",
    "        self.in_topic_d = 0\n",
    "        self.topics.append(self.topic_d)\n",
    "        self.topic_d = \"\"\n",
    "\n",
    "\n",
    "def stream_reuters_documents(data_path=None):\n",
    "    DOWNLOAD_URL = ('http://archive.ics.uci.edu/ml/machine-learning-databases/'\n",
    "                        'reuters21578-mld/reuters21578.tar.gz')\n",
    "    ARCHIVE_FILENAME = 'reuters21578.tar.gz'\n",
    "    data_path = os.path.join(get_data_home(), \"reuters\")\n",
    "    if not os.path.exists(data_path):\n",
    "        \"\"\"Download the dataset.\"\"\"\n",
    "        print(\"downloading dataset (once and for all) into %s\" %\n",
    "              data_path)\n",
    "        os.mkdir(data_path)\n",
    "\n",
    "        def progress(blocknum, bs, size):\n",
    "            total_sz_mb = '%.2f MB' % (size / 1e6)\n",
    "            current_sz_mb = '%.2f MB' % ((blocknum * bs) / 1e6)\n",
    "            if _not_in_sphinx():\n",
    "                sys.stdout.write(\n",
    "                    '\\rdownloaded %s / %s' % (current_sz_mb, total_sz_mb))\n",
    "\n",
    "        archive_path = os.path.join(data_path, ARCHIVE_FILENAME)\n",
    "        urlretrieve(DOWNLOAD_URL, filename=archive_path,\n",
    "                    reporthook=progress)\n",
    "\n",
    "        print(\"untarring Reuters dataset...\")\n",
    "        tarfile.open(archive_path, 'r:gz').extractall(data_path)\n",
    "        print(\"done.\")\n",
    "          \n",
    "    parser = ReutersParser()\n",
    "    doc_counter = 0\n",
    "    docs = {\n",
    "        'title_index': [],\n",
    "        'title': [],\n",
    "        'body': [],\n",
    "        'topic': []\n",
    "    }\n",
    "    for filename in glob(os.path.join(data_path, \"*.sgm\")):\n",
    "        for doc in parser.parse(open(filename, 'rb')):\n",
    "            if(doc['topics']):\n",
    "                for topic in doc['topics']:\n",
    "                    docs['title_index'].append(doc_counter)\n",
    "                    docs['title'].append(doc['title'])\n",
    "                    docs['body'].append(doc['body'])\n",
    "                    docs['topic'].append(topic)\n",
    "            else:\n",
    "                docs['title_index'].append(doc_counter)\n",
    "                docs['title'].append(doc['title'])\n",
    "                docs['body'].append(doc['body'])\n",
    "                docs['topic'].append(None)\n",
    "            doc_counter += 1\n",
    "    return docs"
   ]
  },
  {
   "cell_type": "markdown",
   "metadata": {},
   "source": [
    "What we did is to modify the downloader function to return a dictionary of the form 'title','body', 'topic' which we then can feed into the Pandas dataframe module and explore it.\n",
    "Note how we arranged it by topics so it will be easier to handle for our needs. "
   ]
  },
  {
   "cell_type": "code",
   "execution_count": null,
   "metadata": {
    "collapsed": true
   },
   "outputs": [],
   "source": [
    "data_stream = stream_reuters_documents()"
   ]
  },
  {
   "cell_type": "code",
   "execution_count": null,
   "metadata": {},
   "outputs": [],
   "source": [
    "df = pd.DataFrame(data=data_stream)\n",
    "print(\"there are {} topics in the dataset\".format(df.topic.nunique()))\n",
    "print(\"and {} unique titles\".format(df.title.nunique()))\n",
    "print(\"there are {} documents in the dataset\".format(df.title_index.nunique()))"
   ]
  },
  {
   "cell_type": "markdown",
   "metadata": {},
   "source": [
    "Now for each of the topics we can get the count, mean, max index, std, and so on:"
   ]
  },
  {
   "cell_type": "code",
   "execution_count": null,
   "metadata": {},
   "outputs": [],
   "source": [
    "print(df.groupby('topic').describe())"
   ]
  },
  {
   "cell_type": "markdown",
   "metadata": {},
   "source": [
    "After exploring the dataset in terms of the documents it contains and the topics they are about, we want to explore the dataset content in terms of words."
   ]
  },
  {
   "cell_type": "code",
   "execution_count": null,
   "metadata": {
    "collapsed": true
   },
   "outputs": [],
   "source": [
    "def report_vocab_statistics(dataframe):    \n",
    "    print(\"statistics about the characters in each of the document's body:\\n\")\n",
    "    print(dataframe['body_length_chars'].describe(), \"\\n\")\n",
    "    \n",
    "    print(\"statistics about the words in each of the document's body:\\n\")    \n",
    "    print(dataframe['body_length_words'].describe(), \"\\n\")\n",
    "    \n",
    "    print(\"total amount of words in all the documents(body): {}\\n\".format(dataframe['body_length_words'].sum()))\n",
    "    print(\"total amount of characters in all the documents(body): {}\\n\".format(dataframe['body_length_chars'].sum()))    "
   ]
  },
  {
   "cell_type": "code",
   "execution_count": null,
   "metadata": {
    "collapsed": true
   },
   "outputs": [],
   "source": [
    "#we first want to modify the dataframe to have all the required fields for the statistics\n",
    "mod = df.drop(['topic'], axis=1)\n",
    "mod = mod.drop_duplicates(subset=['title_index'], keep='first')\n",
    "mod['body_length_chars'] = mod['body'].map(lambda x: len(x))\n",
    "mod['body_length_words'] = mod['body'].map(lambda x: len(word_tokenize(x)))    "
   ]
  },
  {
   "cell_type": "code",
   "execution_count": null,
   "metadata": {},
   "outputs": [],
   "source": [
    "report_vocab_statistics(mod)"
   ]
  },
  {
   "cell_type": "markdown",
   "metadata": {},
   "source": [
    "After reporting and gathering all the information regarding the dataset, it is time for us to start analyzing the code and what's going on in it."
   ]
  },
  {
   "cell_type": "markdown",
   "metadata": {},
   "source": [
    "The main principle the author of the code is trying to show is the idea of 'out of core' learning."
   ]
  },
  {
   "cell_type": "markdown",
   "metadata": {},
   "source": [
    "__What is out of core learning?__ \n",
    "<br>Sometimes, especially when dealing with text documents, the dataset we get to work with is much greater than the actual RAM we have on a decent computer, so we wouldn't want to load all of it in one go (that will just result in our computer slowing down until it can't go on...)"
   ]
  },
  {
   "cell_type": "markdown",
   "metadata": {},
   "source": [
    "The idea of out of core learning is this - we will load a certain amount of data each time and learn from it (batches), so generally speaking, most of our learning is done from things we don't hold in our memory anymore (therfore out of core)."
   ]
  },
  {
   "cell_type": "markdown",
   "metadata": {},
   "source": [
    "To do so, Scikit-learn implemented an API called \"partial_fit\" - a classifier that implements a partial fit works as follows: \n",
    "<br>The classifier will see a batch and then will incremently update whatever it is learning based on that batch, that way whenever a new batch arrives it learns what it needs from it and \"throws it away\" instead of holding it in memory or trying to learn everything in one go. "
   ]
  },
  {
   "cell_type": "markdown",
   "metadata": {},
   "source": [
    "For example, as we've seen just now the dataset we work with has over $2000000$ words, that is a very large dataset to work with in one batch (for example, in the last assignment we only had $978726$ and that took a while to process as well...), \n",
    "so to try and infere information from it, let alone actual learning, is a nearly impossible task if you use a regular computer. What we should do instead is 'chunk' the dataset (in the notebook they used a 1000 documents each time, and considering there are $21578$ documents, it means $\\frac{2854659}{21578} = 132.3$ (approx) words per document, so we only work with $132300$ words each time which is much more reasonable."
   ]
  },
  {
   "cell_type": "markdown",
   "metadata": {},
   "source": [
    "The formal name for the learning process we just discussed is called _online setting_ - lets farther explain it (we'll focus on classification, but there are also online settings for regression problems).\n",
    "<br>On each round we receive an instance $x_t$ and extend a prediction using our current hypothesis $w_t$(we estimate weights). \n",
    "We then receive the true target $y_t$ and suffer an instantaneous loss based on the discrepancy between $y_t$ and our prediction.\n",
    "<br>Our goal is to make the cumulative loss that we suffer small.\n",
    "Finally, we update the hypothesis according to the previous hypothesis and the current example.\n"
   ]
  },
  {
   "cell_type": "markdown",
   "metadata": {},
   "source": [
    "Even more formally - we can describe this using math as follows:"
   ]
  },
  {
   "cell_type": "markdown",
   "metadata": {},
   "source": [
    "- Given $x_t \\in R^n$ , we predict $sign(w_t * x_t)$\n",
    "- We get the true target and suffer loss - $\\max({\\epsilon - y_{t}w_{t}*x_{t}})$\n",
    "- We update the hypothesis - $w_{t+1} = g(w_t, z_t)$\n",
    "\n",
    "Usually in classification $z_t$ is set to be the distance between our results and the true prediction. "
   ]
  },
  {
   "cell_type": "markdown",
   "metadata": {},
   "source": [
    "The code they implemented test and compare a few classifiers that implement a partial fit:"
   ]
  },
  {
   "cell_type": "markdown",
   "metadata": {},
   "source": [
    "-  ___SGD___ - SGD stands for Stochastic Gradient Descent. This methood is really similar to the Gradient Desecent method we discussed in class, only this time it is stochastics, meaning the samples are selected randomly. Each sample at a time the gradient of the loss is estimated and the model is updated with a learning rate. \n",
    "\n",
    "-  ___Perceptron___ - this is an algorithm for supervised learning of a binary classifier (a classifier which determines if an inputed represented by a vector of numbers fits a class or doesn't). the algorithm is based on a linear-predictor function, which is a function of the form $g(x) = wx + b$ where $x$ is our input, $w$ is a set of weights, and $b$ is the bias. what the perceptron does if to return $1$ if $g(x) > 0$ and $0$ otherwise. The algorithm learns the set of weights(tunes the weights) based on the training data, and then once it has them and it gets a vector x from the test data it feeds it to the function $g$ with the learned weights.\n",
    "\n",
    "-  ___NB Multinomial___ - Naive Bayes Multinomial Classifier is a Naive Bayes Classifier (see Part 1 of the assignment for  explenation) for multinomial models, that means that the feature vectors represent the frequencies with which certain events have been generated by a multinomial with probabilities $p_1, \\dots, p_n$ such that $p_i$ is the probability that event $i$ occures. A feature vector in this model is therefor a histogram with $x_i$ counting the number of times event i was observed in a particular instance. In document classification this  classifier is usually used with events representing the occurrence of a word in a single document (aka bag-of-words). \n",
    "\n",
    "-  ___Passive-Aggressive___ - this type of classifier uses a measure called _hinge-loss_ in it's training process. The hinge loss is defined as \n",
    "<br>$\\ell(w; (x,y)) = \\max(0, \\delta(w,(x,y))-\\epsilon)$\n",
    "<br> where $\\delta(w,(x,y))$ is the distance between $y$ and $xw$ : $\\delta(w,(x,y)) = |y_t-(x_{t}w_{t}|$\n",
    "<br> and $\\epsilon$ is the insensitivity parameter.\n",
    "<br> The algorithm goal is to make the hinge loss as small as possible at each round.\n",
    "<br> On each round of the algorithm we update the weights based on -\n",
    "<br> $w_{t+1} = \\arg\\min_{w \\in R^n} \\frac{||w-w_t||^2}{2} \\\\ s.t \\\\ \\ell(w; (x_t,y_t)) = 0$\n",
    "<br> Which is basically a projection of $w_t$ on the space of vectors that has a 0 loss.\n",
    "<br> This algorithm is _passive_ when the hinge loss is 0, because then we get $w_{t+1} = w_t$, but it's _aggressive_ when that's not the case, because when it's not 0 it aggressively forces $\\ell(w_{t+1}; (x_t,y_t)) = 0$"
   ]
  },
  {
   "cell_type": "markdown",
   "metadata": {},
   "source": [
    "After explaining each of the Algorithms we only have one thing to address - the _hashing-vectorized_.\n",
    "<br>The method converts a collection of documents into a matrix of token occurences, and it uses scipy sparse matrix (which means that, considering this probably is a very sparse matrix, all the values that are assigned 0 are not kept in memory). The idea in this implementation is to use hashing to find the token string name to feature integer index mapping.\n",
    "<br>We need to use this method here for a few reasons:\n",
    "- It is very low in memory, we don't need to store an entire dictionary in memory. \n",
    "- There is no state computed during fit (in partial fit). \n",
    "- It holds no state besides the constructor parameters. \n",
    "\n",
    "As we note in the code, they used this method with $n_{features} = 2^{18}$, that is because if they don't do so, there might be collisions (different tokens mapped to same place)."
   ]
  },
  {
   "cell_type": "markdown",
   "metadata": {},
   "source": [
    "## Part 3"
   ]
  },
  {
   "cell_type": "markdown",
   "metadata": {},
   "source": [
    "In this task, we will create a NER (Named Entity Recognition) model that recognizes names of persons, organizations and other entities in text. We will use the CoNLL 2002 dataset. As we build the code, we will use the Spanish version of the dataset. At the end of every segment, we'll test our functions on the Dutch dataset and compare the differences. \n",
    "First, we will import the data:"
   ]
  },
  {
   "cell_type": "code",
   "execution_count": null,
   "metadata": {
    "collapsed": true
   },
   "outputs": [],
   "source": [
    "train_sents = list(conll2002.iob_sents('esp.train'))\n",
    "test_sents = list(conll2002.iob_sents('esp.testa'))\n",
    "d_train_sents = list(conll2002.iob_sents('ned.train'))\n",
    "d_test_sents = list(conll2002.iob_sents('ned.testa'))"
   ]
  },
  {
   "cell_type": "markdown",
   "metadata": {},
   "source": [
    "Let's understand how our dataset is represented. Each of the two datasets is imported as a list. Each element in the list is a **sentence**. Let's look at an example of the first element (and hence, first sentence) in the first dataset: "
   ]
  },
  {
   "cell_type": "code",
   "execution_count": null,
   "metadata": {},
   "outputs": [],
   "source": [
    "train_sents[0]"
   ]
  },
  {
   "cell_type": "markdown",
   "metadata": {},
   "source": [
    "As we can see, the sentence represented by a list of word. A word is **also** represented by a list, that contains three elements: the word itself, it's POS (Part of Speech) tagging, and it's correct NER tagging. \n",
    "\n",
    "Now that we understand our data, it's time to extract features. We'll be looking for word level features, and in this step we'll be looking at each word separately. Those are the features we've chosen to extract for every word:\n",
    "\n",
    "Form (The actual word), POS tagging, is number, does it contain a number, does it begin with a capital letter, is it all capital letters, is it a punctuation char, the first one, two and three letters of the word, the last one, two and three letters in of the word. \n",
    "Here's the code for feature extraction:"
   ]
  },
  {
   "cell_type": "code",
   "execution_count": null,
   "metadata": {
    "collapsed": true
   },
   "outputs": [],
   "source": [
    "def hasNumbers(str):\n",
    "    return any(c.isdigit() for c in str)\n",
    "\n",
    "def get_word_features (word):\n",
    "    w = word[0]\n",
    "    features = {\n",
    "     \"form\": w,\n",
    "     \"pos\": word[1],\n",
    "     \"is_number\": w.isdigit(),\n",
    "     \"contains_number\": hasNumbers(w),\n",
    "     \"beginCapital\": w[0].isupper(),\n",
    "     \"allCaps\": w.isupper(),\n",
    "     \"isPunc\": w in string.punctuation,\n",
    "     \"firstLetter\": w[0],\n",
    "     \"first2Letters\": w[0:2],\n",
    "     \"first3Letters\": w[0:3],\n",
    "     \"lastLetter\": w[-1],\n",
    "     \"last2Letters\": w[-2:],\n",
    "     \"last3Letters\": w[-3:]\n",
    "    }\n",
    "    return features"
   ]
  },
  {
   "cell_type": "markdown",
   "metadata": {},
   "source": [
    "And here's an example on the word 'Melbourne':"
   ]
  },
  {
   "cell_type": "code",
   "execution_count": null,
   "metadata": {},
   "outputs": [],
   "source": [
    "get_word_features(train_sents[0][0])"
   ]
  },
  {
   "cell_type": "markdown",
   "metadata": {},
   "source": [
    "So now we have our features, it's time to train our model. We will be using Scikit's DictVectorizer data structure to keep our data, and it's logistic regression implementation for the training. Those methods requires two seperate lists of identical size, where every element represents one word in the corpus. The first list (X) keeps the list of features for every word, and the second list (y) has the NER tagging of the word - which is the answer our model will be trying to guess.\n",
    "\n",
    "Here is the code that creates those lists:"
   ]
  },
  {
   "cell_type": "code",
   "execution_count": null,
   "metadata": {
    "collapsed": true
   },
   "outputs": [],
   "source": [
    "def get_corpus_features (corpus):\n",
    "#gets a corpus, returns a list of features for every word\n",
    "    X=[]\n",
    "    for sent in corpus:\n",
    "        X+=[get_word_features(w) for w in sent]\n",
    "    return X\n",
    "\n",
    "def get_y (corpus):\n",
    "    y=[]\n",
    "    for sent in corpus:\n",
    "        y+=[w[2] for w in sent]\n",
    "    return y"
   ]
  },
  {
   "cell_type": "markdown",
   "metadata": {},
   "source": [
    "Note that, in addition to the obvious effect of getting features/NER taggings, those functions also transform our data from a list of **sentences** to a list of **words** - so our output is a big list of all the words, not divided to sentences anymore.\n",
    "\n",
    "Now we'll create our DictVectorizer and train our model:"
   ]
  },
  {
   "cell_type": "code",
   "execution_count": null,
   "metadata": {
    "collapsed": true
   },
   "outputs": [],
   "source": [
    "def train(train_sents, v, features):\n",
    "    y = get_y (train_sents)\n",
    "    X = v.fit_transform(features)\n",
    "    clf = LogisticRegression(random_state=0, solver='lbfgs', multi_class='multinomial').fit(X, y)\n",
    "    return clf\n",
    "\n",
    "v = DictVectorizer(sparse=True)\n",
    "features = get_corpus_features(train_sents)\n",
    "clf = train(train_sents, v, features)"
   ]
  },
  {
   "cell_type": "markdown",
   "metadata": {},
   "source": [
    "The **DictVecotizer** structure and it's fit_transform method, transforms the features list to a matrix. Each row in the matrix represents a word, and each column represents a feature. Each cell M(i,j) includes the corresponding numerical value for feature j in word i.\n",
    "But what if the features are non-numerical? Boolean data easily transforms to 1 (True) or 0 (False), but strings are a bit more complicated to encode. DictVectorizer's solution is to create a separate boolean feature for every string it encounters. For example, for the word \"Melbourne\", rather than the \"firstLetter\" feature, it will create a new boolean feature: \"firstLetter=M\", that will be True for every word that begins in M, and False otherwise.\n",
    "\n",
    "This is a good solution, but it means that each word, prefix or suffix of length 1,2,3, and other string features - a specific feature will be created. In othe words, our matrix is getting really big. For the first sentence alone (11 words), 75 features are created. For the entire dataset (264715 words), the matrix will be huge - in fact, too huge for the computer's memory (or at least, *my* computer's memory) to handle.\n",
    "\n",
    "That's why we use a **sparse** version of the matrix. The sparse data structure takes advantage of the fact that most of the matrix (typically above 99%) is zeros - the word \"Melbourne\" for example will have 0 in every prefix feature other than \"firstLetter=M\", \"first2Letters=Me\" and \"first3Letters=Mel\" (same applies for suffix). So the sparse data structre, rather than actually save all those zeros, only keeps the non-zero values and cells, and assumes zero everywhere else.\n",
    "\n",
    "So now we have our sparse matrix X, and our target values y, it's time to create our classifier (clf) using Scikit's logistic regression implementation. It's time to test this model on the our test set:"
   ]
  },
  {
   "cell_type": "code",
   "execution_count": null,
   "metadata": {
    "collapsed": true
   },
   "outputs": [],
   "source": [
    "def predict (clf, v, test_features):\n",
    "    X2 = v.transform(test_features)\n",
    "    return clf.predict(X2)\n",
    "\n",
    "test_features = get_corpus_features(test_sents)\n",
    "y_predict = predict (clf, v, test_features)\n",
    "y_true = get_y (test_sents)"
   ]
  },
  {
   "cell_type": "markdown",
   "metadata": {},
   "source": [
    "This function is fairly straight forward, but it's interesting to note the *transform* method used. We create a sparse feature matrix for the test set, but it will not be in the same size as the original matrix for the train data. However, the *predict* method demands that the train and test matrixes will have the same number of features. \n",
    "The transform method transforms the test_features matrix to the same size as the train_features - by adding empty columns for features encountered in the training data, but not the test data. However, this also means there's some information loss - as features that were encountered in the test data but not the train data are \"silently ignored\".\n",
    "\n",
    "So now we have our predictions, it's time to evaluate how well we did. We can do this by several different methods. The easiest of which will be to calculate the accuracy score:"
   ]
  },
  {
   "cell_type": "code",
   "execution_count": null,
   "metadata": {},
   "outputs": [],
   "source": [
    "def accuracy (x,y):\n",
    "    correct = sum([1 if x[i]==y[i] else 0 for i in range(len(x))])\n",
    "    return correct / len(x)\n",
    "\n",
    "accuracy(y_predict, y_true)"
   ]
  },
  {
   "cell_type": "markdown",
   "metadata": {},
   "source": [
    "So almost 93%, not too bad but we will try to do better. We also have more tools to analyze our errors. For a start, we can simply print all the errors and manually look at them:"
   ]
  },
  {
   "cell_type": "code",
   "execution_count": null,
   "metadata": {},
   "outputs": [],
   "source": [
    "def get_errors (x,y,test_sents):\n",
    "    features = get_corpus_features(test_sents)\n",
    "    errors=[]\n",
    "    for i in range(len(x)):\n",
    "        if x[i]!=y[i]:\n",
    "            errors.append((y[i], x[i], features[i].get(\"form\")))\n",
    "    return sorted(errors)\n",
    "        \n",
    "errors = get_errors (y_predict,y_true,test_sents)\n",
    "for i in range(20):\n",
    "    print('correct=%-8s guess=%-8s word=%-30s' % (errors[i][0],errors[i][1],errors[i][2]))\n",
    "    \n",
    "#we only print the first 20 errors as examples"
   ]
  },
  {
   "cell_type": "markdown",
   "metadata": {},
   "source": [
    "We can also take a look at the confusion matrix:\n",
    "(We'll also print the NER tags in order, because the Scikit confusion matrix does not include labels)."
   ]
  },
  {
   "cell_type": "code",
   "execution_count": null,
   "metadata": {},
   "outputs": [],
   "source": [
    "print (set(y_true))\n",
    "print (metrics.confusion_matrix(y_true, y_predict))"
   ]
  },
  {
   "cell_type": "markdown",
   "metadata": {},
   "source": [
    "Scikit also offers an handy tool called a classification report:"
   ]
  },
  {
   "cell_type": "code",
   "execution_count": null,
   "metadata": {},
   "outputs": [],
   "source": [
    "print(metrics.classification_report(y_true, y_predict))"
   ]
  },
  {
   "cell_type": "markdown",
   "metadata": {},
   "source": [
    "It seems we are doing a very good job with recognizing O's, but we struggle with other tags. In general, B tags seem to have better score than I tags, while MISC category seems to be the most difficult to classify. It also means that our 93% accuracy score is misleading - the score is relatively high because we are good in recognizing O's (which is the majority of the dataset), but when it comes to the classification of other tags, our accuracy is much lower.\n",
    "\n",
    "Let's check our model on the Dutch dataset as well:"
   ]
  },
  {
   "cell_type": "code",
   "execution_count": null,
   "metadata": {},
   "outputs": [],
   "source": [
    "d_features = get_corpus_features(d_train_sents)\n",
    "d_clf = train(d_train_sents, v, d_features)\n",
    "d_test_features = get_corpus_features(d_test_sents)\n",
    "d_y_predict = predict (d_clf, v, d_test_features)\n",
    "d_y_true = get_y (d_test_sents)\n",
    "print (\"accuracy:\", accuracy (d_y_predict,d_y_true))\n",
    "print (metrics.classification_report(d_y_true, d_y_predict))"
   ]
  },
  {
   "cell_type": "markdown",
   "metadata": {},
   "source": [
    "It seems our Dutch model is doing slightly better than the Spanish one, but it's still prone to similar mistakes - once again we recognize very high success rates among O's (which are the big majority of the dataset), I tags are more difficult to predict than B tags, and \"Misc\" category is still problematic. \n",
    "One noticeable difference is that the Dutch model seems to struggle with Location names (0.29 fscore on I-LOC - even lower than I-MISC), which the Spanish model did better on. A possible explanation is insufficient training data - the Dutch dataset only had 64 I-LOC tags, which is much lower than other tags. \n",
    "The support column refers to the test dataset and not the training dataset, but a check on the training dataset confirms that I-LOC tags are indeed relatively rare.\n",
    "\n",
    "So now, we will try to imrove our overall model by using more than just word-specific features - we'll be looking at features of the previous and following word. Here's our updated *get_word_features2* method, which now receives three arguments (the previous and next word, in addition to the current one) and extracts all features for all 3 words: "
   ]
  },
  {
   "cell_type": "code",
   "execution_count": null,
   "metadata": {
    "collapsed": true
   },
   "outputs": [],
   "source": [
    "def get_word_features2 (word, prev, next):\n",
    "#also includes information about next and previous word\n",
    "    w = word[0]\n",
    "    p = prev[0]\n",
    "    n = next[0]\n",
    "    features = {\n",
    "     \"form\": w,\n",
    "     \"pos\": word[1],\n",
    "     \"is_number\": w.isdigit(),\n",
    "     \"contains_number\": hasNumbers(w),\n",
    "     \"beginCapital\": w[0].isupper(),\n",
    "     \"allCaps\": w.isupper(),\n",
    "     \"isPunc\": w in string.punctuation,\n",
    "     \"firstLetter\": w[0],\n",
    "     \"first2Letters\": w[0:2],\n",
    "     \"first3Letters\": w[0:3],\n",
    "     \"lastLetter\": w[-1],\n",
    "     \"last2Letters\": w[-2:],\n",
    "     \"last3Letters\": w[-3:],\n",
    "     \"p_form\": p,\n",
    "     \"p_pos\": prev[1],\n",
    "     \"p_is_number\": p.isdigit(),\n",
    "     \"p_contains_number\": hasNumbers(p),\n",
    "     \"p_beginCapital\": p[0].isupper(),\n",
    "     \"p_allCaps\": p.isupper(),\n",
    "     \"p_isPunc\": p in string.punctuation,\n",
    "     \"p_firstLetter\": p[0],\n",
    "     \"p_first2Letters\": p[0:2],\n",
    "     \"p_first3Letters\": p[0:3],\n",
    "     \"p_lastLetter\": p[-1],\n",
    "     \"p_last2Letters\": p[-2:],\n",
    "     \"p_last3Letters\": p[-3:],\n",
    "     \"n_form\": n,\n",
    "     \"n_pos\": next[1],\n",
    "     \"n_is_number\": n.isdigit(),\n",
    "     \"n_contains_number\": hasNumbers(n),\n",
    "     \"n_beginCapital\": n[0].isupper(),\n",
    "     \"n_allCaps\": n.isupper(),\n",
    "     \"n_ispunc\": n in string.punctuation,\n",
    "     \"n_firstLetter\": n[0],\n",
    "     \"n_first2Letters\": n[0:2],\n",
    "     \"n_first3Letters\": n[0:3],\n",
    "     \"n_lastLetter\": n[-1],\n",
    "     \"n_last2Letters\": n[-2:],\n",
    "     \"n_last3Letters\": n[-3:]\n",
    "    }\n",
    "    return features\n",
    "\n",
    "def get_corpus_features2 (corpus):\n",
    "#gets a corpus, returns a list of features for every word\n",
    "    flat = [w for sent in corpus for w in sent]\n",
    "    pad = [(\"*\",\"*\",\"*\")]\n",
    "    flat = pad + flat + pad\n",
    "    X=[]\n",
    "    for i in range(1, len(flat)-1):\n",
    "        X.append(get_word_features2(flat[i],flat[i-1],flat[i+1]))\n",
    "    return X"
   ]
  },
  {
   "cell_type": "markdown",
   "metadata": {},
   "source": [
    "So now let's train on the new data, and try to predict and check our new accuracy score:"
   ]
  },
  {
   "cell_type": "code",
   "execution_count": null,
   "metadata": {},
   "outputs": [],
   "source": [
    "features2 = get_corpus_features2(train_sents)\n",
    "clf2 = train(train_sents, v, features2)\n",
    "test_features2 = get_corpus_features2(test_sents)\n",
    "y_predict2 = predict (clf2, v, test_features2)\n",
    "y_true2 = get_y (test_sents)\n",
    "print (\"accuracy:\", accuracy (y_predict2,y_true2))\n",
    "print (metrics.classification_report(y_true2, y_predict2))"
   ]
  },
  {
   "cell_type": "markdown",
   "metadata": {},
   "source": [
    "So the new score is around 95% - an improvement on the previous attempt. Let's check on the Dutch dataset:"
   ]
  },
  {
   "cell_type": "code",
   "execution_count": null,
   "metadata": {},
   "outputs": [],
   "source": [
    "d_features2 = get_corpus_features2(d_train_sents)\n",
    "d_clf2 = train(d_train_sents, v, d_features2)\n",
    "d_test_features2 = get_corpus_features2(d_test_sents)\n",
    "d_y_predict2 = predict (d_clf2, v, d_test_features2)\n",
    "d_y_true2 = get_y (d_test_sents)\n",
    "print (\"accuracy:\", accuracy (d_y_predict2, d_y_true2))\n",
    "print (metrics.classification_report(d_y_true2, d_y_predict2))"
   ]
  },
  {
   "cell_type": "markdown",
   "metadata": {},
   "source": [
    "We see a similar improvement in the Dutch model as well - who is now up to almost 97% accuracy score. We see some improvement in all categories, including the problematic ones. I-LOC for example is up from 0.29 to 0.41, which is an improvement but still not a good score by any means."
   ]
  },
  {
   "cell_type": "markdown",
   "metadata": {},
   "source": [
    "#### Part 3.1.3 - Finding Illegal Sequences"
   ]
  },
  {
   "cell_type": "markdown",
   "metadata": {},
   "source": [
    "So far, the tagging method we used was greedy tagging. We did not check the logic of the tagging, and in particular we didn't check if tag sequences were legal or not. Let's write a function that will find all illegal tag sequences:"
   ]
  },
  {
   "cell_type": "code",
   "execution_count": null,
   "metadata": {},
   "outputs": [],
   "source": [
    "def find_illegal_sequences (guess):\n",
    "    OIX, IXIY, BXIY = 0,0,0\n",
    "    for i in range(len(guess)-1):\n",
    "        curr, next = guess[i], guess[i+1]\n",
    "        if curr[0]==\"O\" and next[0]==\"I\":\n",
    "            OIX+=1\n",
    "        elif curr[0]==\"I\" and next[0]==\"I\" and curr[1:] != next[1:]:\n",
    "            IXIY+=1\n",
    "        elif curr[0]==\"B\" and next[0]==\"I\" and curr[1:] != next[1:]:\n",
    "            BXIY+=1\n",
    "    return {\"O-IX\": OIX, \"IX-IY\": IXIY, \"BX-IY\": BXIY}\n",
    "\n",
    "print (\"Spanish:\", find_illegal_sequences(y_predict2))\n",
    "print (\"Dutch:\", find_illegal_sequences(d_y_predict2))"
   ]
  },
  {
   "cell_type": "markdown",
   "metadata": {},
   "source": [
    "In the Spanish dataset, all three illegal sequences seem to happen in similar frequency. Our test set includes 52923 words (and hence 52922 sequences of 2), and overall we guessed 646 illegal sequences - that's about 1.2% of our guesses. \n",
    "In the Dutch dataset, illegal sequences are rarer, and only take about 0.5% of our guesses (which is consistent with our results so far, in which our model did better in Dutch than Spanish).\n",
    "\n",
    "How can we use this information?\n",
    "If we were to change our predicting model to prevent it from predicting illegal sequences, we could theoretically improve our accuracy by **up to** 1.2%. Of course, this will be a difficult process. Even if we know that a sequence of 2 tags is illegal, we still face two problems:\n",
    "\n",
    "-We need to determine which of the two tags is wrong (or maybe both are wrong)\n",
    "-We need to correct it to the right answer.\n",
    "\n",
    "If we were to implement such an algorithm, a possible method of doing so would be to use the *predcit_proba* method, which for every word, returns the probability of each tag (a distribution). Using this method, a possible rough algorithm would be:\n",
    "\n",
    "-Predict normally\n",
    "\n",
    "-Look for illegal sequences - similar to *find_illegal_sequences* above, but rather than just counting, for every illegal sequence we find we will perform the following steps:\n",
    "\n",
    "-Determine which of the two tags is more likely to be wrong. We can do it by getting max probability in each word's distribution, and choosing the lower value of the two. \n",
    "For example: let w1,w2 be two words, and t1,t2 the tags with the highest probability. If p(t1)>p(t2), we will conclude that ws is more likely to be wrong.\n",
    "\n",
    "-Look for the second highest probability in w2's distribution - let's call it t2'. \n",
    "\n",
    "-Check if the sequence (t1, t2') is a legal sequence. If it is, change w2 tag to t2' and move to the next sequence.\n",
    "\n",
    "-If it's illegal, we'll try the next most likely tag - it might be the next option on w2's distribution, or the second option in w1's distribution. \n",
    "\n",
    "-Repeat until you get a legal sequence.\n"
   ]
  },
  {
   "cell_type": "markdown",
   "metadata": {},
   "source": []
  },
  {
   "cell_type": "code",
   "execution_count": null,
   "metadata": {
    "collapsed": true
   },
   "outputs": [],
   "source": []
  }
 ],
 "metadata": {
  "kernelspec": {
   "display_name": "Python 3",
   "language": "python",
   "name": "python3"
  },
  "language_info": {
   "codemirror_mode": {
    "name": "ipython",
    "version": 3
   },
   "file_extension": ".py",
   "mimetype": "text/x-python",
   "name": "python",
   "nbconvert_exporter": "python",
   "pygments_lexer": "ipython3",
   "version": "3.6.3"
  }
 },
 "nbformat": 4,
 "nbformat_minor": 2
}
