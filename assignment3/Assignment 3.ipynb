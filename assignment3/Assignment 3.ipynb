{
 "cells": [
  {
   "cell_type": "markdown",
   "metadata": {},
   "source": [
    "# Assignment 3"
   ]
  },
  {
   "cell_type": "markdown",
   "metadata": {},
   "source": [
    "This notebook is the solution to HW3, written by Yaniv Bin and Tair Hakman."
   ]
  },
  {
   "cell_type": "markdown",
   "metadata": {},
   "source": [
    "We first would like to import all the required modules in order for our code to run properly:"
   ]
  },
  {
   "cell_type": "code",
   "execution_count": 25,
   "metadata": {},
   "outputs": [],
   "source": [
    "import nltk\n",
    "import matplotlib.pyplot as plt\n",
    "import numpy as np\n",
    "from nltk import nonterminals, Nonterminal, Production\n",
    "from nltk import CFG\n",
    "from nltk import PCFG\n",
    "from nltk.parse import generate\n",
    "import itertools\n",
    "from nltk.grammar import Nonterminal\n",
    "from nltk.grammar import toy_pcfg2\n",
    "from nltk.probability import DictionaryProbDist\n",
    "from nltk import Tree\n",
    "from nltk.grammar import Production\n",
    "from nltk import induce_pcfg\n",
    "from numpy import log\n",
    "from nltk.corpus import LazyCorpusLoader, BracketParseCorpusReader\n",
    "from nltk.grammar import Production\n",
    "from nltk import Tree, Nonterminal\n",
    "from collections import *"
   ]
  },
  {
   "cell_type": "markdown",
   "metadata": {},
   "source": [
    "Now after doing so we can go ahead and solve the tasks."
   ]
  },
  {
   "cell_type": "markdown",
   "metadata": {},
   "source": [
    "## Part 1"
   ]
  },
  {
   "cell_type": "markdown",
   "metadata": {},
   "source": [
    "In the first part of the assignment we will discuss designing CFG for NLP task.\n",
    "<br> We were given the following code which read CFGs from string representation, and parse sentences given a CFG using a  a bottom-up parsing algorithm:"
   ]
  },
  {
   "cell_type": "code",
   "execution_count": 5,
   "metadata": {},
   "outputs": [
    {
     "name": "stdout",
     "output_type": "stream",
     "text": [
      "Parsing 'John left'\n",
      "    [ * John left]\n",
      "  S [ 'John' * left]\n",
      "  R [ NP * left]\n",
      "  S [ NP 'left' * ]\n",
      "  R [ NP IV * ]\n",
      "  R [ NP VP * ]\n",
      "  R [ S * ]\n",
      "(S (NP John) (VP (IV left)))\n",
      "Parsing 'John eats bread'\n",
      "    [ * John eats bread]\n",
      "  S [ 'John' * eats bread]\n",
      "  R [ NP * eats bread]\n",
      "  S [ NP 'eats' * bread]\n",
      "  R [ NP TV * bread]\n",
      "  S [ NP TV 'bread' * ]\n",
      "  R [ NP TV NP * ]\n",
      "  R [ NP VP * ]\n",
      "  R [ S * ]\n",
      "(S (NP John) (VP (TV eats) (NP bread)))\n"
     ]
    }
   ],
   "source": [
    "sg = \"\"\"\n",
    "S -> NP VP\n",
    "VP -> IV | TV NP\n",
    "NP -> 'John' | \"bread\"\n",
    "IV -> 'left'\n",
    "TV -> 'eats'\n",
    "\"\"\"\n",
    "g = CFG.fromstring(sg)\n",
    "\n",
    "# Bottom-up  parser\n",
    "sr_parser = nltk.ShiftReduceParser(g, trace=2)\n",
    "\n",
    "# Parse sentences and observe the behavior of the parser\n",
    "def parse_sentence(sent):\n",
    "    tokens = sent.split()\n",
    "    trees = sr_parser.parse(tokens)\n",
    "    for tree in trees:\n",
    "        print(tree)\n",
    "\n",
    "parse_sentence(\"John left\")\n",
    "parse_sentence(\"John eats bread\")"
   ]
  },
  {
   "cell_type": "markdown",
   "metadata": {},
   "source": [
    "### Part 1.1"
   ]
  },
  {
   "cell_type": "markdown",
   "metadata": {},
   "source": [
    "First, an important note about our parser, the Shift-Reduce parser. This parser does not support ambiguity at all. If multiple reductions are available for a single word, it will simply choose the first reduction listed (and if it fails, it will not go back to try the second reduction). This means we can't have the same NT on the rhs of two different rules.\n",
    "\n",
    "We're required to support a new list of sentences. In order to explain the process of creating the CFG, we would like to split the sentence list into three different lists (slightly altering the original sentence order). The first list:\n",
    "\n",
    "John left\n",
    "John eats bread\n",
    "John loves Mary\n",
    "She loves John\n",
    "She loves them \n",
    "Everybody loves John\n",
    "A boy loves Mary\n",
    "\n",
    "And here's the grammar:"
   ]
  },
  {
   "cell_type": "code",
   "execution_count": 20,
   "metadata": {},
   "outputs": [
    {
     "name": "stdout",
     "output_type": "stream",
     "text": [
      "Parsing 'John loves Mary'\n",
      "    [ * John loves Mary]\n",
      "  S [ 'John' * loves Mary]\n",
      "  R [ NP * loves Mary]\n",
      "  S [ NP 'loves' * Mary]\n",
      "  R [ NP TV * Mary]\n",
      "  S [ NP TV 'Mary' * ]\n",
      "  R [ NP TV NP * ]\n",
      "  R [ NP VP * ]\n",
      "  R [ S * ]\n",
      "(S (NP John) (VP (TV loves) (NP Mary)))\n",
      "---------\n",
      "Parsing 'She loves John'\n",
      "    [ * She loves John]\n",
      "  S [ 'She' * loves John]\n",
      "  R [ PR_NOM * loves John]\n",
      "  S [ PR_NOM 'loves' * John]\n",
      "  R [ PR_NOM TV * John]\n",
      "  S [ PR_NOM TV 'John' * ]\n",
      "  R [ PR_NOM TV NP * ]\n",
      "  R [ PR_NOM VP * ]\n",
      "  R [ S * ]\n",
      "(S (PR_NOM She) (VP (TV loves) (NP John)))\n",
      "---------\n",
      "Parsing 'She loves them'\n",
      "    [ * She loves them]\n",
      "  S [ 'She' * loves them]\n",
      "  R [ PR_NOM * loves them]\n",
      "  S [ PR_NOM 'loves' * them]\n",
      "  R [ PR_NOM TV * them]\n",
      "  S [ PR_NOM TV 'them' * ]\n",
      "  R [ PR_NOM TV PR_ACC * ]\n",
      "  R [ PR_NOM VP * ]\n",
      "  R [ S * ]\n",
      "(S (PR_NOM She) (VP (TV loves) (PR_ACC them)))\n",
      "---------\n",
      "Parsing 'Everybody loves John'\n",
      "    [ * Everybody loves John]\n",
      "  S [ 'Everybody' * loves John]\n",
      "  R [ PR_NOM * loves John]\n",
      "  S [ PR_NOM 'loves' * John]\n",
      "  R [ PR_NOM TV * John]\n",
      "  S [ PR_NOM TV 'John' * ]\n",
      "  R [ PR_NOM TV NP * ]\n",
      "  R [ PR_NOM VP * ]\n",
      "  R [ S * ]\n",
      "(S (PR_NOM Everybody) (VP (TV loves) (NP John)))\n",
      "---------\n",
      "Parsing 'A boy loves Mary'\n",
      "    [ * A boy loves Mary]\n",
      "  S [ 'A' * boy loves Mary]\n",
      "  R [ DET * boy loves Mary]\n",
      "  S [ DET 'boy' * loves Mary]\n",
      "  R [ DET NP * loves Mary]\n",
      "  S [ DET NP 'loves' * Mary]\n",
      "  R [ DET NP TV * Mary]\n",
      "  S [ DET NP TV 'Mary' * ]\n",
      "  R [ DET NP TV NP * ]\n",
      "  R [ DET NP VP * ]\n",
      "  R [ S * ]\n",
      "(S (DET A) (NP boy) (VP (TV loves) (NP Mary)))\n",
      "---------\n"
     ]
    }
   ],
   "source": [
    "sg = \"\"\"\n",
    "S -> DET NP VP | NP VP | PR_NOM VP\n",
    "NP -> 'John' | 'bread' | 'Mary' | 'boy'\n",
    "IV -> 'left' \n",
    "VP -> IV | TV NP | TV PR_ACC\n",
    "TV -> 'eats' | 'loves'\n",
    "PR_NOM -> 'She' | 'Everybody'\n",
    "PR_ACC -> 'them'\n",
    "DET -> 'A'\n",
    "\"\"\"\n",
    "\n",
    "g = CFG.fromstring(sg)\n",
    "\n",
    "# Bottom-up  parser\n",
    "sr_parser = nltk.ShiftReduceParser(g, trace=2)\n",
    "\n",
    "sentences = \"\"\"John left\n",
    "John eats bread\n",
    "John loves Mary\n",
    "She loves John\n",
    "She loves them \n",
    "Everybody loves John\n",
    "A boy loves Mary\n",
    "\"\"\"\n",
    "\n",
    "sentences = sentences.split(\"\\n\")\n",
    "\n",
    "for i in range(2,7):\n",
    "    parse_sentence(sentences[i])\n",
    "    print(\"---------\")"
   ]
  },
  {
   "cell_type": "markdown",
   "metadata": {
    "collapsed": true
   },
   "source": [
    "This bit was relatively easy to deal with. We've introduced pronouns, who are split (so far) into two categories by their case: Nominative (He, she etc) and accusative (her, them) etc. Nominative pronouns appear in the beginning of sentences, accusative ones in the end. So we've added pronouns as an alternative to NPs in the appropriate places. We've also introduced the category of determiners (only \"A\" so far), which can start a sentence before a noun (\"A book\") - note that a determiner can't precede a pronoun (\"A she\" is not legal).\n",
    "\n",
    "Our next sentences are a bit different:\n",
    "\n",
    "They love Mary \n",
    "They love her\n",
    "\n",
    "The difference is the use of 'love' instead of 'loves'. This is a different kind of verb that follows different speakers - \"They love\" and \"He loves\" are legal, but \"They loves\" and \"He love\" aren't. So we'll split our grammar into two categories - sentences of type 1 (without s), and type 2.\n",
    "\n",
    "In English, the category 1 is I/we/you/they (in this case, they will all be followed by 'love'), and category 2 is he/she/it (all followed by 'loves'). This separation is somewhat similar to singular/plural, however it is not the same - note that \"I\" (singluar) is in the same category as \"we\" and \"they\" (plural), while \"you\" can refer to both singluar and plural. So for a lack of better name, we will refer to those categories as categories 1 and 2.\n",
    "\n",
    "So here's our new grammar:\n"
   ]
  },
  {
   "cell_type": "code",
   "execution_count": 21,
   "metadata": {},
   "outputs": [
    {
     "name": "stdout",
     "output_type": "stream",
     "text": [
      "Parsing 'They love Mary'\n",
      "    [ * They love Mary]\n",
      "  S [ 'They' * love Mary]\n",
      "  R [ PR_NOM1 * love Mary]\n",
      "  S [ PR_NOM1 'love' * Mary]\n",
      "  R [ PR_NOM1 TV1 * Mary]\n",
      "  S [ PR_NOM1 TV1 'Mary' * ]\n",
      "  R [ PR_NOM1 TV1 NP * ]\n",
      "  R [ PR_NOM1 VP1 * ]\n",
      "  R [ S1 * ]\n",
      "  R [ S * ]\n",
      "(S (S1 (PR_NOM1 They) (VP1 (TV1 love) (NP Mary))))\n",
      "---------\n",
      "Parsing 'They love her'\n",
      "    [ * They love her]\n",
      "  S [ 'They' * love her]\n",
      "  R [ PR_NOM1 * love her]\n",
      "  S [ PR_NOM1 'love' * her]\n",
      "  R [ PR_NOM1 TV1 * her]\n",
      "  S [ PR_NOM1 TV1 'her' * ]\n",
      "  R [ PR_NOM1 TV1 PR_ACC * ]\n",
      "  R [ PR_NOM1 VP1 * ]\n",
      "  R [ S1 * ]\n",
      "  R [ S * ]\n",
      "(S (S1 (PR_NOM1 They) (VP1 (TV1 love) (PR_ACC her))))\n",
      "---------\n"
     ]
    }
   ],
   "source": [
    "sg = \"\"\"\n",
    "S -> S1 | S2\n",
    "S1 -> PR_NOM1 VP1\n",
    "VP1 -> TV1 NP | TV1 PR_ACC\n",
    "TV1 -> 'love'\n",
    "PR_NOM1 -> 'They'\n",
    "\n",
    "S2 -> DET NP VP2 | NP VP2 | PR_NOM2 VP2\n",
    "VP2 -> IV | TV2 NP | TV2 PR_ACC\n",
    "TV2 -> 'eats' | 'loves'\n",
    "PR_NOM2 -> 'She' | 'Everybody'\n",
    "\n",
    "NP -> 'John' | 'bread' | 'Mary' | 'boy'\n",
    "IV -> 'left' \n",
    "PR_ACC -> 'them' | 'her'\n",
    "DET -> 'A'\n",
    "\"\"\"\n",
    "\n",
    "g = CFG.fromstring(sg)\n",
    "\n",
    "# Bottom-up  parser\n",
    "sr_parser = nltk.ShiftReduceParser(g, trace=2)\n",
    "\n",
    "sentences = \"\"\"John left\n",
    "John eats bread\n",
    "John loves Mary\n",
    "She loves John\n",
    "She loves them \n",
    "Everybody loves John\n",
    "A boy loves Mary\n",
    "They love Mary \n",
    "They love her\n",
    "\"\"\"\n",
    "\n",
    "sentences = sentences.split(\"\\n\")\n",
    "\n",
    "for i in range(7,9):\n",
    "    parse_sentence(sentences[i])\n",
    "    print(\"---------\")"
   ]
  },
  {
   "cell_type": "markdown",
   "metadata": {},
   "source": [
    "As you can see, we split most rules into types 1 and 2. Note that accusative pronounes aren't changed - the word \"her\" will be the same in both \"I love her\" and \"she loves her\".\n",
    "Our last group of sentences is:\n",
    "\n",
    "John gave Mary a heavy book\n",
    "John gave it to Mary\n",
    "\n",
    "This is when we encounter the limitations of the SRP. Looking at the first sentence, \"John gave Mary\" is already a legal sentence in our grammar (assuming the verb \"gave\" is added). So once we parse \"John gave Mary\", before the parser continues to the next word, those words will be reduced to \"S\". The best solution would be to use a better, less limited parser that supports ambiguity. But sticking with the SR parser, our solution will be a bit untidy - we will simply add a rule that adds the rest of the words after S."
   ]
  },
  {
   "cell_type": "code",
   "execution_count": 29,
   "metadata": {
    "scrolled": true
   },
   "outputs": [
    {
     "name": "stdout",
     "output_type": "stream",
     "text": [
      "Warning: S -> S1 will never be used\n",
      "Warning: S -> S2 will never be used\n",
      "Warning: S -> S DET AD_NP will never be used\n",
      "Warning: S -> S PR_NP will never be used\n",
      "Warning: S1 -> PR_NOM1 VP1 will never be used\n",
      "Warning: VP1 -> TV1 NP will never be used\n",
      "Warning: VP1 -> TV1 PR_ACC will never be used\n",
      "Warning: TV1 -> 'love' will never be used\n",
      "Warning: PR_NOM1 -> 'They' will never be used\n",
      "Warning: S2 -> DET NP VP2 will never be used\n",
      "Warning: S2 -> NP VP2 will never be used\n",
      "Warning: S2 -> PR_NOM2 VP2 will never be used\n"
     ]
    }
   ],
   "source": [
    "sg = \"\"\"\n",
    "S -> S1 | S2 | S DET AD_NP | S PREP_NP\n",
    "S1 -> PR_NOM1 VP1\n",
    "VP1 -> TV1 NP | TV1 PR_ACC\n",
    "TV1 -> 'love'\n",
    "PR_NOM1 -> 'They'\n",
    "\n",
    "S2 -> DET NP VP2 | NP VP2 | PR_NOM2 VP2 | \n",
    "VP2 -> IV2 | TV2 NP | TV2 PR_ACC\n",
    "TV2 -> 'eats' | 'loves' | 'gave'\n",
    "PR_NOM2 -> 'She' | 'Everybody'\n",
    "IV2 -> 'left'\n",
    "\n",
    "NP -> 'John' | 'bread' | 'Mary' | 'boy' | 'book'\n",
    "AD_NP -> ADJ NP\n",
    "PREP_NP -> PREP NP\n",
    "PR_ACC -> 'them' | 'her' | 'it'\n",
    "PREP -> \"to\"\n",
    "DET -> 'A' | 'a'\n",
    "ADJ -> 'heavy'\n",
    "\"\"\"\n",
    "\n",
    "g = CFG.fromstring(sg)\n",
    "\n",
    "# Bottom-up  parser\n",
    "sr_parser = nltk.ShiftReduceParser(g, trace=2)"
   ]
  },
  {
   "cell_type": "markdown",
   "metadata": {},
   "source": [
    "Let's verify all 11 sentences are parsed correctly:"
   ]
  },
  {
   "cell_type": "code",
   "execution_count": 28,
   "metadata": {},
   "outputs": [
    {
     "name": "stdout",
     "output_type": "stream",
     "text": [
      "Parsing 'John left'\n",
      "    [ * John left]\n",
      "  S [ 'John' * left]\n",
      "  R [ NP * left]\n",
      "  S [ NP 'left' * ]\n",
      "  R [ NP IV2 * ]\n",
      "  R [ NP VP2 * ]\n",
      "  R [ S2 * ]\n",
      "  R [ S * ]\n",
      "(S (S2 (NP John) (VP2 (IV2 left))))\n",
      "---------\n",
      "Parsing 'John eats bread'\n",
      "    [ * John eats bread]\n",
      "  S [ 'John' * eats bread]\n",
      "  R [ NP * eats bread]\n",
      "  S [ NP 'eats' * bread]\n",
      "  R [ NP TV2 * bread]\n",
      "  S [ NP TV2 'bread' * ]\n",
      "  R [ NP TV2 NP * ]\n",
      "  R [ NP VP2 * ]\n",
      "  R [ S2 * ]\n",
      "  R [ S * ]\n",
      "(S (S2 (NP John) (VP2 (TV2 eats) (NP bread))))\n",
      "---------\n",
      "Parsing 'John loves Mary'\n",
      "    [ * John loves Mary]\n",
      "  S [ 'John' * loves Mary]\n",
      "  R [ NP * loves Mary]\n",
      "  S [ NP 'loves' * Mary]\n",
      "  R [ NP TV2 * Mary]\n",
      "  S [ NP TV2 'Mary' * ]\n",
      "  R [ NP TV2 NP * ]\n",
      "  R [ NP VP2 * ]\n",
      "  R [ S2 * ]\n",
      "  R [ S * ]\n",
      "(S (S2 (NP John) (VP2 (TV2 loves) (NP Mary))))\n",
      "---------\n",
      "Parsing 'She loves John'\n",
      "    [ * She loves John]\n",
      "  S [ 'She' * loves John]\n",
      "  R [ PR_NOM2 * loves John]\n",
      "  S [ PR_NOM2 'loves' * John]\n",
      "  R [ PR_NOM2 TV2 * John]\n",
      "  S [ PR_NOM2 TV2 'John' * ]\n",
      "  R [ PR_NOM2 TV2 NP * ]\n",
      "  R [ PR_NOM2 VP2 * ]\n",
      "  R [ S2 * ]\n",
      "  R [ S * ]\n",
      "(S (S2 (PR_NOM2 She) (VP2 (TV2 loves) (NP John))))\n",
      "---------\n",
      "Parsing 'She loves them'\n",
      "    [ * She loves them]\n",
      "  S [ 'She' * loves them]\n",
      "  R [ PR_NOM2 * loves them]\n",
      "  S [ PR_NOM2 'loves' * them]\n",
      "  R [ PR_NOM2 TV2 * them]\n",
      "  S [ PR_NOM2 TV2 'them' * ]\n",
      "  R [ PR_NOM2 TV2 PR_ACC * ]\n",
      "  R [ PR_NOM2 VP2 * ]\n",
      "  R [ S2 * ]\n",
      "  R [ S * ]\n",
      "(S (S2 (PR_NOM2 She) (VP2 (TV2 loves) (PR_ACC them))))\n",
      "---------\n",
      "Parsing 'Everybody loves John'\n",
      "    [ * Everybody loves John]\n",
      "  S [ 'Everybody' * loves John]\n",
      "  R [ PR_NOM2 * loves John]\n",
      "  S [ PR_NOM2 'loves' * John]\n",
      "  R [ PR_NOM2 TV2 * John]\n",
      "  S [ PR_NOM2 TV2 'John' * ]\n",
      "  R [ PR_NOM2 TV2 NP * ]\n",
      "  R [ PR_NOM2 VP2 * ]\n",
      "  R [ S2 * ]\n",
      "  R [ S * ]\n",
      "(S (S2 (PR_NOM2 Everybody) (VP2 (TV2 loves) (NP John))))\n",
      "---------\n",
      "Parsing 'A boy loves Mary'\n",
      "    [ * A boy loves Mary]\n",
      "  S [ 'A' * boy loves Mary]\n",
      "  R [ DET * boy loves Mary]\n",
      "  S [ DET 'boy' * loves Mary]\n",
      "  R [ DET NP * loves Mary]\n",
      "  S [ DET NP 'loves' * Mary]\n",
      "  R [ DET NP TV2 * Mary]\n",
      "  S [ DET NP TV2 'Mary' * ]\n",
      "  R [ DET NP TV2 NP * ]\n",
      "  R [ DET NP VP2 * ]\n",
      "  R [ S2 * ]\n",
      "  R [ S * ]\n",
      "(S (S2 (DET A) (NP boy) (VP2 (TV2 loves) (NP Mary))))\n",
      "---------\n",
      "Parsing 'They love Mary'\n",
      "    [ * They love Mary]\n",
      "  S [ 'They' * love Mary]\n",
      "  R [ PR_NOM1 * love Mary]\n",
      "  S [ PR_NOM1 'love' * Mary]\n",
      "  R [ PR_NOM1 TV1 * Mary]\n",
      "  S [ PR_NOM1 TV1 'Mary' * ]\n",
      "  R [ PR_NOM1 TV1 NP * ]\n",
      "  R [ PR_NOM1 VP1 * ]\n",
      "  R [ S1 * ]\n",
      "  R [ S * ]\n",
      "(S (S1 (PR_NOM1 They) (VP1 (TV1 love) (NP Mary))))\n",
      "---------\n",
      "Parsing 'They love her'\n",
      "    [ * They love her]\n",
      "  S [ 'They' * love her]\n",
      "  R [ PR_NOM1 * love her]\n",
      "  S [ PR_NOM1 'love' * her]\n",
      "  R [ PR_NOM1 TV1 * her]\n",
      "  S [ PR_NOM1 TV1 'her' * ]\n",
      "  R [ PR_NOM1 TV1 PR_ACC * ]\n",
      "  R [ PR_NOM1 VP1 * ]\n",
      "  R [ S1 * ]\n",
      "  R [ S * ]\n",
      "(S (S1 (PR_NOM1 They) (VP1 (TV1 love) (PR_ACC her))))\n",
      "---------\n",
      "Parsing 'John gave Mary a heavy book'\n",
      "    [ * John gave Mary a heavy book]\n",
      "  S [ 'John' * gave Mary a heavy book]\n",
      "  R [ NP * gave Mary a heavy book]\n",
      "  S [ NP 'gave' * Mary a heavy book]\n",
      "  R [ NP TV2 * Mary a heavy book]\n",
      "  S [ NP TV2 'Mary' * a heavy book]\n",
      "  R [ NP TV2 NP * a heavy book]\n",
      "  R [ NP VP2 * a heavy book]\n",
      "  R [ S2 * a heavy book]\n",
      "  R [ S * a heavy book]\n",
      "  S [ S 'a' * heavy book]\n",
      "  R [ S DET * heavy book]\n",
      "  S [ S DET 'heavy' * book]\n",
      "  R [ S DET ADJ * book]\n",
      "  S [ S DET ADJ 'book' * ]\n",
      "  R [ S DET ADJ NP * ]\n",
      "  R [ S DET AD_NP * ]\n",
      "  R [ S * ]\n",
      "(S\n",
      "  (S (S2 (NP John) (VP2 (TV2 gave) (NP Mary))))\n",
      "  (DET a)\n",
      "  (AD_NP (ADJ heavy) (NP book)))\n",
      "---------\n",
      "Parsing 'John gave it to Mary'\n",
      "    [ * John gave it to Mary]\n",
      "  S [ 'John' * gave it to Mary]\n",
      "  R [ NP * gave it to Mary]\n",
      "  S [ NP 'gave' * it to Mary]\n",
      "  R [ NP TV2 * it to Mary]\n",
      "  S [ NP TV2 'it' * to Mary]\n",
      "  R [ NP TV2 PR_ACC * to Mary]\n",
      "  R [ NP VP2 * to Mary]\n",
      "  R [ S2 * to Mary]\n",
      "  R [ S * to Mary]\n",
      "  S [ S 'to' * Mary]\n",
      "  R [ S PREP * Mary]\n",
      "  S [ S PREP 'Mary' * ]\n",
      "  R [ S PREP NP * ]\n",
      "  R [ S PR_NP * ]\n",
      "  R [ S * ]\n",
      "(S\n",
      "  (S (S2 (NP John) (VP2 (TV2 gave) (PR_ACC it))))\n",
      "  (PR_NP (PREP to) (NP Mary)))\n",
      "---------\n"
     ]
    }
   ],
   "source": [
    "sentences = \"\"\"John left\n",
    "John eats bread\n",
    "John loves Mary\n",
    "She loves John\n",
    "She loves them \n",
    "Everybody loves John\n",
    "A boy loves Mary\n",
    "They love Mary \n",
    "They love her\n",
    "John gave Mary a heavy book\n",
    "John gave it to Mary\"\"\"\n",
    "\n",
    "'''\n",
    "Number: singular / plural (e.g., he/they)\n",
    "Gender: masculine / feminine / neutral (e.g., he/she/it)\n",
    "Case: nominative / accusative (e.g., he/him)\n",
    "'''\n",
    "\n",
    "sentences = sentences.split(\"\\n\")\n",
    "\n",
    "for i in range(11):\n",
    "    parse_sentence(sentences[i])\n",
    "    print (\"---------\")"
   ]
  },
  {
   "cell_type": "markdown",
   "metadata": {},
   "source": [
    "As for gender: we didn't need to encode it, because gender doesn't make a grammatical difference in English. Most pronouns (I/we/you/they) are netural to gender. And he/she, the only pronouns who are specific to a gender, behave the same gramatically (\"he loves her\", \"she loves her\"). The same also goes for nouns who have a clear gender (\"John loves her\", \"Mary loves her\").\n",
    "\n",
    "We'll note that our grammar isn't perfect, and it does overgenerate in certain cases. One weakness is the lack of separation between different nouns, even though certain nouns can't logically do certain actions. This allows us to parse illogical sentences, such as:"
   ]
  },
  {
   "cell_type": "code",
   "execution_count": 31,
   "metadata": {},
   "outputs": [
    {
     "name": "stdout",
     "output_type": "stream",
     "text": [
      "Parsing 'bread gave book a heavy Mary'\n",
      "    [ * bread gave book a heavy Mary]\n",
      "  S [ 'bread' * gave book a heavy Mary]\n",
      "  R [ NP * gave book a heavy Mary]\n",
      "  S [ NP 'gave' * book a heavy Mary]\n",
      "  R [ NP TV2 * book a heavy Mary]\n",
      "  S [ NP TV2 'book' * a heavy Mary]\n",
      "  R [ NP TV2 NP * a heavy Mary]\n",
      "  R [ NP VP2 * a heavy Mary]\n",
      "  R [ S2 * a heavy Mary]\n",
      "  R [ S * a heavy Mary]\n",
      "  S [ S 'a' * heavy Mary]\n",
      "  R [ S DET * heavy Mary]\n",
      "  S [ S DET 'heavy' * Mary]\n",
      "  R [ S DET ADJ * Mary]\n",
      "  S [ S DET ADJ 'Mary' * ]\n",
      "  R [ S DET ADJ NP * ]\n",
      "  R [ S DET AD_NP * ]\n",
      "  R [ S * ]\n",
      "(S\n",
      "  (S (S2 (NP bread) (VP2 (TV2 gave) (NP book))))\n",
      "  (DET a)\n",
      "  (AD_NP (ADJ heavy) (NP Mary)))\n"
     ]
    }
   ],
   "source": [
    "parse_sentence(\"bread gave book a heavy Mary\")"
   ]
  },
  {
   "cell_type": "markdown",
   "metadata": {},
   "source": [
    "Another weakness is the workaround we've added for the last sentences, which basically allows us to add certain combinations (such as DET ADJ NP) at the end of every sentence:"
   ]
  },
  {
   "cell_type": "code",
   "execution_count": 32,
   "metadata": {},
   "outputs": [
    {
     "name": "stdout",
     "output_type": "stream",
     "text": [
      "Parsing 'John loves Mary a heavy book'\n",
      "    [ * John loves Mary a heavy book]\n",
      "  S [ 'John' * loves Mary a heavy book]\n",
      "  R [ NP * loves Mary a heavy book]\n",
      "  S [ NP 'loves' * Mary a heavy book]\n",
      "  R [ NP TV2 * Mary a heavy book]\n",
      "  S [ NP TV2 'Mary' * a heavy book]\n",
      "  R [ NP TV2 NP * a heavy book]\n",
      "  R [ NP VP2 * a heavy book]\n",
      "  R [ S2 * a heavy book]\n",
      "  R [ S * a heavy book]\n",
      "  S [ S 'a' * heavy book]\n",
      "  R [ S DET * heavy book]\n",
      "  S [ S DET 'heavy' * book]\n",
      "  R [ S DET ADJ * book]\n",
      "  S [ S DET ADJ 'book' * ]\n",
      "  R [ S DET ADJ NP * ]\n",
      "  R [ S DET AD_NP * ]\n",
      "  R [ S * ]\n",
      "(S\n",
      "  (S (S2 (NP John) (VP2 (TV2 loves) (NP Mary))))\n",
      "  (DET a)\n",
      "  (AD_NP (ADJ heavy) (NP book)))\n"
     ]
    }
   ],
   "source": [
    "parse_sentence(\"John loves Mary a heavy book\")"
   ]
  },
  {
   "cell_type": "markdown",
   "metadata": {},
   "source": [
    "And since the role is recursive, we can add it as many times as we like:"
   ]
  },
  {
   "cell_type": "code",
   "execution_count": 34,
   "metadata": {},
   "outputs": [
    {
     "name": "stdout",
     "output_type": "stream",
     "text": [
      "Parsing 'John loves Mary a heavy book a heavy book a heavy book a heavy book a heavy book a heavy book a heavy book'\n",
      "    [ * John loves Mary a heavy book a heavy book a heavy book a heavy book a heavy book a heavy book a heavy book]\n",
      "  S [ 'John' * loves Mary a heavy book a heavy book a heavy book a heavy book a heavy book a heavy book a heavy book]\n",
      "  R [ NP * loves Mary a heavy book a heavy book a heavy book a heavy book a heavy book a heavy book a heavy book]\n",
      "  S [ NP 'loves' * Mary a heavy book a heavy book a heavy book a heavy book a heavy book a heavy book a heavy book]\n",
      "  R [ NP TV2 * Mary a heavy book a heavy book a heavy book a heavy book a heavy book a heavy book a heavy book]\n",
      "  S [ NP TV2 'Mary' * a heavy book a heavy book a heavy book a heavy book a heavy book a heavy book a heavy book]\n",
      "  R [ NP TV2 NP * a heavy book a heavy book a heavy book a heavy book a heavy book a heavy book a heavy book]\n",
      "  R [ NP VP2 * a heavy book a heavy book a heavy book a heavy book a heavy book a heavy book a heavy book]\n",
      "  R [ S2 * a heavy book a heavy book a heavy book a heavy book a heavy book a heavy book a heavy book]\n",
      "  R [ S * a heavy book a heavy book a heavy book a heavy book a heavy book a heavy book a heavy book]\n",
      "  S [ S 'a' * heavy book a heavy book a heavy book a heavy book a heavy book a heavy book a heavy book]\n",
      "  R [ S DET * heavy book a heavy book a heavy book a heavy book a heavy book a heavy book a heavy book]\n",
      "  S [ S DET 'heavy' * book a heavy book a heavy book a heavy book a heavy book a heavy book a heavy book]\n",
      "  R [ S DET ADJ * book a heavy book a heavy book a heavy book a heavy book a heavy book a heavy book]\n",
      "  S [ S DET ADJ 'book' * a heavy book a heavy book a heavy book a heavy book a heavy book a heavy book]\n",
      "  R [ S DET ADJ NP * a heavy book a heavy book a heavy book a heavy book a heavy book a heavy book]\n",
      "  R [ S DET AD_NP * a heavy book a heavy book a heavy book a heavy book a heavy book a heavy book]\n",
      "  R [ S * a heavy book a heavy book a heavy book a heavy book a heavy book a heavy book]\n",
      "  S [ S 'a' * heavy book a heavy book a heavy book a heavy book a heavy book a heavy book]\n",
      "  R [ S DET * heavy book a heavy book a heavy book a heavy book a heavy book a heavy book]\n",
      "  S [ S DET 'heavy' * book a heavy book a heavy book a heavy book a heavy book a heavy book]\n",
      "  R [ S DET ADJ * book a heavy book a heavy book a heavy book a heavy book a heavy book]\n",
      "  S [ S DET ADJ 'book' * a heavy book a heavy book a heavy book a heavy book a heavy book]\n",
      "  R [ S DET ADJ NP * a heavy book a heavy book a heavy book a heavy book a heavy book]\n",
      "  R [ S DET AD_NP * a heavy book a heavy book a heavy book a heavy book a heavy book]\n",
      "  R [ S * a heavy book a heavy book a heavy book a heavy book a heavy book]\n",
      "  S [ S 'a' * heavy book a heavy book a heavy book a heavy book a heavy book]\n",
      "  R [ S DET * heavy book a heavy book a heavy book a heavy book a heavy book]\n",
      "  S [ S DET 'heavy' * book a heavy book a heavy book a heavy book a heavy book]\n",
      "  R [ S DET ADJ * book a heavy book a heavy book a heavy book a heavy book]\n",
      "  S [ S DET ADJ 'book' * a heavy book a heavy book a heavy book a heavy book]\n",
      "  R [ S DET ADJ NP * a heavy book a heavy book a heavy book a heavy book]\n",
      "  R [ S DET AD_NP * a heavy book a heavy book a heavy book a heavy book]\n",
      "  R [ S * a heavy book a heavy book a heavy book a heavy book]\n",
      "  S [ S 'a' * heavy book a heavy book a heavy book a heavy book]\n",
      "  R [ S DET * heavy book a heavy book a heavy book a heavy book]\n",
      "  S [ S DET 'heavy' * book a heavy book a heavy book a heavy book]\n",
      "  R [ S DET ADJ * book a heavy book a heavy book a heavy book]\n",
      "  S [ S DET ADJ 'book' * a heavy book a heavy book a heavy book]\n",
      "  R [ S DET ADJ NP * a heavy book a heavy book a heavy book]\n",
      "  R [ S DET AD_NP * a heavy book a heavy book a heavy book]\n",
      "  R [ S * a heavy book a heavy book a heavy book]\n",
      "  S [ S 'a' * heavy book a heavy book a heavy book]\n",
      "  R [ S DET * heavy book a heavy book a heavy book]\n",
      "  S [ S DET 'heavy' * book a heavy book a heavy book]\n",
      "  R [ S DET ADJ * book a heavy book a heavy book]\n",
      "  S [ S DET ADJ 'book' * a heavy book a heavy book]\n",
      "  R [ S DET ADJ NP * a heavy book a heavy book]\n",
      "  R [ S DET AD_NP * a heavy book a heavy book]\n",
      "  R [ S * a heavy book a heavy book]\n",
      "  S [ S 'a' * heavy book a heavy book]\n",
      "  R [ S DET * heavy book a heavy book]\n",
      "  S [ S DET 'heavy' * book a heavy book]\n",
      "  R [ S DET ADJ * book a heavy book]\n",
      "  S [ S DET ADJ 'book' * a heavy book]\n",
      "  R [ S DET ADJ NP * a heavy book]\n",
      "  R [ S DET AD_NP * a heavy book]\n",
      "  R [ S * a heavy book]\n",
      "  S [ S 'a' * heavy book]\n",
      "  R [ S DET * heavy book]\n",
      "  S [ S DET 'heavy' * book]\n",
      "  R [ S DET ADJ * book]\n",
      "  S [ S DET ADJ 'book' * ]\n",
      "  R [ S DET ADJ NP * ]\n",
      "  R [ S DET AD_NP * ]\n",
      "  R [ S * ]\n",
      "(S\n",
      "  (S\n",
      "    (S\n",
      "      (S\n",
      "        (S\n",
      "          (S\n",
      "            (S\n",
      "              (S (S2 (NP John) (VP2 (TV2 loves) (NP Mary))))\n",
      "              (DET a)\n",
      "              (AD_NP (ADJ heavy) (NP book)))\n",
      "            (DET a)\n",
      "            (AD_NP (ADJ heavy) (NP book)))\n",
      "          (DET a)\n",
      "          (AD_NP (ADJ heavy) (NP book)))\n",
      "        (DET a)\n",
      "        (AD_NP (ADJ heavy) (NP book)))\n",
      "      (DET a)\n",
      "      (AD_NP (ADJ heavy) (NP book)))\n",
      "    (DET a)\n",
      "    (AD_NP (ADJ heavy) (NP book)))\n",
      "  (DET a)\n",
      "  (AD_NP (ADJ heavy) (NP book)))\n"
     ]
    }
   ],
   "source": [
    "parse_sentence(\"John loves Mary a heavy book a heavy book a heavy book a heavy book a heavy book a heavy book a heavy book\")"
   ]
  },
  {
   "cell_type": "markdown",
   "metadata": {},
   "source": [
    "### Part 1.2\n"
   ]
  },
  {
   "cell_type": "markdown",
   "metadata": {},
   "source": [
    "## Part 2"
   ]
  },
  {
   "cell_type": "markdown",
   "metadata": {},
   "source": [
    "NLTK has a model called generate which is able to generate sentences given a CFG grammer. \n",
    "Our goal in this part is to create a generator for a PCFG instead of a CFG."
   ]
  },
  {
   "cell_type": "markdown",
   "metadata": {},
   "source": [
    "### Part 2.1"
   ]
  },
  {
   "cell_type": "markdown",
   "metadata": {},
   "source": [
    "We will firstly start by writing our generator function, which, given a PCFG, return a tree representing the generation process:"
   ]
  },
  {
   "cell_type": "code",
   "execution_count": 179,
   "metadata": {
    "collapsed": true
   },
   "outputs": [],
   "source": [
    "# generates a tree from a PCFG grammer \n",
    "def pcfg_generate(grammar):\n",
    "    start = grammar.start()\n",
    "    return(pcfg_generate_root(grammar, start))\n",
    "    \n",
    "# generates a tree from a given root based on the PCFG grammer    \n",
    "def pcfg_generate_root(grammar, root):\n",
    "    #if it's not a terminal it means we have to generate from the probabilities\n",
    "    if isinstance(root, Nonterminal):\n",
    "        item_productions = grammar.productions(lhs=root)\n",
    "        dict = {}\n",
    "        for pr in item_productions: dict[pr.rhs()] = pr.prob()\n",
    "        item_probDist = DictionaryProbDist(dict)\n",
    "        prod = item_probDist.generate()\n",
    "        if (len(prod) == 2):\n",
    "            lh = prod[0]\n",
    "            rh = prod[1]\n",
    "            lh_tree = pcfg_generate_root(grammar, lh)\n",
    "            rh_tree = pcfg_generate_root(grammar, rh)\n",
    "            return Tree(root, [lh_tree, rh_tree])\n",
    "        else:\n",
    "            lh = prod[0]\n",
    "            return Tree(root,[pcfg_generate_root(grammar, lh)])\n",
    "           \n",
    "    #if it's a terminal we can just return it\n",
    "    else:\n",
    "        return root"
   ]
  },
  {
   "cell_type": "markdown",
   "metadata": {},
   "source": [
    "Now we can test our function with the *toy_pcfg2* grammer:"
   ]
  },
  {
   "cell_type": "code",
   "execution_count": 187,
   "metadata": {},
   "outputs": [
    {
     "data": {
      "image/png": "[encoded data removed]",
      "text/plain": [
       "Tree(S, [Tree(NP, [Tree(Det, ['the']), Tree(N, ['hill'])]), Tree(VP, [Tree(V, ['ate'])])])"
      ]
     },
     "metadata": {},
     "output_type": "display_data"
    },
    {
     "name": "stdout",
     "output_type": "stream",
     "text": [
      "(S (NP (Det the) (N hill)) (VP (V ate)))\n",
      "         S      \n",
      "      ___|____   \n",
      "     NP       VP\n",
      "  ___|___     |  \n",
      "Det      N    V \n",
      " |       |    |  \n",
      "the     hill ate\n",
      "\n"
     ]
    }
   ],
   "source": [
    "example_tree = pcfg_generate(toy_pcfg2)\n",
    "import IPython\n",
    "IPython.core.display.display(example_tree)\n",
    "example_tree.pprint()\n",
    "Tree.fromstring(example_tree.pformat()).pretty_print()"
   ]
  },
  {
   "cell_type": "markdown",
   "metadata": {},
   "source": [
    "As we can see, not all the resulting sentences makes sense... "
   ]
  },
  {
   "cell_type": "markdown",
   "metadata": {},
   "source": [
    "We will now continue on to do some validations:"
   ]
  },
  {
   "cell_type": "markdown",
   "metadata": {},
   "source": [
    "#### Part 2.1.1"
   ]
  },
  {
   "cell_type": "markdown",
   "metadata": {},
   "source": [
    "The first thing we are going to do is to generate 1000 random trees given the *toy_pcfg2* grammer, and save all resulting trees into a file called \"toy_pcfg2.gen\""
   ]
  },
  {
   "cell_type": "code",
   "execution_count": 195,
   "metadata": {
    "collapsed": true
   },
   "outputs": [],
   "source": [
    "def create_trees_file(n=1000):\n",
    "    for i in range(n):\n",
    "        current_tree = pcfg_generate(toy_pcfg2)\n",
    "        with open(\"toy_pcfg2.gen\", \"a+\") as f:\n",
    "            current_tree.pprint(stream=f)\n",
    "            f.write(\"*\")"
   ]
  },
  {
   "cell_type": "code",
   "execution_count": 196,
   "metadata": {
    "collapsed": true
   },
   "outputs": [],
   "source": [
    "create_trees_file(n=1000)"
   ]
  },
  {
   "cell_type": "markdown",
   "metadata": {},
   "source": [
    "#### Part 2.1.2"
   ]
  },
  {
   "cell_type": "code",
   "execution_count": 214,
   "metadata": {
    "collapsed": true
   },
   "outputs": [],
   "source": [
    "read_file = open(\"toy_pcfg2.gen\", \"r\")\n",
    "buffer = \"\"\n",
    "for line in read_file :\n",
    "    buffer += line\n",
    "trees = buffer.split(\"*\")\n",
    "trees = trees[:len(trees) - 1]"
   ]
  },
  {
   "cell_type": "code",
   "execution_count": 265,
   "metadata": {},
   "outputs": [],
   "source": [
    "toy_sample_productions = []\n",
    "for tree in trees:\n",
    "    toy_sample_productions += Tree.fromstring(tree).productions()"
   ]
  },
  {
   "cell_type": "code",
   "execution_count": 267,
   "metadata": {},
   "outputs": [],
   "source": [
    "#One way of achieving our goal\n",
    "pcfg_induced = induce_pcfg(Nonterminal('S'), toy_sample_productions).productions()"
   ]
  },
  {
   "cell_type": "code",
   "execution_count": 264,
   "metadata": {
    "collapsed": true
   },
   "outputs": [],
   "source": [
    "def calc_productions_probabilities(productions):\n",
    "    #And another way\n",
    "    cfd = nltk.ConditionalFreqDist((production.lhs(), production.rhs()) for production in productions)\n",
    "    cpd_mle = nltk.ConditionalProbDist(cfd, nltk.MLEProbDist)\n",
    "    return cpd_mle"
   ]
  },
  {
   "cell_type": "code",
   "execution_count": 270,
   "metadata": {},
   "outputs": [
    {
     "name": "stdout",
     "output_type": "stream",
     "text": [
      "[S, NP, Name, PP, P, Det, N, VP, V]\n"
     ]
    }
   ],
   "source": [
    "toy_sample_probability = calc_productions_probabilities(toy_sample_productions)\n",
    "print(toy_sample_probability.conditions())"
   ]
  },
  {
   "cell_type": "code",
   "execution_count": 269,
   "metadata": {},
   "outputs": [
    {
     "name": "stdout",
     "output_type": "stream",
     "text": [
      "[S, VP, NP, PP, V, N, Name, P, Det]\n"
     ]
    }
   ],
   "source": [
    "toy_pcfg_probability = calc_productions_probabilities(toy_pcfg2.productions())\n",
    "print(toy_pcfg_probability.conditions())"
   ]
  },
  {
   "cell_type": "markdown",
   "metadata": {},
   "source": [
    "#### Part 2.1.3"
   ]
  },
  {
   "cell_type": "code",
   "execution_count": 296,
   "metadata": {
    "collapsed": true
   },
   "outputs": [],
   "source": [
    "def compute_kl_divergence(p, q, eps=0.0001):\n",
    "    sp = list(p.samples())\n",
    "    cp = len(sp)\n",
    "    sq = list(q.samples())\n",
    "    cq = len(sq)\n",
    "    su = set(sp + sq)\n",
    "    cu = len(su)\n",
    "    pc = eps*((cq)/float(cp))\n",
    "    qc = eps*((cp)/float(cq))\n",
    "    kl = 0.0\n",
    "    for i in su:\n",
    "        if i in sp:\n",
    "             p_i = p.prob(i) - pc\n",
    "        else:\n",
    "            p_i = eps\n",
    "        if i in sq:\n",
    "            q_i = q.prob(i) - qc\n",
    "        else:\n",
    "            q_i = eps\n",
    "            \n",
    "        kl +=  p_i * log( p_i / float(q_i))\n",
    "    return kl"
   ]
  },
  {
   "cell_type": "code",
   "execution_count": 299,
   "metadata": {},
   "outputs": [
    {
     "name": "stdout",
     "output_type": "stream",
     "text": [
      "{S: 0.0, NP: 0.016769055318143367, Name: 0.0033852302910155826, PP: 0.0, P: 0.021369753421888488, Det: 0.013761199547802194, N: 0.22508191881226158, VP: 0.3882076278950367, V: 0.06886553732824867}\n"
     ]
    }
   ],
   "source": [
    "divergence = {}\n",
    "for condition in toy_sample_probability.conditions():\n",
    "    kl = compute_kl_divergence(toy_sample_probability[condition], toy_pcfg_probability[condition])\n",
    "    divergence[condition] = kl\n",
    "print(divergence)"
   ]
  },
  {
   "cell_type": "markdown",
   "metadata": {},
   "source": [
    "#### Part 2.1.4"
   ]
  },
  {
   "cell_type": "markdown",
   "metadata": {},
   "source": []
  },
  {
   "cell_type": "markdown",
   "metadata": {},
   "source": [
    "### Part 2.2"
   ]
  },
  {
   "cell_type": "markdown",
   "metadata": {},
   "source": [
    "#### Part 2.2.1"
   ]
  },
  {
   "cell_type": "code",
   "execution_count": 381,
   "metadata": {},
   "outputs": [],
   "source": [
    "def simplify_functional_tag(tag):\n",
    "    if '-' in tag:\n",
    "        tag = tag.split('-')[0]\n",
    "    # -NONE- tag\n",
    "    if \"\" == tag:\n",
    "        return \" \"\n",
    "    return tag\n"
   ]
  },
  {
   "cell_type": "code",
   "execution_count": 383,
   "metadata": {
    "collapsed": true
   },
   "outputs": [],
   "source": [
    "def get_tag(tree):\n",
    "    if isinstance(tree, Tree):\n",
    "        simplified_tag = simplify_functional_tag(tree.label())\n",
    "        # -NONE- tag\n",
    "        if simplified_tag == \" \":\n",
    "            return \" \"\n",
    "        return Nonterminal(simplify_functional_tag(tree.label()))\n",
    "    else:\n",
    "        return tree\n",
    "\n",
    "def tree_to_production(tree):\n",
    "    # if the root is NONE we don't need to parse it more\n",
    "    if(\" \" == get_tag(tree)):\n",
    "        return\n",
    "    else:\n",
    "        return Production(get_tag(tree), [get_tag(child) for child in tree])\n",
    "\n",
    "def tree_to_productions(tree):\n",
    "    yield tree_to_production(tree)\n",
    "    for child in tree:\n",
    "        if isinstance(child, Tree):\n",
    "            for prod in tree_to_productions(child):\n",
    "                if prod:\n",
    "                    yield prod"
   ]
  },
  {
   "cell_type": "code",
   "execution_count": 384,
   "metadata": {
    "collapsed": true
   },
   "outputs": [],
   "source": [
    "def pcfg_learn(treebank, n):\n",
    "    trees = treebank.parsed_sents()[:n]\n",
    "    trees_productions = []\n",
    "    for tree in trees:\n",
    "        productions = tree_to_productions(tree)\n",
    "        trees_productions += [prod for prod in productions]\n",
    "    pcfg_induced = induce_pcfg(Nonterminal('S'), trees_productions)\n",
    "    return pcfg_induced\n"
   ]
  },
  {
   "cell_type": "code",
   "execution_count": 387,
   "metadata": {},
   "outputs": [],
   "source": [
    "treebank = LazyCorpusLoader('treebank/combined', BracketParseCorpusReader, r'wsj_.*\\.mrg')\n",
    "two_hundred_trees_pcfg = pcfg_learn(treebank, 200)\n",
    "four_hunred_trees_pcfg = pcfg_learn(treebank, 400)"
   ]
  },
  {
   "cell_type": "code",
   "execution_count": null,
   "metadata": {
    "collapsed": true
   },
   "outputs": [],
   "source": [
    "#TODO - answer part 1 questions"
   ]
  },
  {
   "cell_type": "markdown",
   "metadata": {},
   "source": [
    "#### Part 2.2.2"
   ]
  },
  {
   "cell_type": "markdown",
   "metadata": {},
   "source": [
    "Instead of doing what we did in the previous section , we don't want to build a pcfg now, just to watch the frequencies, so what we will do is build a freqDist"
   ]
  },
  {
   "cell_type": "code",
   "execution_count": 422,
   "metadata": {
    "collapsed": true
   },
   "outputs": [],
   "source": [
    "def pcfg_freq(treebank, n):\n",
    "    trees = treebank.parsed_sents()[:n]\n",
    "    trees_productions = []\n",
    "    for tree in trees:\n",
    "        productions = tree_to_productions(tree)\n",
    "        trees_productions += [prod for prod in productions]\n",
    "    pcfg_freq = Counter(trees_productions)\n",
    "    return pcfg_freq"
   ]
  },
  {
   "cell_type": "code",
   "execution_count": 471,
   "metadata": {},
   "outputs": [],
   "source": [
    "two_hundred_trees_freq = pcfg_freq(treebank, 200)"
   ]
  },
  {
   "cell_type": "code",
   "execution_count": 470,
   "metadata": {},
   "outputs": [
    {
     "data": {
      "image/png": "[encoded data removed]",
      "text/plain": [
       "<matplotlib.figure.Figure at 0x7fb86c988cc0>"
      ]
     },
     "metadata": {},
     "output_type": "display_data"
    }
   ],
   "source": [
    "sorted_count = two_hundred_trees_freq.most_common()\n",
    "_, counts = zip(*two_hundred_trees_freq.items())\n",
    "counts = (list(counts))\n",
    "counts.sort()\n",
    "\n",
    "labels, values = zip(*Counter(counts).items())\n",
    "indexes = np.arange(len(labels))\n",
    "\n",
    "\n",
    "plt.figure(num=3, figsize=(8, 6), dpi=80, facecolor='w', edgecolor='k')\n",
    "plt.bar(indexes, values, 1.5)\n",
    "plt.xticks(indexes, labels)\n",
    "plt.show()"
   ]
  }
 ],
 "metadata": {
  "kernelspec": {
   "display_name": "Python 3",
   "language": "python",
   "name": "python3"
  },
  "language_info": {
   "codemirror_mode": {
    "name": "ipython",
    "version": 3
   },
   "file_extension": ".py",
   "mimetype": "text/x-python",
   "name": "python",
   "nbconvert_exporter": "python",
   "pygments_lexer": "ipython3",
   "version": "3.6.4"
  }
 },
 "nbformat": 4,
 "nbformat_minor": 2
}
