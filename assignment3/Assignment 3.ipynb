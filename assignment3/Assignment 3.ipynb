{
 "cells": [
  {
   "cell_type": "markdown",
   "metadata": {},
   "source": [
    "# Assignment 3"
   ]
  },
  {
   "cell_type": "markdown",
   "metadata": {},
   "source": [
    "This notebook is the solution to HW3, written by Yaniv Bin and Tair Hakman."
   ]
  },
  {
   "cell_type": "markdown",
   "metadata": {},
   "source": [
    "We first would like to import all the required modules in order for our code to run properly:"
   ]
  },
  {
   "cell_type": "code",
   "execution_count": 39,
   "metadata": {
    "collapsed": true
   },
   "outputs": [],
   "source": [
    "import nltk\n",
    "from nltk import nonterminals, Nonterminal, Production\n",
    "from nltk import CFG\n",
    "from nltk import PCFG\n",
    "from nltk.parse import generate\n",
    "import itertools\n",
    "from nltk.grammar import Nonterminal\n",
    "from nltk.grammar import toy_pcfg2\n",
    "from nltk.probability import DictionaryProbDist\n",
    "from nltk import Tree\n",
    "from nltk.grammar import Production"
   ]
  },
  {
   "cell_type": "markdown",
   "metadata": {},
   "source": [
    "Now after doing so we can go ahead and solve the tasks."
   ]
  },
  {
   "cell_type": "markdown",
   "metadata": {},
   "source": [
    "## Part 1"
   ]
  },
  {
   "cell_type": "markdown",
   "metadata": {},
   "source": [
    "In the first part of the assignment we will discuss designing CFG for NLP task.\n",
    "<br> We were given the following code which read CFGs from string representation, and parse sentences given a CFG using a  a bottom-up parsing algorithm:"
   ]
  },
  {
   "cell_type": "code",
   "execution_count": 4,
   "metadata": {},
   "outputs": [
    {
     "name": "stdout",
     "output_type": "stream",
     "text": [
      "Parsing 'John left'\n",
      "    [ * John left]\n",
      "  S [ 'John' * left]\n",
      "  R [ NP * left]\n",
      "  S [ NP 'left' * ]\n",
      "  R [ NP IV * ]\n",
      "  R [ NP VP * ]\n",
      "  R [ S * ]\n",
      "(S (NP John) (VP (IV left)))\n",
      "Parsing 'John eats bread'\n",
      "    [ * John eats bread]\n",
      "  S [ 'John' * eats bread]\n",
      "  R [ NP * eats bread]\n",
      "  S [ NP 'eats' * bread]\n",
      "  R [ NP TV * bread]\n",
      "  S [ NP TV 'bread' * ]\n",
      "  R [ NP TV NP * ]\n",
      "  R [ NP VP * ]\n",
      "  R [ S * ]\n",
      "(S (NP John) (VP (TV eats) (NP bread)))\n"
     ]
    }
   ],
   "source": [
    "sg = \"\"\"\n",
    "S -> NP VP\n",
    "VP -> IV | TV NP\n",
    "NP -> 'John' | \"bread\"\n",
    "IV -> 'left'\n",
    "TV -> 'eats'\n",
    "\"\"\"\n",
    "g = CFG.fromstring(sg)\n",
    "\n",
    "# Bottom-up  parser\n",
    "sr_parser = nltk.ShiftReduceParser(g, trace=2)\n",
    "\n",
    "# Parse sentences and observe the behavior of the parser\n",
    "def parse_sentence(sent):\n",
    "    tokens = sent.split()\n",
    "    trees = sr_parser.parse(tokens)\n",
    "    for tree in trees:\n",
    "        print(tree)\n",
    "\n",
    "parse_sentence(\"John left\")\n",
    "parse_sentence(\"John eats bread\")"
   ]
  },
  {
   "cell_type": "markdown",
   "metadata": {},
   "source": [
    "### Part 1.1"
   ]
  },
  {
   "cell_type": "markdown",
   "metadata": {},
   "source": [
    "The first thing we would like to do is to extend the given CFG to support Number agreement, Pronouns and Dative Constructions"
   ]
  },
  {
   "cell_type": "code",
   "execution_count": null,
   "metadata": {
    "collapsed": true
   },
   "outputs": [],
   "source": [
    "sg = \"\"\"\n",
    "S -> NP VP\n",
    "VP -> IV | TV NP | TV \n",
    "NP -> D N | NAME | D ADJ N |\n",
    "D -> 'a'\n",
    "NAME -> 'John' | 'Mary'\n",
    "N -> 'bread' | 'boy' | 'book'\n",
    "SPRO -> 'He' | 'She' | 'It' \n",
    "PPRO -> 'They' | 'Everybody'\n",
    "APRO -> 'Him' | 'Her' | 'Them'\n",
    "IV -> 'left'\n",
    "TV -> 'eats' | 'loves' | 'gave'\n",
    "TVP -> 'love' | 'eat'\n",
    "ADJ -> 'heavy' | 'white'\n",
    "P -> 'to' \n",
    "\"\"\"\n",
    "g = CFG.fromstring(sg)\n",
    "\n",
    "# Bottom-up  parser\n",
    "sr_parser = nltk.ShiftReduceParser(g, trace=2)"
   ]
  },
  {
   "cell_type": "code",
   "execution_count": null,
   "metadata": {
    "collapsed": true
   },
   "outputs": [],
   "source": []
  },
  {
   "cell_type": "markdown",
   "metadata": {},
   "source": [
    "## Part 2"
   ]
  },
  {
   "cell_type": "markdown",
   "metadata": {},
   "source": [
    "NLTK has a model called generate which is able to generate sentences given a CFG grammer. \n",
    "Our goal in this part is to create a generator for a PCFG instead of a CFG."
   ]
  },
  {
   "cell_type": "markdown",
   "metadata": {},
   "source": [
    "### Part 2.1"
   ]
  },
  {
   "cell_type": "markdown",
   "metadata": {},
   "source": [
    "We will firstly start by writing our generator function, which, given a PCFG, return a tree representing the generation process:"
   ]
  },
  {
   "cell_type": "code",
   "execution_count": 179,
   "metadata": {},
   "outputs": [],
   "source": [
    "# generates a tree from a PCFG grammer \n",
    "def pcfg_generate(grammar):\n",
    "    start = grammar.start()\n",
    "    return(pcfg_generate_root(grammar, start))\n",
    "    \n",
    "# generates a tree from a given root based on the PCFG grammer    \n",
    "def pcfg_generate_root(grammar, root):\n",
    "    #if it's not a terminal it means we have to generate from the probabilities\n",
    "    if isinstance(root, Nonterminal):\n",
    "        item_productions = grammar.productions(lhs=root)\n",
    "        dict = {}\n",
    "        for pr in item_productions: dict[pr.rhs()] = pr.prob()\n",
    "        item_probDist = DictionaryProbDist(dict)\n",
    "        prod = item_probDist.generate()\n",
    "        if (len(prod) == 2):\n",
    "            lh = prod[0]\n",
    "            rh = prod[1]\n",
    "            lh_tree = pcfg_generate_root(grammar, lh)\n",
    "            rh_tree = pcfg_generate_root(grammar, rh)\n",
    "            return Tree(root, [lh_tree, rh_tree])\n",
    "        else:\n",
    "            lh = prod[0]\n",
    "            return Tree(root,[pcfg_generate_root(grammar, lh)])\n",
    "           \n",
    "    #if it's a terminal we can just return it\n",
    "    else:\n",
    "        return root"
   ]
  },
  {
   "cell_type": "markdown",
   "metadata": {},
   "source": [
    "Now we can test our function with the *toy_pcfg2* grammer:"
   ]
  },
  {
   "cell_type": "code",
   "execution_count": 187,
   "metadata": {},
   "outputs": [
    {
     "data": {
      "image/png": "[encoded data removed]",
      "text/plain": [
       "Tree(S, [Tree(NP, [Tree(Det, ['the']), Tree(N, ['hill'])]), Tree(VP, [Tree(V, ['ate'])])])"
      ]
     },
     "metadata": {},
     "output_type": "display_data"
    },
    {
     "name": "stdout",
     "output_type": "stream",
     "text": [
      "(S (NP (Det the) (N hill)) (VP (V ate)))\n",
      "         S      \n",
      "      ___|____   \n",
      "     NP       VP\n",
      "  ___|___     |  \n",
      "Det      N    V \n",
      " |       |    |  \n",
      "the     hill ate\n",
      "\n"
     ]
    }
   ],
   "source": [
    "example_tree = pcfg_generate(toy_pcfg2)\n",
    "import IPython\n",
    "IPython.core.display.display(example_tree)\n",
    "example_tree.pprint()\n",
    "Tree.fromstring(example_tree.pformat()).pretty_print()"
   ]
  },
  {
   "cell_type": "markdown",
   "metadata": {},
   "source": [
    "As we can see, not all the resulting sentences makes sense... "
   ]
  },
  {
   "cell_type": "markdown",
   "metadata": {},
   "source": [
    "We will now continue on to do some validations:"
   ]
  },
  {
   "cell_type": "markdown",
   "metadata": {},
   "source": [
    "#### Part 2.1.1"
   ]
  },
  {
   "cell_type": "markdown",
   "metadata": {},
   "source": [
    "The first thing we are going to do is to generate 1000 random trees given the *toy_pcfg2* grammer, and save all resulting trees into a file called \"toy_pcfg2.gen\""
   ]
  },
  {
   "cell_type": "code",
   "execution_count": 195,
   "metadata": {
    "collapsed": true
   },
   "outputs": [],
   "source": [
    "def create_trees_file(n=1000):\n",
    "    for i in range(n):\n",
    "        current_tree = pcfg_generate(toy_pcfg2)\n",
    "        with open(\"toy_pcfg2.gen\", \"a+\") as f:\n",
    "            current_tree.pprint(stream=f)\n",
    "            f.write(\"*\")"
   ]
  },
  {
   "cell_type": "code",
   "execution_count": 196,
   "metadata": {},
   "outputs": [],
   "source": [
    "create_trees_file(n=1000)"
   ]
  },
  {
   "cell_type": "code",
   "execution_count": 214,
   "metadata": {},
   "outputs": [],
   "source": [
    "read_file = open(\"toy_pcfg2.gen\", \"r\")\n",
    "buffer = \"\"\n",
    "for line in read_file :\n",
    "    buffer += line\n",
    "trees = buffer.split(\"*\")\n",
    "trees = trees[:len(trees) - 1]"
   ]
  },
  {
   "cell_type": "code",
   "execution_count": 217,
   "metadata": {},
   "outputs": [
    {
     "data": {
      "text/plain": [
       "[S -> NP VP [1.0],\n",
       " NP -> NP PP [0.306984],\n",
       " NP -> Name [0.274248],\n",
       " Name -> 'Bob' [0.458886],\n",
       " PP -> P NP [1.0],\n",
       " P -> 'under' [0.397013],\n",
       " NP -> Det N [0.418768],\n",
       " Det -> 'the' [0.40938],\n",
       " N -> 'hill' [0.49971],\n",
       " VP -> V NP [0.582505],\n",
       " V -> 'ran' [0.275],\n",
       " Det -> 'a' [0.313839],\n",
       " N -> 'table' [0.115808],\n",
       " P -> 'with' [0.602987],\n",
       " Name -> 'Jack' [0.541114],\n",
       " Det -> 'my' [0.276781],\n",
       " VP -> V [0.411531],\n",
       " V -> 'ate' [0.509],\n",
       " N -> 'boy' [0.112913],\n",
       " N -> 'telescope' [0.143023],\n",
       " N -> 'cookie' [0.128547],\n",
       " V -> 'saw' [0.216],\n",
       " VP -> VP PP [0.00596421]]"
      ]
     },
     "execution_count": 217,
     "metadata": {},
     "output_type": "execute_result"
    }
   ],
   "source": [
    "from nltk import induce_pcfg\n",
    "productions = []\n",
    "for tree in trees:\n",
    "    productions += Tree.fromstring(tree).productions()\n",
    "induce_pcfg(Nonterminal('S'), productions).productions()"
   ]
  }
 ],
 "metadata": {
  "kernelspec": {
   "display_name": "Python 3",
   "language": "python",
   "name": "python3"
  },
  "language_info": {
   "codemirror_mode": {
    "name": "ipython",
    "version": 3
   },
   "file_extension": ".py",
   "mimetype": "text/x-python",
   "name": "python",
   "nbconvert_exporter": "python",
   "pygments_lexer": "ipython3",
   "version": "3.6.3"
  }
 },
 "nbformat": 4,
 "nbformat_minor": 2
}
